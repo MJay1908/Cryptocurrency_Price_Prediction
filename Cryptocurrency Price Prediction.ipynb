{
 "cells": [
  {
   "cell_type": "markdown",
   "metadata": {
    "_cell_guid": "6fcdcf24-cfee-4c50-b031-db07e9fca09f",
    "_uuid": "b06ac502816f0e04f7b30e248ee2228351839f37"
   },
   "source": [
    "---\n",
    "<u><h1>Bitcoin Price forecasting with LSTM and GRU</h1></u>\n",
    "---\n",
    "---"
   ]
  },
  {
   "cell_type": "markdown",
   "metadata": {
    "_cell_guid": "633e6b60-6a73-4872-84fe-a8d5609690f4",
    "_uuid": "4d752f92c93e81968730924492173a8df65c0d82"
   },
   "source": [
    "Bitcoin is the first decentralized digital currency. This means it is not governed by any central bank or some other authority. This cryptocurrency was created in the 2009 year but it becomes extremely popular in the 2017 year. Some experts call bitcoin \"the currency of the future\" or even lead it as an example of the social revolution. The bitcoin price has increased several times during the 2017 year. At the same time, it is very volatile. Many economic entities are interested in tools for forecasting the bitcoin prices. It is especially important for existing or potential investors and for government structures. The last needs to be ready for significant price movements to prepare consistent economic policy. So, the demand for Bitcoin price prediction mechanism is high.\n",
    "\n",
    "This notebook demonstrates the prediction of the bitcoin price by the neural network model. We are using 2-layers long short term memory (LSTM) as well as Gated Recurrent Unit (GRU) architecture of the Recurrent neural network (RNN). You can read more about these types of NN here:\n",
    "\n",
    "* https://deeplearning4j.org/lstm.html\n",
    "* http://colah.github.io/posts/2015-08-Understanding-LSTMs/\n",
    "* https://arxiv.org/pdf/1412.3555v1.pdf\n",
    "* http://karpathy.github.io/2015/05/21/rnn-effectiveness/\n",
    "\n",
    "The dataset we are using is available here: [Bitcoin Historical Data](https://www.kaggle.com/mczielinski/bitcoin-historical-data/data)\n",
    "\n",
    "The first thing we do is **importing** all the necessary python libraries."
   ]
  },
  {
   "cell_type": "code",
   "execution_count": 1,
   "metadata": {
    "_cell_guid": "bebacf25-09bb-48db-959e-e24e0d597042",
    "_uuid": "275f57000394bcd304aadac3297c68ae4b9438f2"
   },
   "outputs": [
    {
     "data": {
      "text/html": [
       "        <script type=\"text/javascript\">\n",
       "        window.PlotlyConfig = {MathJaxConfig: 'local'};\n",
       "        if (window.MathJax && window.MathJax.Hub && window.MathJax.Hub.Config) {window.MathJax.Hub.Config({SVG: {font: \"STIX-Web\"}});}\n",
       "        if (typeof require !== 'undefined') {\n",
       "        require.undef(\"plotly\");\n",
       "        requirejs.config({\n",
       "            paths: {\n",
       "                'plotly': ['https://cdn.plot.ly/plotly-2.24.1.min']\n",
       "            }\n",
       "        });\n",
       "        require(['plotly'], function(Plotly) {\n",
       "            window._Plotly = Plotly;\n",
       "        });\n",
       "        }\n",
       "        </script>\n",
       "        "
      ]
     },
     "metadata": {},
     "output_type": "display_data"
    }
   ],
   "source": [
    "import warnings\n",
    "warnings.filterwarnings(\"ignore\")\n",
    "\n",
    "import numpy as np\n",
    "import pandas as pd\n",
    "import statsmodels.api as sm\n",
    "from scipy import stats\n",
    "from sklearn.metrics import mean_squared_error\n",
    "from math import sqrt\n",
    "from random import randint\n",
    "from keras.models import Sequential\n",
    "from keras.layers import Dense\n",
    "from keras.layers import LSTM\n",
    "from keras.layers import GRU\n",
    "from keras.callbacks import EarlyStopping\n",
    "from keras import initializers\n",
    "from matplotlib import pyplot\n",
    "from datetime import datetime\n",
    "from matplotlib import pyplot as plt\n",
    "import plotly.offline as py\n",
    "import plotly.graph_objs as go\n",
    "py.init_notebook_mode(connected=True)\n",
    "%matplotlib inline"
   ]
  },
  {
   "cell_type": "markdown",
   "metadata": {
    "_cell_guid": "b429cc14-79ea-4d7b-a712-ee6aab2c6746",
    "_uuid": "a730e42a11f2a2f5f42eb01e0e056fcb6e9cf5dd"
   },
   "source": [
    "Now we **load the dataset** in the memory and testing it for the presence of the null values:"
   ]
  },
  {
   "cell_type": "code",
   "execution_count": 2,
   "metadata": {
    "_cell_guid": "e78285ac-c23e-4862-ba33-3f78c3f01209",
    "_uuid": "ee56fb2e069263d2e69988e9e505271d7962e6ba"
   },
   "outputs": [
    {
     "data": {
      "text/plain": [
       "True"
      ]
     },
     "execution_count": 2,
     "metadata": {},
     "output_type": "execute_result"
    }
   ],
   "source": [
    "data = pd.read_csv('BitVision-Dataset.csv')\n",
    "data.isnull().values.any()"
   ]
  },
  {
   "cell_type": "markdown",
   "metadata": {
    "_cell_guid": "7f4dfa83-0ed9-42ee-865d-0112a168b1b8",
    "_uuid": "9aef2e2ea28556c94e65a644a5502baa602b1f48"
   },
   "source": [
    "We can see that there are not null values. Now we want to preview the head of the dataset to know the structure of the data:"
   ]
  },
  {
   "cell_type": "code",
   "execution_count": 3,
   "metadata": {
    "_cell_guid": "692083c4-1992-4f26-a0be-be414b377fa2",
    "_uuid": "906e9ec3fa31cf4834bd518713cb8b8d42d8d57d"
   },
   "outputs": [
    {
     "data": {
      "text/html": [
       "<div>\n",
       "<style scoped>\n",
       "    .dataframe tbody tr th:only-of-type {\n",
       "        vertical-align: middle;\n",
       "    }\n",
       "\n",
       "    .dataframe tbody tr th {\n",
       "        vertical-align: top;\n",
       "    }\n",
       "\n",
       "    .dataframe thead th {\n",
       "        text-align: right;\n",
       "    }\n",
       "</style>\n",
       "<table border=\"1\" class=\"dataframe\">\n",
       "  <thead>\n",
       "    <tr style=\"text-align: right;\">\n",
       "      <th></th>\n",
       "      <th>Timestamp</th>\n",
       "      <th>Open</th>\n",
       "      <th>High</th>\n",
       "      <th>Low</th>\n",
       "      <th>Close</th>\n",
       "      <th>Volume_(BTC)</th>\n",
       "      <th>Volume_(Currency)</th>\n",
       "      <th>Weighted_Price</th>\n",
       "    </tr>\n",
       "  </thead>\n",
       "  <tbody>\n",
       "    <tr>\n",
       "      <th>0</th>\n",
       "      <td>1325317920</td>\n",
       "      <td>4.39</td>\n",
       "      <td>4.39</td>\n",
       "      <td>4.39</td>\n",
       "      <td>4.39</td>\n",
       "      <td>0.455581</td>\n",
       "      <td>2.0</td>\n",
       "      <td>4.39</td>\n",
       "    </tr>\n",
       "    <tr>\n",
       "      <th>1</th>\n",
       "      <td>1325317980</td>\n",
       "      <td>NaN</td>\n",
       "      <td>NaN</td>\n",
       "      <td>NaN</td>\n",
       "      <td>NaN</td>\n",
       "      <td>NaN</td>\n",
       "      <td>NaN</td>\n",
       "      <td>NaN</td>\n",
       "    </tr>\n",
       "    <tr>\n",
       "      <th>2</th>\n",
       "      <td>1325318040</td>\n",
       "      <td>NaN</td>\n",
       "      <td>NaN</td>\n",
       "      <td>NaN</td>\n",
       "      <td>NaN</td>\n",
       "      <td>NaN</td>\n",
       "      <td>NaN</td>\n",
       "      <td>NaN</td>\n",
       "    </tr>\n",
       "    <tr>\n",
       "      <th>3</th>\n",
       "      <td>1325318100</td>\n",
       "      <td>NaN</td>\n",
       "      <td>NaN</td>\n",
       "      <td>NaN</td>\n",
       "      <td>NaN</td>\n",
       "      <td>NaN</td>\n",
       "      <td>NaN</td>\n",
       "      <td>NaN</td>\n",
       "    </tr>\n",
       "    <tr>\n",
       "      <th>4</th>\n",
       "      <td>1325318160</td>\n",
       "      <td>NaN</td>\n",
       "      <td>NaN</td>\n",
       "      <td>NaN</td>\n",
       "      <td>NaN</td>\n",
       "      <td>NaN</td>\n",
       "      <td>NaN</td>\n",
       "      <td>NaN</td>\n",
       "    </tr>\n",
       "    <tr>\n",
       "      <th>5</th>\n",
       "      <td>1325318220</td>\n",
       "      <td>NaN</td>\n",
       "      <td>NaN</td>\n",
       "      <td>NaN</td>\n",
       "      <td>NaN</td>\n",
       "      <td>NaN</td>\n",
       "      <td>NaN</td>\n",
       "      <td>NaN</td>\n",
       "    </tr>\n",
       "    <tr>\n",
       "      <th>6</th>\n",
       "      <td>1325318280</td>\n",
       "      <td>NaN</td>\n",
       "      <td>NaN</td>\n",
       "      <td>NaN</td>\n",
       "      <td>NaN</td>\n",
       "      <td>NaN</td>\n",
       "      <td>NaN</td>\n",
       "      <td>NaN</td>\n",
       "    </tr>\n",
       "    <tr>\n",
       "      <th>7</th>\n",
       "      <td>1325318340</td>\n",
       "      <td>NaN</td>\n",
       "      <td>NaN</td>\n",
       "      <td>NaN</td>\n",
       "      <td>NaN</td>\n",
       "      <td>NaN</td>\n",
       "      <td>NaN</td>\n",
       "      <td>NaN</td>\n",
       "    </tr>\n",
       "    <tr>\n",
       "      <th>8</th>\n",
       "      <td>1325318400</td>\n",
       "      <td>NaN</td>\n",
       "      <td>NaN</td>\n",
       "      <td>NaN</td>\n",
       "      <td>NaN</td>\n",
       "      <td>NaN</td>\n",
       "      <td>NaN</td>\n",
       "      <td>NaN</td>\n",
       "    </tr>\n",
       "    <tr>\n",
       "      <th>9</th>\n",
       "      <td>1325318460</td>\n",
       "      <td>NaN</td>\n",
       "      <td>NaN</td>\n",
       "      <td>NaN</td>\n",
       "      <td>NaN</td>\n",
       "      <td>NaN</td>\n",
       "      <td>NaN</td>\n",
       "      <td>NaN</td>\n",
       "    </tr>\n",
       "  </tbody>\n",
       "</table>\n",
       "</div>"
      ],
      "text/plain": [
       "    Timestamp  Open  High   Low  Close  Volume_(BTC)  Volume_(Currency)  \\\n",
       "0  1325317920  4.39  4.39  4.39   4.39      0.455581                2.0   \n",
       "1  1325317980   NaN   NaN   NaN    NaN           NaN                NaN   \n",
       "2  1325318040   NaN   NaN   NaN    NaN           NaN                NaN   \n",
       "3  1325318100   NaN   NaN   NaN    NaN           NaN                NaN   \n",
       "4  1325318160   NaN   NaN   NaN    NaN           NaN                NaN   \n",
       "5  1325318220   NaN   NaN   NaN    NaN           NaN                NaN   \n",
       "6  1325318280   NaN   NaN   NaN    NaN           NaN                NaN   \n",
       "7  1325318340   NaN   NaN   NaN    NaN           NaN                NaN   \n",
       "8  1325318400   NaN   NaN   NaN    NaN           NaN                NaN   \n",
       "9  1325318460   NaN   NaN   NaN    NaN           NaN                NaN   \n",
       "\n",
       "   Weighted_Price  \n",
       "0            4.39  \n",
       "1             NaN  \n",
       "2             NaN  \n",
       "3             NaN  \n",
       "4             NaN  \n",
       "5             NaN  \n",
       "6             NaN  \n",
       "7             NaN  \n",
       "8             NaN  \n",
       "9             NaN  "
      ]
     },
     "execution_count": 3,
     "metadata": {},
     "output_type": "execute_result"
    }
   ],
   "source": [
    "data.head(10)"
   ]
  },
  {
   "cell_type": "markdown",
   "metadata": {
    "_cell_guid": "443a79eb-3327-4b72-b491-975d5f40ca65",
    "_uuid": "dc16d401a088cd40fc4b69433afce913ce8d4f59"
   },
   "source": [
    "We want to **transform the data** to get the average price grouped by the day and to see usual datetime format (not a timestamp as above)."
   ]
  },
  {
   "cell_type": "code",
   "execution_count": 4,
   "metadata": {
    "_cell_guid": "b17c4a36-78ca-4401-b1a4-366232e30c48",
    "_uuid": "81683953a2083169f9a5c48317a8219650e0805c"
   },
   "outputs": [
    {
     "data": {
      "text/plain": [
       "date\n",
       "2011-12-31    4.471603\n",
       "2012-01-01    4.806667\n",
       "2012-01-02    5.000000\n",
       "2012-01-03    5.252500\n",
       "2012-01-04    5.208159\n",
       "Name: Weighted_Price, dtype: float64"
      ]
     },
     "execution_count": 4,
     "metadata": {},
     "output_type": "execute_result"
    }
   ],
   "source": [
    "data['date'] = pd.to_datetime(data['Timestamp'],unit='s').dt.date\n",
    "group = data.groupby('date')\n",
    "Daily_Price = group['Weighted_Price'].mean()\n",
    "\n",
    "Daily_Price.head()"
   ]
  },
  {
   "cell_type": "code",
   "execution_count": 5,
   "metadata": {
    "_cell_guid": "0f744f90-3990-41f3-8acc-6a2de6f41a55",
    "_uuid": "18fbecfb11e4c703c849104f9bfdd204d6cfa92c"
   },
   "outputs": [
    {
     "data": {
      "text/plain": [
       "date\n",
       "2021-03-27    55193.357260\n",
       "2021-03-28    55832.958824\n",
       "2021-03-29    56913.993819\n",
       "2021-03-30    58346.912268\n",
       "2021-03-31    58764.349363\n",
       "Name: Weighted_Price, dtype: float64"
      ]
     },
     "execution_count": 5,
     "metadata": {},
     "output_type": "execute_result"
    }
   ],
   "source": [
    "Daily_Price.tail()"
   ]
  },
  {
   "cell_type": "markdown",
   "metadata": {
    "_cell_guid": "624771f3-2ed4-4acc-9d49-b3f321af6b1a",
    "_uuid": "44c2f15458482dcd8aa45df13eb28194387714c5"
   },
   "source": [
    "We need to **split our dataset** because we want to train and test the model only on some chunk of the data. So, in the next cell, we are counting the necessary parameters for splitting (number of days between some dates). We want to train our model on the data from January 1, 2016 until August 21, 2017 and to test the model on the data from August 21, 2017 until October 20, 2017."
   ]
  },
  {
   "cell_type": "code",
   "execution_count": 6,
   "metadata": {
    "_cell_guid": "67035c16-42c6-4f46-9c8c-406365cf8906",
    "_uuid": "d5b105c489dbff9ef2ba0d1eacfaed90b980488e"
   },
   "outputs": [
    {
     "name": "stdout",
     "output_type": "stream",
     "text": [
      "654\n",
      "61\n",
      "6\n"
     ]
    }
   ],
   "source": [
    "from datetime import date\n",
    "d0 = date(2016, 1, 1)\n",
    "d1 = date(2017, 10, 15)\n",
    "delta = d1 - d0\n",
    "days_look = delta.days + 1\n",
    "print(days_look)\n",
    "\n",
    "d0 = date(2017, 8, 21)\n",
    "d1 = date(2017, 10, 20)\n",
    "delta = d1 - d0\n",
    "days_from_train = delta.days + 1\n",
    "print(days_from_train)\n",
    "\n",
    "d0 = date(2017, 10, 15)\n",
    "d1 = date(2017, 10, 20)\n",
    "delta = d1 - d0\n",
    "days_from_end = delta.days + 1\n",
    "print(days_from_end)"
   ]
  },
  {
   "cell_type": "markdown",
   "metadata": {
    "_cell_guid": "72fdd52a-5612-4fc5-b859-fe3b00d4f629",
    "_uuid": "70ad4eae5a4439512296fdf3ccdef03bca1b43ca"
   },
   "source": [
    "Now we are splitting our data into the train and test set:"
   ]
  },
  {
   "cell_type": "code",
   "execution_count": 7,
   "metadata": {
    "_cell_guid": "45f7400b-950e-40e8-aa4f-95652cb4d5c6",
    "_uuid": "9c463ebfdb3856de059a10a17518bce260457f4c"
   },
   "outputs": [],
   "source": [
    "df_train= Daily_Price[len(Daily_Price)-days_look-days_from_end:len(Daily_Price)-days_from_train]\n",
    "df_test= Daily_Price[len(Daily_Price)-days_from_train:]\n",
    "\n",
    "# print(len(df_train), len(df_test)\n",
    "# new_df= pd.DataFrame(list(Daily_Price), index = Daily_Price.index, columns = [\"Close\"])\n",
    "# new_df.head()\n",
    "# plt.plot(new_df)\n",
    "\n",
    "# df_train=Daily_Price[0:2000] \n",
    "# df_test=Daily_Price[2000:]\n",
    "# print(test.head())"
   ]
  },
  {
   "cell_type": "code",
   "execution_count": 8,
   "metadata": {},
   "outputs": [
    {
     "data": {
      "text/plain": [
       "date\n",
       "2019-06-11    7896.830013\n",
       "2019-06-12    8036.509588\n",
       "2019-06-13    8169.588232\n",
       "2019-06-14    8353.217492\n",
       "2019-06-15    8727.687036\n",
       "Name: Weighted_Price, dtype: float64"
      ]
     },
     "execution_count": 8,
     "metadata": {},
     "output_type": "execute_result"
    }
   ],
   "source": [
    "df_train.head()"
   ]
  },
  {
   "cell_type": "markdown",
   "metadata": {
    "_cell_guid": "2333b0f8-b5a5-40a1-974c-65b0e3e65ba6",
    "_uuid": "2e5109c323c820b619a9fe32b7b62551c14a4fd0"
   },
   "source": [
    "# Exploratory Data Analysis\n",
    "\n",
    "We want to estimate some parameters of our data because this can be useful in the further model designing. \n",
    "The first important thing when forecasting time series is to **check if the data is stationary**. This means that our data is influenced by such factors as trend or seasonality. \n",
    "\n",
    "In the next cell, we concatenate train and test data to make analysis and transformations simultaneously."
   ]
  },
  {
   "cell_type": "code",
   "execution_count": 9,
   "metadata": {
    "_cell_guid": "69ed706e-30e4-468b-b59d-015f01fc9588",
    "_uuid": "1a955cc3ad5420393569fed28fc8c240f3f1a56d"
   },
   "outputs": [],
   "source": [
    "working_data = [df_train, df_test]\n",
    "working_data = pd.concat(working_data)\n",
    "\n",
    "working_data = working_data.reset_index()\n",
    "working_data['date'] = pd.to_datetime(working_data['date'])\n",
    "working_data = working_data.set_index('date')"
   ]
  },
  {
   "cell_type": "markdown",
   "metadata": {
    "_cell_guid": "fcc4bd4e-3887-4780-b989-35892e836998",
    "_uuid": "cb51e299cbbeecf65eb45dbdaa7801b4beb07405"
   },
   "source": [
    "In the next couple of cells, we perform seasonal decomposition of the data to estimate its trend and seasonality. You can see actual price movements on the plot below (\"observed\") as well as the trend and seasonality in our data. "
   ]
  },
  {
   "cell_type": "code",
   "execution_count": 10,
   "metadata": {
    "_cell_guid": "3329159a-05a1-4d3d-ba0c-70ea16739bec",
    "_uuid": "5b48e5c15ad389d7f0821eb1b6a86584091a172d"
   },
   "outputs": [],
   "source": [
    "s = sm.tsa.seasonal_decompose(working_data.Weighted_Price.values, period=60)"
   ]
  },
  {
   "cell_type": "code",
   "execution_count": 11,
   "metadata": {
    "_cell_guid": "ed7763d4-7677-41f2-91d4-71a2124def45",
    "_uuid": "b2eae438265ab1b409090e228c7a110cec6b29d6"
   },
   "outputs": [
    {
     "data": {
      "application/vnd.plotly.v1+json": {
       "config": {
        "linkText": "Export to plot.ly",
        "plotlyServerURL": "https://plot.ly",
        "showLink": false
       },
       "data": [
        {
         "line": {
          "color": "rgb(244, 146, 65)",
          "width": 4
         },
         "mode": "lines",
         "name": "Trend",
         "type": "scatter",
         "x": [
          0,
          1,
          2,
          3,
          4,
          5,
          6,
          7,
          8,
          9,
          10,
          11,
          12,
          13,
          14,
          15,
          16,
          17,
          18,
          19,
          20,
          21,
          22,
          23,
          24,
          25,
          26,
          27,
          28,
          29,
          30,
          31,
          32,
          33,
          34,
          35,
          36,
          37,
          38,
          39,
          40,
          41,
          42,
          43,
          44,
          45,
          46,
          47,
          48,
          49,
          50,
          51,
          52,
          53,
          54,
          55,
          56,
          57,
          58,
          59,
          60,
          61,
          62,
          63,
          64,
          65,
          66,
          67,
          68,
          69,
          70,
          71,
          72,
          73,
          74,
          75,
          76,
          77,
          78,
          79,
          80,
          81,
          82,
          83,
          84,
          85,
          86,
          87,
          88,
          89,
          90,
          91,
          92,
          93,
          94,
          95,
          96,
          97,
          98,
          99,
          100,
          101,
          102,
          103,
          104,
          105,
          106,
          107,
          108,
          109,
          110,
          111,
          112,
          113,
          114,
          115,
          116,
          117,
          118,
          119,
          120,
          121,
          122,
          123,
          124,
          125,
          126,
          127,
          128,
          129,
          130,
          131,
          132,
          133,
          134,
          135,
          136,
          137,
          138,
          139,
          140,
          141,
          142,
          143,
          144,
          145,
          146,
          147,
          148,
          149,
          150,
          151,
          152,
          153,
          154,
          155,
          156,
          157,
          158,
          159,
          160,
          161,
          162,
          163,
          164,
          165,
          166,
          167,
          168,
          169,
          170,
          171,
          172,
          173,
          174,
          175,
          176,
          177,
          178,
          179,
          180,
          181,
          182,
          183,
          184,
          185,
          186,
          187,
          188,
          189,
          190,
          191,
          192,
          193,
          194,
          195,
          196,
          197,
          198,
          199,
          200,
          201,
          202,
          203,
          204,
          205,
          206,
          207,
          208,
          209,
          210,
          211,
          212,
          213,
          214,
          215,
          216,
          217,
          218,
          219,
          220,
          221,
          222,
          223,
          224,
          225,
          226,
          227,
          228,
          229,
          230,
          231,
          232,
          233,
          234,
          235,
          236,
          237,
          238,
          239,
          240,
          241,
          242,
          243,
          244,
          245,
          246,
          247,
          248,
          249,
          250,
          251,
          252,
          253,
          254,
          255,
          256,
          257,
          258,
          259,
          260,
          261,
          262,
          263,
          264,
          265,
          266,
          267,
          268,
          269,
          270,
          271,
          272,
          273,
          274,
          275,
          276,
          277,
          278,
          279,
          280,
          281,
          282,
          283,
          284,
          285,
          286,
          287,
          288,
          289,
          290,
          291,
          292,
          293,
          294,
          295,
          296,
          297,
          298,
          299,
          300,
          301,
          302,
          303,
          304,
          305,
          306,
          307,
          308,
          309,
          310,
          311,
          312,
          313,
          314,
          315,
          316,
          317,
          318,
          319,
          320,
          321,
          322,
          323,
          324,
          325,
          326,
          327,
          328,
          329,
          330,
          331,
          332,
          333,
          334,
          335,
          336,
          337,
          338,
          339,
          340,
          341,
          342,
          343,
          344,
          345,
          346,
          347,
          348,
          349,
          350,
          351,
          352,
          353,
          354,
          355,
          356,
          357,
          358,
          359,
          360,
          361,
          362,
          363,
          364,
          365,
          366,
          367,
          368,
          369,
          370,
          371,
          372,
          373,
          374,
          375,
          376,
          377,
          378,
          379,
          380,
          381,
          382,
          383,
          384,
          385,
          386,
          387,
          388,
          389,
          390,
          391,
          392,
          393,
          394,
          395,
          396,
          397,
          398,
          399,
          400,
          401,
          402,
          403,
          404,
          405,
          406,
          407,
          408,
          409,
          410,
          411,
          412,
          413,
          414,
          415,
          416,
          417,
          418,
          419,
          420,
          421,
          422,
          423,
          424,
          425,
          426,
          427,
          428,
          429,
          430,
          431,
          432,
          433,
          434,
          435,
          436,
          437,
          438,
          439,
          440,
          441,
          442,
          443,
          444,
          445,
          446,
          447,
          448,
          449,
          450,
          451,
          452,
          453,
          454,
          455,
          456,
          457,
          458,
          459,
          460,
          461,
          462,
          463,
          464,
          465,
          466,
          467,
          468,
          469,
          470,
          471,
          472,
          473,
          474,
          475,
          476,
          477,
          478,
          479,
          480,
          481,
          482,
          483,
          484,
          485,
          486,
          487,
          488,
          489,
          490,
          491,
          492,
          493,
          494,
          495,
          496,
          497,
          498,
          499,
          500,
          501,
          502,
          503,
          504,
          505,
          506,
          507,
          508,
          509,
          510,
          511,
          512,
          513,
          514,
          515,
          516,
          517,
          518,
          519,
          520,
          521,
          522,
          523,
          524,
          525,
          526,
          527,
          528,
          529,
          530,
          531,
          532,
          533,
          534,
          535,
          536,
          537,
          538,
          539,
          540,
          541,
          542,
          543,
          544,
          545,
          546,
          547,
          548,
          549,
          550,
          551,
          552,
          553,
          554,
          555,
          556,
          557,
          558,
          559,
          560,
          561,
          562,
          563,
          564,
          565,
          566,
          567,
          568,
          569,
          570,
          571,
          572,
          573,
          574,
          575,
          576,
          577,
          578,
          579,
          580,
          581,
          582,
          583,
          584,
          585,
          586,
          587,
          588,
          589,
          590,
          591,
          592,
          593,
          594,
          595,
          596,
          597,
          598,
          599,
          600,
          601,
          602,
          603,
          604,
          605,
          606,
          607,
          608,
          609,
          610,
          611,
          612,
          613,
          614,
          615,
          616,
          617,
          618,
          619,
          620,
          621,
          622,
          623,
          624,
          625,
          626,
          627,
          628,
          629,
          630,
          631,
          632,
          633,
          634,
          635,
          636,
          637,
          638,
          639,
          640,
          641,
          642,
          643,
          644,
          645,
          646,
          647,
          648,
          649,
          650,
          651,
          652,
          653,
          654,
          655,
          656,
          657,
          658,
          659
         ],
         "y": [
          null,
          null,
          null,
          null,
          null,
          null,
          null,
          null,
          null,
          null,
          null,
          null,
          null,
          null,
          null,
          null,
          null,
          null,
          null,
          null,
          null,
          null,
          null,
          null,
          null,
          null,
          null,
          null,
          null,
          null,
          10559.593730450304,
          10618.124266317986,
          10672.852338798893,
          10722.935145301306,
          10760.395770001407,
          10782.285691360381,
          10798.207922701142,
          10816.030358790205,
          10835.099897335787,
          10855.15736248191,
          10873.599537950005,
          10877.099512507251,
          10866.838867285256,
          10856.140744621256,
          10841.611964544252,
          10810.751958847048,
          10777.403548152719,
          10752.696185113266,
          10725.047282549393,
          10693.08707734954,
          10666.61291532306,
          10651.079557764902,
          10630.838305815492,
          10601.448984767956,
          10581.23672101441,
          10568.995343530076,
          10555.67598509671,
          10540.00183640569,
          10513.143747521095,
          10477.5043295125,
          10448.584875556298,
          10426.534699929407,
          10403.795332672087,
          10387.109755929914,
          10380.959787810967,
          10380.005869817696,
          10386.051529184506,
          10393.865190502354,
          10393.38754116477,
          10387.211343464549,
          10378.266183899108,
          10371.06732899098,
          10368.498303333949,
          10370.530591001483,
          10371.670919700016,
          10367.579712476218,
          10353.989987236015,
          10333.051150693658,
          10310.271608223171,
          10286.256496532304,
          10259.877726475983,
          10228.242050288054,
          10193.865217543216,
          10155.198290369704,
          10112.671376292039,
          10061.796656274144,
          10001.974953987976,
          9940.467867186197,
          9878.035729069037,
          9816.616154795345,
          9759.534675819516,
          9709.055943639209,
          9660.607825604962,
          9612.276034456232,
          9571.579290695008,
          9540.055054716186,
          9509.477537572171,
          9474.491486709347,
          9437.06233772956,
          9396.12519813763,
          9350.74743313422,
          9309.360847949049,
          9276.046814027679,
          9243.647281423888,
          9206.288756834041,
          9164.042978487452,
          9121.411998423435,
          9093.746735819797,
          9081.37960629713,
          9075.780150815366,
          9074.16478900021,
          9069.568057740396,
          9062.44847983259,
          9052.033170723798,
          9035.057928214845,
          9013.497425589707,
          8991.383489899117,
          8969.521236546148,
          8949.477696609683,
          8930.206061171366,
          8908.99272685727,
          8886.222317465104,
          8864.746710408215,
          8843.13137595637,
          8818.055238952727,
          8791.586137440527,
          8764.461272410774,
          8736.345106569066,
          8707.51473267358,
          8678.951944940598,
          8651.522229724946,
          8620.942864316521,
          8587.620716567928,
          8553.692871491814,
          8514.799856859472,
          8475.496385037783,
          8446.466063094062,
          8424.86165600603,
          8406.628731176845,
          8391.587193564374,
          8379.433708778612,
          8370.997625034424,
          8361.254941919715,
          8347.815007182422,
          8332.484654018092,
          8317.792194277978,
          8303.96928000553,
          8291.616371638453,
          8280.891882416647,
          8269.953925060248,
          8257.286990360097,
          8241.095087846947,
          8222.776463005506,
          8204.262091659986,
          8185.015118570698,
          8166.117873470336,
          8147.940995746505,
          8130.652527999209,
          8114.196050680997,
          8096.090755011553,
          8076.408239717808,
          8059.230753743597,
          8043.033573657658,
          8025.343345108163,
          8012.346787720136,
          8008.56002377971,
          8004.141608560642,
          7981.7083176845235,
          7945.875510388727,
          7908.568077913695,
          7872.155149643726,
          7839.385949307507,
          7808.366668859468,
          7776.443830140803,
          7742.767365320817,
          7707.514463357353,
          7672.645028211347,
          7638.801263667406,
          7606.069309156328,
          7575.991172589974,
          7553.05486968003,
          7539.522596173733,
          7526.413090760704,
          7510.556335341373,
          7497.842069270871,
          7487.365814492069,
          7477.457601836905,
          7473.142661849778,
          7475.714688266434,
          7479.3318632116,
          7484.617817569661,
          7495.036451087989,
          7507.745135055751,
          7520.62867804058,
          7538.142677566182,
          7560.872376736833,
          7583.478752674029,
          7606.07040950725,
          7627.75427891667,
          7647.409571177977,
          7667.237399106923,
          7689.162160514983,
          7715.052795607298,
          7745.843215735743,
          7779.595910033794,
          7813.6470411923965,
          7848.259514657288,
          7882.438780195692,
          7914.099128937382,
          7944.668449085684,
          7978.537454053314,
          8016.117670520166,
          8056.353705737029,
          8101.20840810222,
          8148.043279527355,
          8193.717638577222,
          8242.973305049247,
          8296.109881278358,
          8349.657582469868,
          8404.515154162125,
          8458.589197590905,
          8506.151879694888,
          8550.051054543925,
          8597.101538693973,
          8641.305787579398,
          8679.137190785817,
          8717.051675027917,
          8758.912393493396,
          8802.022239310923,
          8842.122613470232,
          8875.729998377716,
          8902.273663962236,
          8926.032978823127,
          8950.097626013889,
          8973.835559663938,
          8999.13982066673,
          9026.209627554905,
          9051.313598290544,
          9076.555176094396,
          9102.838995080654,
          9125.240893453776,
          9137.392225733756,
          9140.040368588905,
          9140.403883693763,
          9138.709745362994,
          9124.47430634923,
          9089.028021931641,
          9039.251904836818,
          8984.19077552127,
          8924.757395524432,
          8864.521006911404,
          8804.972846699045,
          8749.233724178466,
          8704.521519771139,
          8664.851256225298,
          8623.09620921925,
          8582.569681143836,
          8548.7382749863,
          8520.492559763641,
          8492.010922952273,
          8460.42848352901,
          8420.051170356806,
          8369.717978268944,
          8317.027711690873,
          8267.134889156176,
          8217.513714959758,
          8169.875461378911,
          8126.807583318939,
          8085.598067668068,
          8043.630955369204,
          8000.266800042579,
          7958.134614932146,
          7916.724629715314,
          7872.671202456209,
          7824.96011601217,
          7774.659277967604,
          7720.685807893432,
          7662.98120232134,
          7605.383294911966,
          7549.36314412798,
          7496.563884360466,
          7449.567608650852,
          7405.057991622452,
          7358.188301698476,
          7312.658176586864,
          7268.038338000753,
          7222.397464979283,
          7178.891853083337,
          7139.059741943963,
          7104.403724339789,
          7076.279292207474,
          7055.364087385686,
          7038.2989409158945,
          7026.564622531302,
          7025.702844049035,
          7028.820496239178,
          7029.818304545971,
          7032.330348728303,
          7032.093366904873,
          7028.6393126067005,
          7028.1655675289585,
          7036.772214086863,
          7061.477947481208,
          7093.322489775864,
          7115.126617903875,
          7139.105153427516,
          7185.104950834719,
          7244.402949887475,
          7310.33690615199,
          7383.793695081017,
          7455.69742356796,
          7525.960774862143,
          7595.114193838434,
          7655.662206728326,
          7712.417776565196,
          7767.824728747399,
          7819.206950208328,
          7865.634232035603,
          7907.380009276335,
          7945.750184860073,
          7981.7072651424305,
          8023.120900010052,
          8073.278660887888,
          8126.583667569634,
          8178.545746455325,
          8230.993847091786,
          8281.818975691647,
          8331.206763956348,
          8379.909305211066,
          8427.261856915075,
          8473.541712834192,
          8514.94806599216,
          8553.570189716029,
          8593.039738206855,
          8636.044035459347,
          8683.188412373216,
          8729.882880066212,
          8774.428089148261,
          8817.776651252436,
          8860.665699202551,
          8901.783679781965,
          8941.379179722198,
          8980.63270728384,
          9018.366185471406,
          9055.994096888955,
          9095.24801450826,
          9135.05184140481,
          9172.72199569975,
          9208.513323203211,
          9241.919839475962,
          9271.25225419372,
          9297.021743005393,
          9320.687750951382,
          9338.902891594435,
          9347.506076707512,
          9352.406325822329,
          9358.106615785548,
          9362.306965812284,
          9366.535694722006,
          9370.553289523501,
          9371.041879729346,
          9367.889595939387,
          9360.127229047892,
          9351.494466433714,
          9353.658558720595,
          9363.107919642547,
          9371.09338403646,
          9376.660862356579,
          9375.868647344652,
          9370.849855513481,
          9366.802322476282,
          9361.14810563394,
          9352.12019133865,
          9342.994770471852,
          9334.460645566227,
          9329.314106737322,
          9330.00486299856,
          9332.878150510773,
          9337.731133790423,
          9347.398504249015,
          9359.882479550106,
          9372.917839161608,
          9388.904985507757,
          9410.94825942215,
          9436.948293560617,
          9462.581240895885,
          9488.396206275867,
          9516.2367078211,
          9545.501432790621,
          9573.308846310165,
          9598.779811789265,
          9626.529758823248,
          9659.578987767622,
          9693.981412526893,
          9727.0079420284,
          9759.140191151202,
          9793.669983673988,
          9831.01334070382,
          9866.496130235528,
          9901.36743089224,
          9940.189159109605,
          9980.97338525129,
          10020.90226801791,
          10063.053728101357,
          10108.786085895917,
          10153.23415486001,
          10194.461450957908,
          10233.740292668122,
          10268.604988858402,
          10302.83658819687,
          10341.908585862575,
          10382.147723321592,
          10420.691255243895,
          10458.931819836032,
          10497.404184495637,
          10536.429978617505,
          10576.209026762357,
          10617.34356625181,
          10661.50787608464,
          10705.385083907287,
          10742.56416720672,
          10768.831966170337,
          10786.94951918913,
          10802.400050850734,
          10816.460345540774,
          10831.278920431747,
          10847.074436512512,
          10864.068611545725,
          10881.69049123278,
          10899.839164320585,
          10919.216874518583,
          10940.494226395796,
          10965.663381186592,
          10993.763383244357,
          11022.685597109321,
          11051.730847781202,
          11080.499137043182,
          11107.61590209753,
          11129.993187709384,
          11147.047091571425,
          11161.383969281105,
          11173.239516054355,
          11180.310049044303,
          11180.033754475822,
          11174.637160767561,
          11170.190525152646,
          11165.011513959525,
          11153.878365633278,
          11141.816549733145,
          11130.940282906475,
          11119.102562177126,
          11106.151947526989,
          11090.230803598666,
          11073.00487927749,
          11055.66244909899,
          11038.982354712845,
          11023.530527476009,
          11013.406575915937,
          11010.061643772759,
          11008.34036301846,
          11004.934766625562,
          10998.462911319659,
          10990.903311719054,
          10981.51007452575,
          10968.90888662682,
          10958.965492687774,
          10954.092033024892,
          10953.167895150644,
          10961.503550490032,
          10979.914165342407,
          11000.828595202704,
          11023.519790391547,
          11049.97512712372,
          11078.080567220231,
          11108.470031505874,
          11140.658913765243,
          11171.150839580961,
          11200.086393654321,
          11230.205506454831,
          11264.014593923592,
          11303.60978778392,
          11351.771237019224,
          11408.883851073828,
          11476.886903538134,
          11559.817156831607,
          11648.314069914008,
          11733.403857418165,
          11817.2119628412,
          11901.100224228414,
          11986.470861528376,
          12076.093125825557,
          12170.372270513933,
          12262.327110670762,
          12348.629517280217,
          12436.801905124938,
          12533.787656164286,
          12642.366133094096,
          12757.352861786141,
          12878.910901973857,
          13011.435224243285,
          13146.822164935762,
          13280.188248089717,
          13415.124748976195,
          13552.884212833742,
          13677.991848071835,
          13784.510920416467,
          13890.277042152893,
          14005.552060312519,
          14133.95245109048,
          14274.736651538591,
          14417.569796568396,
          14559.913983458313,
          14702.362663980277,
          14841.655036319962,
          14981.845309594024,
          15123.416574309736,
          15260.277107384516,
          15384.360640211691,
          15499.976039801408,
          15611.911688405984,
          15724.507722941758,
          15847.252127848706,
          15976.033916624881,
          16107.150886347994,
          16246.498726364338,
          16412.547413116725,
          16599.957564381497,
          16790.062283084495,
          16978.819556362767,
          17157.666807154907,
          17328.421036388347,
          17500.628333495468,
          17672.82339930832,
          17848.75432013474,
          18039.15188034631,
          18251.633457480442,
          18478.568648932414,
          18702.47442592944,
          18932.793476962946,
          19178.74992016472,
          19435.446669191282,
          19709.084509789973,
          20015.017829650085,
          20320.79545712992,
          20602.595115009448,
          20904.695578796134,
          21258.253244879863,
          21652.341134654256,
          22064.78929813298,
          22474.803199764458,
          22828.826476603845,
          23136.315160391456,
          23446.265125372018,
          23789.240300863337,
          24152.644376765293,
          24493.10553596011,
          24805.817572862474,
          25105.56165520727,
          25411.60847328531,
          25702.974200822176,
          25960.959642006994,
          26193.707314855503,
          26417.889920621183,
          26640.040029614625,
          26882.80119613441,
          27140.898707420896,
          27381.286053540793,
          27611.61599955297,
          27861.119786352378,
          28118.84462375785,
          28362.896419211742,
          28603.901726319025,
          28854.02857221163,
          29130.418777549825,
          29430.180568322026,
          29737.075987408403,
          30064.60357377175,
          30408.923743323307,
          30770.087176309204,
          31200.425549474232,
          31667.70965754304,
          32121.760558407008,
          32585.104306752608,
          33054.79871353769,
          33525.165514994194,
          33973.2349668968,
          34399.95261455575,
          34845.89903622648,
          35311.33168590849,
          35795.69261695299,
          36320.674870359064,
          36876.37066815566,
          37418.029801066295,
          37888.375647990186,
          38300.75577746801,
          38696.380949123384,
          39051.66218157616,
          39386.25467749584,
          39695.72478670394,
          39991.03499641528,
          40308.43896662926,
          40633.44299902374,
          40930.133893656835,
          41195.07063105626,
          41461.40376642096,
          41723.16772517631,
          41956.86879319626,
          42181.07006205756,
          42424.01372602525,
          42686.72468935654,
          43012.51443495482,
          43400.11278029058,
          43814.64795941294,
          44187.82419196405,
          44495.079647419734,
          44804.9649789866,
          45156.10011311795,
          45531.58951633548,
          45899.57479931397,
          46266.91413214584,
          46650.230275503316,
          47039.23366191745,
          47419.35457381364,
          47774.92784897002,
          48106.465899457544,
          48465.49996499109,
          48864.49725879133,
          49279.52766576453,
          49682.9906143582,
          50083.04129102666,
          null,
          null,
          null,
          null,
          null,
          null,
          null,
          null,
          null,
          null,
          null,
          null,
          null,
          null,
          null,
          null,
          null,
          null,
          null,
          null,
          null,
          null,
          null,
          null,
          null,
          null,
          null,
          null,
          null,
          null
         ]
        },
        {
         "line": {
          "color": "rgb(66, 244, 155)",
          "width": 2
         },
         "mode": "lines",
         "name": "Seasonal",
         "type": "scatter",
         "x": [
          0,
          1,
          2,
          3,
          4,
          5,
          6,
          7,
          8,
          9,
          10,
          11,
          12,
          13,
          14,
          15,
          16,
          17,
          18,
          19,
          20,
          21,
          22,
          23,
          24,
          25,
          26,
          27,
          28,
          29,
          30,
          31,
          32,
          33,
          34,
          35,
          36,
          37,
          38,
          39,
          40,
          41,
          42,
          43,
          44,
          45,
          46,
          47,
          48,
          49,
          50,
          51,
          52,
          53,
          54,
          55,
          56,
          57,
          58,
          59,
          60,
          61,
          62,
          63,
          64,
          65,
          66,
          67,
          68,
          69,
          70,
          71,
          72,
          73,
          74,
          75,
          76,
          77,
          78,
          79,
          80,
          81,
          82,
          83,
          84,
          85,
          86,
          87,
          88,
          89,
          90,
          91,
          92,
          93,
          94,
          95,
          96,
          97,
          98,
          99,
          100,
          101,
          102,
          103,
          104,
          105,
          106,
          107,
          108,
          109,
          110,
          111,
          112,
          113,
          114,
          115,
          116,
          117,
          118,
          119,
          120,
          121,
          122,
          123,
          124,
          125,
          126,
          127,
          128,
          129,
          130,
          131,
          132,
          133,
          134,
          135,
          136,
          137,
          138,
          139,
          140,
          141,
          142,
          143,
          144,
          145,
          146,
          147,
          148,
          149,
          150,
          151,
          152,
          153,
          154,
          155,
          156,
          157,
          158,
          159,
          160,
          161,
          162,
          163,
          164,
          165,
          166,
          167,
          168,
          169,
          170,
          171,
          172,
          173,
          174,
          175,
          176,
          177,
          178,
          179,
          180,
          181,
          182,
          183,
          184,
          185,
          186,
          187,
          188,
          189,
          190,
          191,
          192,
          193,
          194,
          195,
          196,
          197,
          198,
          199,
          200,
          201,
          202,
          203,
          204,
          205,
          206,
          207,
          208,
          209,
          210,
          211,
          212,
          213,
          214,
          215,
          216,
          217,
          218,
          219,
          220,
          221,
          222,
          223,
          224,
          225,
          226,
          227,
          228,
          229,
          230,
          231,
          232,
          233,
          234,
          235,
          236,
          237,
          238,
          239,
          240,
          241,
          242,
          243,
          244,
          245,
          246,
          247,
          248,
          249,
          250,
          251,
          252,
          253,
          254,
          255,
          256,
          257,
          258,
          259,
          260,
          261,
          262,
          263,
          264,
          265,
          266,
          267,
          268,
          269,
          270,
          271,
          272,
          273,
          274,
          275,
          276,
          277,
          278,
          279,
          280,
          281,
          282,
          283,
          284,
          285,
          286,
          287,
          288,
          289,
          290,
          291,
          292,
          293,
          294,
          295,
          296,
          297,
          298,
          299,
          300,
          301,
          302,
          303,
          304,
          305,
          306,
          307,
          308,
          309,
          310,
          311,
          312,
          313,
          314,
          315,
          316,
          317,
          318,
          319,
          320,
          321,
          322,
          323,
          324,
          325,
          326,
          327,
          328,
          329,
          330,
          331,
          332,
          333,
          334,
          335,
          336,
          337,
          338,
          339,
          340,
          341,
          342,
          343,
          344,
          345,
          346,
          347,
          348,
          349,
          350,
          351,
          352,
          353,
          354,
          355,
          356,
          357,
          358,
          359,
          360,
          361,
          362,
          363,
          364,
          365,
          366,
          367,
          368,
          369,
          370,
          371,
          372,
          373,
          374,
          375,
          376,
          377,
          378,
          379,
          380,
          381,
          382,
          383,
          384,
          385,
          386,
          387,
          388,
          389,
          390,
          391,
          392,
          393,
          394,
          395,
          396,
          397,
          398,
          399,
          400,
          401,
          402,
          403,
          404,
          405,
          406,
          407,
          408,
          409,
          410,
          411,
          412,
          413,
          414,
          415,
          416,
          417,
          418,
          419,
          420,
          421,
          422,
          423,
          424,
          425,
          426,
          427,
          428,
          429,
          430,
          431,
          432,
          433,
          434,
          435,
          436,
          437,
          438,
          439,
          440,
          441,
          442,
          443,
          444,
          445,
          446,
          447,
          448,
          449,
          450,
          451,
          452,
          453,
          454,
          455,
          456,
          457,
          458,
          459,
          460,
          461,
          462,
          463,
          464,
          465,
          466,
          467,
          468,
          469,
          470,
          471,
          472,
          473,
          474,
          475,
          476,
          477,
          478,
          479,
          480,
          481,
          482,
          483,
          484,
          485,
          486,
          487,
          488,
          489,
          490,
          491,
          492,
          493,
          494,
          495,
          496,
          497,
          498,
          499,
          500,
          501,
          502,
          503,
          504,
          505,
          506,
          507,
          508,
          509,
          510,
          511,
          512,
          513,
          514,
          515,
          516,
          517,
          518,
          519,
          520,
          521,
          522,
          523,
          524,
          525,
          526,
          527,
          528,
          529,
          530,
          531,
          532,
          533,
          534,
          535,
          536,
          537,
          538,
          539,
          540,
          541,
          542,
          543,
          544,
          545,
          546,
          547,
          548,
          549,
          550,
          551,
          552,
          553,
          554,
          555,
          556,
          557,
          558,
          559,
          560,
          561,
          562,
          563,
          564,
          565,
          566,
          567,
          568,
          569,
          570,
          571,
          572,
          573,
          574,
          575,
          576,
          577,
          578,
          579,
          580,
          581,
          582,
          583,
          584,
          585,
          586,
          587,
          588,
          589,
          590,
          591,
          592,
          593,
          594,
          595,
          596,
          597,
          598,
          599,
          600,
          601,
          602,
          603,
          604,
          605,
          606,
          607,
          608,
          609,
          610,
          611,
          612,
          613,
          614,
          615,
          616,
          617,
          618,
          619,
          620,
          621,
          622,
          623,
          624,
          625,
          626,
          627,
          628,
          629,
          630,
          631,
          632,
          633,
          634,
          635,
          636,
          637,
          638,
          639,
          640,
          641,
          642,
          643,
          644,
          645,
          646,
          647,
          648,
          649,
          650,
          651,
          652,
          653,
          654,
          655,
          656,
          657,
          658,
          659
         ],
         "y": [
          -536.462053281208,
          -494.10574717593835,
          -464.67680221962456,
          -361.5528985092492,
          -444.84959661307045,
          -526.828387481158,
          -310.5950568068723,
          -620.8362688185844,
          -453.70037630954977,
          -21.203572531413542,
          -129.0038152147049,
          -78.43916278951656,
          -3.052009939820607,
          -41.06145184225869,
          -25.1875812627907,
          33.285014075006266,
          157.91410678491175,
          533.6444943111625,
          637.3564082295331,
          604.606718480457,
          781.9705147564819,
          786.8596963432924,
          421.2634068871136,
          -83.36018318386368,
          222.13973812549185,
          357.72950932402364,
          -21.29710311860744,
          -25.895504790423175,
          -152.85474965340134,
          126.4731755549383,
          419.63919018266915,
          466.2943442232624,
          633.4855106913576,
          444.81307600068885,
          386.7564704228777,
          445.2760131322108,
          485.24490043298886,
          758.848706735148,
          850.5100810651645,
          732.854359044504,
          156.67367198637376,
          195.1333764778131,
          118.48003965445288,
          418.73223819747403,
          241.66327359565167,
          74.9456725046056,
          -155.27198177798917,
          -192.4540897733802,
          -146.0818870397127,
          -361.4884581878594,
          -594.3493171743364,
          -721.1554718276705,
          -505.2283705453954,
          -481.6448096117387,
          -569.1812478729605,
          -730.3471854028794,
          -796.9215910438058,
          -659.1234971028252,
          -350.8744308220806,
          -433.50904749496567,
          -536.462053281208,
          -494.10574717593835,
          -464.67680221962456,
          -361.5528985092492,
          -444.84959661307045,
          -526.828387481158,
          -310.5950568068723,
          -620.8362688185844,
          -453.70037630954977,
          -21.203572531413542,
          -129.0038152147049,
          -78.43916278951656,
          -3.052009939820607,
          -41.06145184225869,
          -25.1875812627907,
          33.285014075006266,
          157.91410678491175,
          533.6444943111625,
          637.3564082295331,
          604.606718480457,
          781.9705147564819,
          786.8596963432924,
          421.2634068871136,
          -83.36018318386368,
          222.13973812549185,
          357.72950932402364,
          -21.29710311860744,
          -25.895504790423175,
          -152.85474965340134,
          126.4731755549383,
          419.63919018266915,
          466.2943442232624,
          633.4855106913576,
          444.81307600068885,
          386.7564704228777,
          445.2760131322108,
          485.24490043298886,
          758.848706735148,
          850.5100810651645,
          732.854359044504,
          156.67367198637376,
          195.1333764778131,
          118.48003965445288,
          418.73223819747403,
          241.66327359565167,
          74.9456725046056,
          -155.27198177798917,
          -192.4540897733802,
          -146.0818870397127,
          -361.4884581878594,
          -594.3493171743364,
          -721.1554718276705,
          -505.2283705453954,
          -481.6448096117387,
          -569.1812478729605,
          -730.3471854028794,
          -796.9215910438058,
          -659.1234971028252,
          -350.8744308220806,
          -433.50904749496567,
          -536.462053281208,
          -494.10574717593835,
          -464.67680221962456,
          -361.5528985092492,
          -444.84959661307045,
          -526.828387481158,
          -310.5950568068723,
          -620.8362688185844,
          -453.70037630954977,
          -21.203572531413542,
          -129.0038152147049,
          -78.43916278951656,
          -3.052009939820607,
          -41.06145184225869,
          -25.1875812627907,
          33.285014075006266,
          157.91410678491175,
          533.6444943111625,
          637.3564082295331,
          604.606718480457,
          781.9705147564819,
          786.8596963432924,
          421.2634068871136,
          -83.36018318386368,
          222.13973812549185,
          357.72950932402364,
          -21.29710311860744,
          -25.895504790423175,
          -152.85474965340134,
          126.4731755549383,
          419.63919018266915,
          466.2943442232624,
          633.4855106913576,
          444.81307600068885,
          386.7564704228777,
          445.2760131322108,
          485.24490043298886,
          758.848706735148,
          850.5100810651645,
          732.854359044504,
          156.67367198637376,
          195.1333764778131,
          118.48003965445288,
          418.73223819747403,
          241.66327359565167,
          74.9456725046056,
          -155.27198177798917,
          -192.4540897733802,
          -146.0818870397127,
          -361.4884581878594,
          -594.3493171743364,
          -721.1554718276705,
          -505.2283705453954,
          -481.6448096117387,
          -569.1812478729605,
          -730.3471854028794,
          -796.9215910438058,
          -659.1234971028252,
          -350.8744308220806,
          -433.50904749496567,
          -536.462053281208,
          -494.10574717593835,
          -464.67680221962456,
          -361.5528985092492,
          -444.84959661307045,
          -526.828387481158,
          -310.5950568068723,
          -620.8362688185844,
          -453.70037630954977,
          -21.203572531413542,
          -129.0038152147049,
          -78.43916278951656,
          -3.052009939820607,
          -41.06145184225869,
          -25.1875812627907,
          33.285014075006266,
          157.91410678491175,
          533.6444943111625,
          637.3564082295331,
          604.606718480457,
          781.9705147564819,
          786.8596963432924,
          421.2634068871136,
          -83.36018318386368,
          222.13973812549185,
          357.72950932402364,
          -21.29710311860744,
          -25.895504790423175,
          -152.85474965340134,
          126.4731755549383,
          419.63919018266915,
          466.2943442232624,
          633.4855106913576,
          444.81307600068885,
          386.7564704228777,
          445.2760131322108,
          485.24490043298886,
          758.848706735148,
          850.5100810651645,
          732.854359044504,
          156.67367198637376,
          195.1333764778131,
          118.48003965445288,
          418.73223819747403,
          241.66327359565167,
          74.9456725046056,
          -155.27198177798917,
          -192.4540897733802,
          -146.0818870397127,
          -361.4884581878594,
          -594.3493171743364,
          -721.1554718276705,
          -505.2283705453954,
          -481.6448096117387,
          -569.1812478729605,
          -730.3471854028794,
          -796.9215910438058,
          -659.1234971028252,
          -350.8744308220806,
          -433.50904749496567,
          -536.462053281208,
          -494.10574717593835,
          -464.67680221962456,
          -361.5528985092492,
          -444.84959661307045,
          -526.828387481158,
          -310.5950568068723,
          -620.8362688185844,
          -453.70037630954977,
          -21.203572531413542,
          -129.0038152147049,
          -78.43916278951656,
          -3.052009939820607,
          -41.06145184225869,
          -25.1875812627907,
          33.285014075006266,
          157.91410678491175,
          533.6444943111625,
          637.3564082295331,
          604.606718480457,
          781.9705147564819,
          786.8596963432924,
          421.2634068871136,
          -83.36018318386368,
          222.13973812549185,
          357.72950932402364,
          -21.29710311860744,
          -25.895504790423175,
          -152.85474965340134,
          126.4731755549383,
          419.63919018266915,
          466.2943442232624,
          633.4855106913576,
          444.81307600068885,
          386.7564704228777,
          445.2760131322108,
          485.24490043298886,
          758.848706735148,
          850.5100810651645,
          732.854359044504,
          156.67367198637376,
          195.1333764778131,
          118.48003965445288,
          418.73223819747403,
          241.66327359565167,
          74.9456725046056,
          -155.27198177798917,
          -192.4540897733802,
          -146.0818870397127,
          -361.4884581878594,
          -594.3493171743364,
          -721.1554718276705,
          -505.2283705453954,
          -481.6448096117387,
          -569.1812478729605,
          -730.3471854028794,
          -796.9215910438058,
          -659.1234971028252,
          -350.8744308220806,
          -433.50904749496567,
          -536.462053281208,
          -494.10574717593835,
          -464.67680221962456,
          -361.5528985092492,
          -444.84959661307045,
          -526.828387481158,
          -310.5950568068723,
          -620.8362688185844,
          -453.70037630954977,
          -21.203572531413542,
          -129.0038152147049,
          -78.43916278951656,
          -3.052009939820607,
          -41.06145184225869,
          -25.1875812627907,
          33.285014075006266,
          157.91410678491175,
          533.6444943111625,
          637.3564082295331,
          604.606718480457,
          781.9705147564819,
          786.8596963432924,
          421.2634068871136,
          -83.36018318386368,
          222.13973812549185,
          357.72950932402364,
          -21.29710311860744,
          -25.895504790423175,
          -152.85474965340134,
          126.4731755549383,
          419.63919018266915,
          466.2943442232624,
          633.4855106913576,
          444.81307600068885,
          386.7564704228777,
          445.2760131322108,
          485.24490043298886,
          758.848706735148,
          850.5100810651645,
          732.854359044504,
          156.67367198637376,
          195.1333764778131,
          118.48003965445288,
          418.73223819747403,
          241.66327359565167,
          74.9456725046056,
          -155.27198177798917,
          -192.4540897733802,
          -146.0818870397127,
          -361.4884581878594,
          -594.3493171743364,
          -721.1554718276705,
          -505.2283705453954,
          -481.6448096117387,
          -569.1812478729605,
          -730.3471854028794,
          -796.9215910438058,
          -659.1234971028252,
          -350.8744308220806,
          -433.50904749496567,
          -536.462053281208,
          -494.10574717593835,
          -464.67680221962456,
          -361.5528985092492,
          -444.84959661307045,
          -526.828387481158,
          -310.5950568068723,
          -620.8362688185844,
          -453.70037630954977,
          -21.203572531413542,
          -129.0038152147049,
          -78.43916278951656,
          -3.052009939820607,
          -41.06145184225869,
          -25.1875812627907,
          33.285014075006266,
          157.91410678491175,
          533.6444943111625,
          637.3564082295331,
          604.606718480457,
          781.9705147564819,
          786.8596963432924,
          421.2634068871136,
          -83.36018318386368,
          222.13973812549185,
          357.72950932402364,
          -21.29710311860744,
          -25.895504790423175,
          -152.85474965340134,
          126.4731755549383,
          419.63919018266915,
          466.2943442232624,
          633.4855106913576,
          444.81307600068885,
          386.7564704228777,
          445.2760131322108,
          485.24490043298886,
          758.848706735148,
          850.5100810651645,
          732.854359044504,
          156.67367198637376,
          195.1333764778131,
          118.48003965445288,
          418.73223819747403,
          241.66327359565167,
          74.9456725046056,
          -155.27198177798917,
          -192.4540897733802,
          -146.0818870397127,
          -361.4884581878594,
          -594.3493171743364,
          -721.1554718276705,
          -505.2283705453954,
          -481.6448096117387,
          -569.1812478729605,
          -730.3471854028794,
          -796.9215910438058,
          -659.1234971028252,
          -350.8744308220806,
          -433.50904749496567,
          -536.462053281208,
          -494.10574717593835,
          -464.67680221962456,
          -361.5528985092492,
          -444.84959661307045,
          -526.828387481158,
          -310.5950568068723,
          -620.8362688185844,
          -453.70037630954977,
          -21.203572531413542,
          -129.0038152147049,
          -78.43916278951656,
          -3.052009939820607,
          -41.06145184225869,
          -25.1875812627907,
          33.285014075006266,
          157.91410678491175,
          533.6444943111625,
          637.3564082295331,
          604.606718480457,
          781.9705147564819,
          786.8596963432924,
          421.2634068871136,
          -83.36018318386368,
          222.13973812549185,
          357.72950932402364,
          -21.29710311860744,
          -25.895504790423175,
          -152.85474965340134,
          126.4731755549383,
          419.63919018266915,
          466.2943442232624,
          633.4855106913576,
          444.81307600068885,
          386.7564704228777,
          445.2760131322108,
          485.24490043298886,
          758.848706735148,
          850.5100810651645,
          732.854359044504,
          156.67367198637376,
          195.1333764778131,
          118.48003965445288,
          418.73223819747403,
          241.66327359565167,
          74.9456725046056,
          -155.27198177798917,
          -192.4540897733802,
          -146.0818870397127,
          -361.4884581878594,
          -594.3493171743364,
          -721.1554718276705,
          -505.2283705453954,
          -481.6448096117387,
          -569.1812478729605,
          -730.3471854028794,
          -796.9215910438058,
          -659.1234971028252,
          -350.8744308220806,
          -433.50904749496567,
          -536.462053281208,
          -494.10574717593835,
          -464.67680221962456,
          -361.5528985092492,
          -444.84959661307045,
          -526.828387481158,
          -310.5950568068723,
          -620.8362688185844,
          -453.70037630954977,
          -21.203572531413542,
          -129.0038152147049,
          -78.43916278951656,
          -3.052009939820607,
          -41.06145184225869,
          -25.1875812627907,
          33.285014075006266,
          157.91410678491175,
          533.6444943111625,
          637.3564082295331,
          604.606718480457,
          781.9705147564819,
          786.8596963432924,
          421.2634068871136,
          -83.36018318386368,
          222.13973812549185,
          357.72950932402364,
          -21.29710311860744,
          -25.895504790423175,
          -152.85474965340134,
          126.4731755549383,
          419.63919018266915,
          466.2943442232624,
          633.4855106913576,
          444.81307600068885,
          386.7564704228777,
          445.2760131322108,
          485.24490043298886,
          758.848706735148,
          850.5100810651645,
          732.854359044504,
          156.67367198637376,
          195.1333764778131,
          118.48003965445288,
          418.73223819747403,
          241.66327359565167,
          74.9456725046056,
          -155.27198177798917,
          -192.4540897733802,
          -146.0818870397127,
          -361.4884581878594,
          -594.3493171743364,
          -721.1554718276705,
          -505.2283705453954,
          -481.6448096117387,
          -569.1812478729605,
          -730.3471854028794,
          -796.9215910438058,
          -659.1234971028252,
          -350.8744308220806,
          -433.50904749496567,
          -536.462053281208,
          -494.10574717593835,
          -464.67680221962456,
          -361.5528985092492,
          -444.84959661307045,
          -526.828387481158,
          -310.5950568068723,
          -620.8362688185844,
          -453.70037630954977,
          -21.203572531413542,
          -129.0038152147049,
          -78.43916278951656,
          -3.052009939820607,
          -41.06145184225869,
          -25.1875812627907,
          33.285014075006266,
          157.91410678491175,
          533.6444943111625,
          637.3564082295331,
          604.606718480457,
          781.9705147564819,
          786.8596963432924,
          421.2634068871136,
          -83.36018318386368,
          222.13973812549185,
          357.72950932402364,
          -21.29710311860744,
          -25.895504790423175,
          -152.85474965340134,
          126.4731755549383,
          419.63919018266915,
          466.2943442232624,
          633.4855106913576,
          444.81307600068885,
          386.7564704228777,
          445.2760131322108,
          485.24490043298886,
          758.848706735148,
          850.5100810651645,
          732.854359044504,
          156.67367198637376,
          195.1333764778131,
          118.48003965445288,
          418.73223819747403,
          241.66327359565167,
          74.9456725046056,
          -155.27198177798917,
          -192.4540897733802,
          -146.0818870397127,
          -361.4884581878594,
          -594.3493171743364,
          -721.1554718276705,
          -505.2283705453954,
          -481.6448096117387,
          -569.1812478729605,
          -730.3471854028794,
          -796.9215910438058,
          -659.1234971028252,
          -350.8744308220806,
          -433.50904749496567,
          -536.462053281208,
          -494.10574717593835,
          -464.67680221962456,
          -361.5528985092492,
          -444.84959661307045,
          -526.828387481158,
          -310.5950568068723,
          -620.8362688185844,
          -453.70037630954977,
          -21.203572531413542,
          -129.0038152147049,
          -78.43916278951656,
          -3.052009939820607,
          -41.06145184225869,
          -25.1875812627907,
          33.285014075006266,
          157.91410678491175,
          533.6444943111625,
          637.3564082295331,
          604.606718480457,
          781.9705147564819,
          786.8596963432924,
          421.2634068871136,
          -83.36018318386368,
          222.13973812549185,
          357.72950932402364,
          -21.29710311860744,
          -25.895504790423175,
          -152.85474965340134,
          126.4731755549383,
          419.63919018266915,
          466.2943442232624,
          633.4855106913576,
          444.81307600068885,
          386.7564704228777,
          445.2760131322108,
          485.24490043298886,
          758.848706735148,
          850.5100810651645,
          732.854359044504,
          156.67367198637376,
          195.1333764778131,
          118.48003965445288,
          418.73223819747403,
          241.66327359565167,
          74.9456725046056,
          -155.27198177798917,
          -192.4540897733802,
          -146.0818870397127,
          -361.4884581878594,
          -594.3493171743364,
          -721.1554718276705,
          -505.2283705453954,
          -481.6448096117387,
          -569.1812478729605,
          -730.3471854028794,
          -796.9215910438058,
          -659.1234971028252,
          -350.8744308220806,
          -433.50904749496567
         ]
        },
        {
         "line": {
          "color": "rgb(209, 244, 66)",
          "width": 2
         },
         "mode": "lines",
         "name": "Residual",
         "type": "scatter",
         "x": [
          0,
          1,
          2,
          3,
          4,
          5,
          6,
          7,
          8,
          9,
          10,
          11,
          12,
          13,
          14,
          15,
          16,
          17,
          18,
          19,
          20,
          21,
          22,
          23,
          24,
          25,
          26,
          27,
          28,
          29,
          30,
          31,
          32,
          33,
          34,
          35,
          36,
          37,
          38,
          39,
          40,
          41,
          42,
          43,
          44,
          45,
          46,
          47,
          48,
          49,
          50,
          51,
          52,
          53,
          54,
          55,
          56,
          57,
          58,
          59,
          60,
          61,
          62,
          63,
          64,
          65,
          66,
          67,
          68,
          69,
          70,
          71,
          72,
          73,
          74,
          75,
          76,
          77,
          78,
          79,
          80,
          81,
          82,
          83,
          84,
          85,
          86,
          87,
          88,
          89,
          90,
          91,
          92,
          93,
          94,
          95,
          96,
          97,
          98,
          99,
          100,
          101,
          102,
          103,
          104,
          105,
          106,
          107,
          108,
          109,
          110,
          111,
          112,
          113,
          114,
          115,
          116,
          117,
          118,
          119,
          120,
          121,
          122,
          123,
          124,
          125,
          126,
          127,
          128,
          129,
          130,
          131,
          132,
          133,
          134,
          135,
          136,
          137,
          138,
          139,
          140,
          141,
          142,
          143,
          144,
          145,
          146,
          147,
          148,
          149,
          150,
          151,
          152,
          153,
          154,
          155,
          156,
          157,
          158,
          159,
          160,
          161,
          162,
          163,
          164,
          165,
          166,
          167,
          168,
          169,
          170,
          171,
          172,
          173,
          174,
          175,
          176,
          177,
          178,
          179,
          180,
          181,
          182,
          183,
          184,
          185,
          186,
          187,
          188,
          189,
          190,
          191,
          192,
          193,
          194,
          195,
          196,
          197,
          198,
          199,
          200,
          201,
          202,
          203,
          204,
          205,
          206,
          207,
          208,
          209,
          210,
          211,
          212,
          213,
          214,
          215,
          216,
          217,
          218,
          219,
          220,
          221,
          222,
          223,
          224,
          225,
          226,
          227,
          228,
          229,
          230,
          231,
          232,
          233,
          234,
          235,
          236,
          237,
          238,
          239,
          240,
          241,
          242,
          243,
          244,
          245,
          246,
          247,
          248,
          249,
          250,
          251,
          252,
          253,
          254,
          255,
          256,
          257,
          258,
          259,
          260,
          261,
          262,
          263,
          264,
          265,
          266,
          267,
          268,
          269,
          270,
          271,
          272,
          273,
          274,
          275,
          276,
          277,
          278,
          279,
          280,
          281,
          282,
          283,
          284,
          285,
          286,
          287,
          288,
          289,
          290,
          291,
          292,
          293,
          294,
          295,
          296,
          297,
          298,
          299,
          300,
          301,
          302,
          303,
          304,
          305,
          306,
          307,
          308,
          309,
          310,
          311,
          312,
          313,
          314,
          315,
          316,
          317,
          318,
          319,
          320,
          321,
          322,
          323,
          324,
          325,
          326,
          327,
          328,
          329,
          330,
          331,
          332,
          333,
          334,
          335,
          336,
          337,
          338,
          339,
          340,
          341,
          342,
          343,
          344,
          345,
          346,
          347,
          348,
          349,
          350,
          351,
          352,
          353,
          354,
          355,
          356,
          357,
          358,
          359,
          360,
          361,
          362,
          363,
          364,
          365,
          366,
          367,
          368,
          369,
          370,
          371,
          372,
          373,
          374,
          375,
          376,
          377,
          378,
          379,
          380,
          381,
          382,
          383,
          384,
          385,
          386,
          387,
          388,
          389,
          390,
          391,
          392,
          393,
          394,
          395,
          396,
          397,
          398,
          399,
          400,
          401,
          402,
          403,
          404,
          405,
          406,
          407,
          408,
          409,
          410,
          411,
          412,
          413,
          414,
          415,
          416,
          417,
          418,
          419,
          420,
          421,
          422,
          423,
          424,
          425,
          426,
          427,
          428,
          429,
          430,
          431,
          432,
          433,
          434,
          435,
          436,
          437,
          438,
          439,
          440,
          441,
          442,
          443,
          444,
          445,
          446,
          447,
          448,
          449,
          450,
          451,
          452,
          453,
          454,
          455,
          456,
          457,
          458,
          459,
          460,
          461,
          462,
          463,
          464,
          465,
          466,
          467,
          468,
          469,
          470,
          471,
          472,
          473,
          474,
          475,
          476,
          477,
          478,
          479,
          480,
          481,
          482,
          483,
          484,
          485,
          486,
          487,
          488,
          489,
          490,
          491,
          492,
          493,
          494,
          495,
          496,
          497,
          498,
          499,
          500,
          501,
          502,
          503,
          504,
          505,
          506,
          507,
          508,
          509,
          510,
          511,
          512,
          513,
          514,
          515,
          516,
          517,
          518,
          519,
          520,
          521,
          522,
          523,
          524,
          525,
          526,
          527,
          528,
          529,
          530,
          531,
          532,
          533,
          534,
          535,
          536,
          537,
          538,
          539,
          540,
          541,
          542,
          543,
          544,
          545,
          546,
          547,
          548,
          549,
          550,
          551,
          552,
          553,
          554,
          555,
          556,
          557,
          558,
          559,
          560,
          561,
          562,
          563,
          564,
          565,
          566,
          567,
          568,
          569,
          570,
          571,
          572,
          573,
          574,
          575,
          576,
          577,
          578,
          579,
          580,
          581,
          582,
          583,
          584,
          585,
          586,
          587,
          588,
          589,
          590,
          591,
          592,
          593,
          594,
          595,
          596,
          597,
          598,
          599,
          600,
          601,
          602,
          603,
          604,
          605,
          606,
          607,
          608,
          609,
          610,
          611,
          612,
          613,
          614,
          615,
          616,
          617,
          618,
          619,
          620,
          621,
          622,
          623,
          624,
          625,
          626,
          627,
          628,
          629,
          630,
          631,
          632,
          633,
          634,
          635,
          636,
          637,
          638,
          639,
          640,
          641,
          642,
          643,
          644,
          645,
          646,
          647,
          648,
          649,
          650,
          651,
          652,
          653,
          654,
          655,
          656,
          657,
          658,
          659
         ],
         "y": [
          null,
          null,
          null,
          null,
          null,
          null,
          null,
          null,
          null,
          null,
          null,
          null,
          null,
          null,
          null,
          null,
          null,
          null,
          null,
          null,
          null,
          null,
          null,
          null,
          null,
          null,
          null,
          null,
          null,
          null,
          604.0982233232762,
          500.11365643510754,
          122.25995421093899,
          -310.72158741093426,
          -729.838290317896,
          -871.8865518047538,
          -1706.0285695155894,
          -1520.7044281390345,
          -1213.161149807224,
          -907.7351724705093,
          -452.65875551379474,
          -622.0753182781548,
          -914.593891226556,
          -1572.2814461340517,
          -1066.3228392260933,
          -1110.9733920121344,
          -893.9270393556342,
          -1075.327989696176,
          -1039.5870319004478,
          -791.1497024513103,
          -214.516619270805,
          155.1804610419033,
          349.460804277456,
          665.0279695603062,
          808.8368510282578,
          1837.113618688647,
          1998.826180351544,
          1830.6651368707453,
          1639.0794250431659,
          1775.34691094344,
          1666.648206643233,
          1445.8039235006715,
          1456.1151105890292,
          1111.9520057149398,
          502.56043811428214,
          157.91858933059234,
          155.2507508830489,
          523.3026875857231,
          352.83987969622905,
          249.60144666083306,
          502.90197393769495,
          -98.5045387471655,
          -319.1418317162655,
          -65.8015406176749,
          -190.94124918060035,
          -300.2077872514448,
          -166.15846705114328,
          -693.2573211278765,
          -904.9590027297843,
          -1371.6676465479113,
          -1507.0746720173738,
          -1421.6142979290967,
          -988.4043473009222,
          -121.02370058570023,
          187.439103383169,
          144.12135364937694,
          584.1976309253763,
          745.2346412095625,
          700.0180311356564,
          517.6318279533425,
          121.87887477844288,
          45.43930706231396,
          -230.4769314217458,
          162.64971320032146,
          358.2698249485905,
          356.58228968641686,
          321.9427347836694,
          19.23288291360859,
          -70.83994968329785,
          65.86962732987217,
          482.20156599289214,
          669.792540613397,
          643.7858888539845,
          316.49881034436436,
          429.5530190272986,
          184.23807094827689,
          -517.2050010514174,
          -649.7694140604347,
          -896.0735784489104,
          -555.5019560209178,
          -405.8617196026946,
          -275.79595483033586,
          -194.8813832234502,
          -312.8554637331304,
          -220.91479815414846,
          -136.4244235363758,
          -86.44963862577538,
          -330.1363653082717,
          -557.8289960657272,
          -287.12926153818535,
          -33.76268093471458,
          168.67148060546486,
          -1.165605897271405,
          -147.55521340896894,
          -14.658665276598128,
          43.553656497964084,
          -189.67638441519068,
          -50.98593994797466,
          -220.97647792002698,
          -694.9067397393928,
          -562.9182873730738,
          -522.2060808084343,
          -362.12230877873236,
          -313.04966973422444,
          -753.007288495525,
          -1058.680759248234,
          -723.7958511561104,
          360.26196937008115,
          369.29853578629013,
          480.4523371387104,
          222.07524714247484,
          35.31647468447909,
          390.1702320257394,
          890.5581858434066,
          726.398121340355,
          542.0932049457688,
          974.5636327369187,
          1078.255406572192,
          1207.7678155972465,
          841.0918672810858,
          301.72863295374646,
          103.34896307878654,
          40.33278412690447,
          143.845168826364,
          162.51604380572218,
          136.54524273538152,
          22.469701235778643,
          -349.8584840075282,
          -494.6882044618021,
          -314.9159156746289,
          145.79491966166924,
          -138.85537444462108,
          -63.080591343960364,
          -596.6589419054976,
          -912.2050791744393,
          -840.9955256311449,
          -702.8566931482217,
          -827.3377645291287,
          -658.9136934388687,
          -294.9301857172124,
          244.37004806018535,
          493.8339759937519,
          350.6306315931823,
          58.51150453164104,
          135.95575733805867,
          341.8833772843536,
          401.2142717799886,
          349.3091548031525,
          149.91513753832749,
          390.1949981242933,
          479.0336411435612,
          415.4844354178537,
          238.81979925634533,
          61.64348023751745,
          119.29408065922695,
          266.364991149004,
          -2.4890524036542274,
          237.41671365811544,
          10.846079414924873,
          -667.9446512715276,
          -585.2577172059978,
          -268.35414249708265,
          -353.8538626620414,
          -331.2057668269329,
          -284.7167052213988,
          -90.10182777920292,
          -444.9732901922738,
          -928.7769398090574,
          -1043.9337317712923,
          -1060.1552176609712,
          -1150.4946583961346,
          -1130.3858859320749,
          -838.4034502906386,
          -463.4348403208228,
          -805.9240954627993,
          -1098.8989167970358,
          -608.921544606998,
          -534.6238045658562,
          -331.21716967221596,
          -537.2213059581172,
          -468.2795307189581,
          -246.78874037054874,
          -791.269987391863,
          -657.8862691484901,
          -421.4389240784155,
          -527.278288900137,
          -625.3243601581604,
          -480.34688365072816,
          -456.4755198877417,
          -462.95353776820025,
          237.54170769897163,
          190.53177589283104,
          178.63572761261048,
          -371.1257771548248,
          -236.775494297928,
          -88.39737689487438,
          -126.17696289438729,
          -183.1328170726959,
          -334.4051164960181,
          -50.50495578173849,
          442.1547853075615,
          860.5580443248502,
          910.2287497213654,
          902.4436959801301,
          937.6248914395089,
          1103.656430562769,
          1147.748077635665,
          938.2102795890014,
          477.2576601943505,
          733.8372038356056,
          1100.6381852835423,
          1133.4502139663498,
          1137.6813393431073,
          1301.871397793178,
          1228.5355096752846,
          1360.0704801675777,
          1565.806523268982,
          1867.8306223970449,
          1731.570983415363,
          1240.3374282310788,
          1170.0166930904547,
          994.05371473179,
          1100.2142772594095,
          1435.4027604041983,
          942.5832134086734,
          1033.434227219365,
          919.9140029086744,
          787.8631889990551,
          577.2014911977215,
          393.4148258660871,
          -208.97094922181168,
          -410.74981922794586,
          -92.47592619112737,
          452.54561985425744,
          67.9240072905778,
          172.35864789510833,
          642.7150967925812,
          660.2312924666188,
          1087.0493279037476,
          928.1090298024728,
          633.9260860225859,
          145.41922608425676,
          -668.088679619171,
          -369.2794826706586,
          -361.7219410873792,
          -1553.10642941787,
          -2911.704491985796,
          -3011.684627089172,
          -3155.070327799933,
          -3296.9380318846697,
          -2339.6631084832925,
          -2359.4330491334435,
          -1758.516815865058,
          -1415.5314626394852,
          -1385.2405863258753,
          -1210.7914618154691,
          -961.2131841897096,
          -333.19058422313657,
          -330.8501382874672,
          -71.17496485704231,
          210.10165889193263,
          -106.30612717713916,
          -428.2465148360972,
          -270.6459874412663,
          -4.75841020536177,
          9.950868680086387,
          491.5738572531325,
          441.6137053462353,
          92.1574150844184,
          201.54546474507697,
          600.5062935779345,
          775.4152299917394,
          705.7005300523604,
          573.084751017052,
          302.6563045437379,
          258.80140033202883,
          79.5514182225337,
          128.30508483857375,
          28.05045616769513,
          -563.7425687868681,
          -412.02719820654556,
          -375.61982394445477,
          -438.1346252954193,
          -447.63228453532,
          -636.7039623423477,
          -933.9542672308701,
          -970.9680538104016,
          -1095.4614079090638,
          -1023.1106551810851,
          -1005.6218516765657,
          -1159.8841710779734,
          -1094.0096872530653,
          -763.664046813167,
          202.49889582752212,
          493.59050026730904,
          195.91942830440075,
          613.4676667535235,
          674.5813294354751,
          545.5510539429617,
          377.17864889383964,
          271.10124326463756,
          510.95329193923163,
          737.4062507864935,
          689.3565665310789,
          -335.3150701257261,
          -421.70209139547535,
          -440.8593477221499,
          -487.4138440217366,
          -91.1066022929815,
          -69.78299732354913,
          345.1069248926734,
          490.3677062997746,
          622.706419123991,
          233.25424972410616,
          373.1282776599093,
          109.12833925359163,
          144.86953711949744,
          225.51599469888578,
          56.65282780272926,
          -61.226557294256224,
          182.51380808967474,
          454.28729013369707,
          506.04490753815463,
          596.9363128952068,
          728.967254019595,
          924.6082185888426,
          1024.0577985049247,
          1177.3994275352097,
          536.2576985603295,
          763.3950810164542,
          907.4490984833558,
          763.2411099893877,
          722.7628334998315,
          735.5470082444731,
          804.0058001406032,
          952.2424273677182,
          579.4553149296347,
          655.5799323066458,
          504.8134075388851,
          53.59233223066347,
          6.634510964768651,
          210.88623003181783,
          93.58929985320964,
          104.32261158077716,
          17.315078902690658,
          -61.03544115010228,
          -139.71494308570018,
          -384.3378345063362,
          -336.8699711581273,
          -515.0800268725425,
          -910.3597635476563,
          -979.1675909420724,
          -704.0084533764273,
          -271.3307369153049,
          -542.9647923781121,
          -669.4853261817452,
          -275.25740756215475,
          -324.25876748951544,
          -298.7834514096155,
          -608.014586548934,
          -956.3597849414027,
          -876.6795264362315,
          -1024.0354486999815,
          -792.0837200553624,
          -786.0892900028073,
          -1003.9202462310355,
          -1040.124348003285,
          -1340.4238004894369,
          -1438.467177795076,
          -1414.0986522346936,
          -875.3885956771836,
          -1045.6424790681406,
          -1004.4968772063717,
          -1319.5500613250902,
          -1195.6419316029112,
          -1050.4642403111284,
          -730.0428818720409,
          -675.2049913652629,
          -581.3781551984937,
          -384.11953363826996,
          -128.0892598250132,
          173.35119944344774,
          520.3090751575198,
          1007.8325824687622,
          1168.1480450323759,
          1227.4593472250963,
          1416.8764516948565,
          1652.3019483566031,
          1023.113392279601,
          983.6250338960172,
          1037.380921234768,
          1190.8382736072733,
          1433.3084828346616,
          1275.5644554639543,
          1313.464521864722,
          1367.6808127703418,
          1363.4399789962367,
          1389.4093101545586,
          1035.689180418675,
          672.4614854610036,
          964.9688829691027,
          1014.8983222258921,
          888.1538290434371,
          1103.6214897835268,
          1166.905571731649,
          712.5006491250413,
          561.1134832983922,
          103.06271870388389,
          -207.50678704074267,
          -128.56193161509054,
          -209.38821597368224,
          -453.2658100577596,
          -196.413144013484,
          249.45114618748403,
          46.162721411356046,
          -20.815696810709596,
          465.3341485084451,
          557.037449678733,
          885.6807366071046,
          318.8396106130476,
          -499.67817315548655,
          -1181.1702016799043,
          -1455.7124157365026,
          -1316.0182362076584,
          -1282.5973848666479,
          -1337.6798350824943,
          -1320.60553682414,
          -1432.895386697045,
          -1557.3287778902602,
          -1367.9347272664616,
          -767.9458365278377,
          -682.0381465359653,
          -335.2932046126666,
          -505.2108771126172,
          -317.8945991750841,
          -108.63563067173519,
          214.9613000311913,
          154.7444487039499,
          -138.379485959005,
          -150.62587821010328,
          22.84482342264232,
          144.79065257577645,
          126.67764186932055,
          119.87604827526269,
          178.29873983999983,
          468.4175964696715,
          355.26611130970446,
          200.24984937077443,
          -123.69287452318952,
          -302.04785888844435,
          -217.14780409606442,
          -252.69165050465682,
          -238.572467185648,
          -416.0866976287439,
          -493.81961044083613,
          -387.03834203452675,
          -439.42470500735965,
          137.92703474820155,
          -86.77348564754101,
          -517.6709691917413,
          -497.0781780407319,
          -686.4315488976172,
          -844.2100255077833,
          -942.7329823819748,
          -1067.86494602585,
          -1142.1092222019645,
          -1213.0156093545024,
          -1445.3086892926663,
          -1057.511412270797,
          -682.5893710363734,
          -995.4555216431563,
          -1036.6420094170885,
          -780.1599687603482,
          -401.81437577417137,
          -532.0411880123501,
          -697.6209988307683,
          -538.4153750426236,
          -543.8857608394234,
          -242.9121128501226,
          -631.4093136679348,
          -1240.2695886583815,
          -1413.4341482633424,
          -1435.8286789134465,
          -556.3176947380116,
          214.49945134282035,
          -225.76418149550466,
          -542.9274894176457,
          -761.3014275433661,
          -1023.1998309027083,
          -751.0729196747941,
          46.719789838535775,
          248.4314168576372,
          -65.10177062153026,
          -529.8849346974116,
          -115.76465178347809,
          596.3527864919434,
          1439.9426626589905,
          1245.4106098312457,
          1503.7087816331953,
          1915.1358788433697,
          1698.1708664686273,
          1668.6936037141452,
          1695.1979818204088,
          1688.969346130471,
          -79.23393119904563,
          -533.417443690756,
          -369.3565932254144,
          -51.9311085658328,
          331.5589739856108,
          519.4810496267755,
          54.72848331700902,
          67.58433469429718,
          -428.4540410957363,
          -961.162975124837,
          -1012.5970518269514,
          -1178.8686018226133,
          -2005.561372589655,
          -2765.8909176835878,
          -3307.925828167178,
          -4516.262206263621,
          -4228.028485690253,
          -3944.82889307032,
          -4281.878932772949,
          -4395.576506627327,
          -4049.733875042781,
          -1909.5582343351173,
          -2079.1177650126624,
          -2278.300522464268,
          -2454.5531504396304,
          -3048.1140857005494,
          -3645.0997526162537,
          -3449.7786694272677,
          -3619.8996496187115,
          -2540.2851841710403,
          -1837.8283190699203,
          -455.2417467449186,
          -395.96845128329244,
          -914.7123955847679,
          432.9693714142197,
          636.2070787990178,
          506.28930719934124,
          1687.2334622181318,
          3979.8484427261747,
          2280.8908317411524,
          2456.1508704495404,
          4722.645381973273,
          7517.596997675119,
          8639.83128879224,
          8774.772830588827,
          7793.997617035435,
          2452.7266781851677,
          2523.3562178644866,
          1970.3904053533583,
          5034.925730968309,
          3701.5991749664026,
          2794.9737207104754,
          1406.0835527695328,
          1392.727797780555,
          1693.6608803610873,
          -281.4668548047177,
          -2777.25310147431,
          -4294.157855152295,
          -4560.986603850059,
          -5181.660718599582,
          -4378.489109071439,
          -5968.812300204532,
          -7105.321226610825,
          -6933.246737929817,
          -4293.382542029086,
          -5503.813331693232,
          -6321.039054584824,
          -6433.362061200579,
          -5751.760691328878,
          -4260.422922240763,
          -3475.0060373856704,
          -3566.2901236902862,
          -1831.9171818167747,
          -2848.4592379895003,
          -773.6989048492244,
          4018.9697327373733,
          2915.2230956223816,
          2950.542051043376,
          3791.8194706449362,
          3127.0871790227534,
          4130.599452333291,
          3024.1479529203307,
          3531.1517835235286,
          4848.690128104049,
          5356.379973675249,
          6212.358258173007,
          8839.08774741937,
          9214.732585569693,
          6867.694044406888,
          1277.2702801221708,
          1471.679231298216,
          1162.005340638324,
          -2187.2801071539748,
          -2123.424100815217,
          -4711.688312601182,
          -2567.977567100019,
          null,
          null,
          null,
          null,
          null,
          null,
          null,
          null,
          null,
          null,
          null,
          null,
          null,
          null,
          null,
          null,
          null,
          null,
          null,
          null,
          null,
          null,
          null,
          null,
          null,
          null,
          null,
          null,
          null,
          null
         ]
        },
        {
         "line": {
          "color": "rgb(66, 134, 244)",
          "width": 2
         },
         "mode": "lines",
         "name": "Observed",
         "type": "scatter",
         "x": [
          0,
          1,
          2,
          3,
          4,
          5,
          6,
          7,
          8,
          9,
          10,
          11,
          12,
          13,
          14,
          15,
          16,
          17,
          18,
          19,
          20,
          21,
          22,
          23,
          24,
          25,
          26,
          27,
          28,
          29,
          30,
          31,
          32,
          33,
          34,
          35,
          36,
          37,
          38,
          39,
          40,
          41,
          42,
          43,
          44,
          45,
          46,
          47,
          48,
          49,
          50,
          51,
          52,
          53,
          54,
          55,
          56,
          57,
          58,
          59,
          60,
          61,
          62,
          63,
          64,
          65,
          66,
          67,
          68,
          69,
          70,
          71,
          72,
          73,
          74,
          75,
          76,
          77,
          78,
          79,
          80,
          81,
          82,
          83,
          84,
          85,
          86,
          87,
          88,
          89,
          90,
          91,
          92,
          93,
          94,
          95,
          96,
          97,
          98,
          99,
          100,
          101,
          102,
          103,
          104,
          105,
          106,
          107,
          108,
          109,
          110,
          111,
          112,
          113,
          114,
          115,
          116,
          117,
          118,
          119,
          120,
          121,
          122,
          123,
          124,
          125,
          126,
          127,
          128,
          129,
          130,
          131,
          132,
          133,
          134,
          135,
          136,
          137,
          138,
          139,
          140,
          141,
          142,
          143,
          144,
          145,
          146,
          147,
          148,
          149,
          150,
          151,
          152,
          153,
          154,
          155,
          156,
          157,
          158,
          159,
          160,
          161,
          162,
          163,
          164,
          165,
          166,
          167,
          168,
          169,
          170,
          171,
          172,
          173,
          174,
          175,
          176,
          177,
          178,
          179,
          180,
          181,
          182,
          183,
          184,
          185,
          186,
          187,
          188,
          189,
          190,
          191,
          192,
          193,
          194,
          195,
          196,
          197,
          198,
          199,
          200,
          201,
          202,
          203,
          204,
          205,
          206,
          207,
          208,
          209,
          210,
          211,
          212,
          213,
          214,
          215,
          216,
          217,
          218,
          219,
          220,
          221,
          222,
          223,
          224,
          225,
          226,
          227,
          228,
          229,
          230,
          231,
          232,
          233,
          234,
          235,
          236,
          237,
          238,
          239,
          240,
          241,
          242,
          243,
          244,
          245,
          246,
          247,
          248,
          249,
          250,
          251,
          252,
          253,
          254,
          255,
          256,
          257,
          258,
          259,
          260,
          261,
          262,
          263,
          264,
          265,
          266,
          267,
          268,
          269,
          270,
          271,
          272,
          273,
          274,
          275,
          276,
          277,
          278,
          279,
          280,
          281,
          282,
          283,
          284,
          285,
          286,
          287,
          288,
          289,
          290,
          291,
          292,
          293,
          294,
          295,
          296,
          297,
          298,
          299,
          300,
          301,
          302,
          303,
          304,
          305,
          306,
          307,
          308,
          309,
          310,
          311,
          312,
          313,
          314,
          315,
          316,
          317,
          318,
          319,
          320,
          321,
          322,
          323,
          324,
          325,
          326,
          327,
          328,
          329,
          330,
          331,
          332,
          333,
          334,
          335,
          336,
          337,
          338,
          339,
          340,
          341,
          342,
          343,
          344,
          345,
          346,
          347,
          348,
          349,
          350,
          351,
          352,
          353,
          354,
          355,
          356,
          357,
          358,
          359,
          360,
          361,
          362,
          363,
          364,
          365,
          366,
          367,
          368,
          369,
          370,
          371,
          372,
          373,
          374,
          375,
          376,
          377,
          378,
          379,
          380,
          381,
          382,
          383,
          384,
          385,
          386,
          387,
          388,
          389,
          390,
          391,
          392,
          393,
          394,
          395,
          396,
          397,
          398,
          399,
          400,
          401,
          402,
          403,
          404,
          405,
          406,
          407,
          408,
          409,
          410,
          411,
          412,
          413,
          414,
          415,
          416,
          417,
          418,
          419,
          420,
          421,
          422,
          423,
          424,
          425,
          426,
          427,
          428,
          429,
          430,
          431,
          432,
          433,
          434,
          435,
          436,
          437,
          438,
          439,
          440,
          441,
          442,
          443,
          444,
          445,
          446,
          447,
          448,
          449,
          450,
          451,
          452,
          453,
          454,
          455,
          456,
          457,
          458,
          459,
          460,
          461,
          462,
          463,
          464,
          465,
          466,
          467,
          468,
          469,
          470,
          471,
          472,
          473,
          474,
          475,
          476,
          477,
          478,
          479,
          480,
          481,
          482,
          483,
          484,
          485,
          486,
          487,
          488,
          489,
          490,
          491,
          492,
          493,
          494,
          495,
          496,
          497,
          498,
          499,
          500,
          501,
          502,
          503,
          504,
          505,
          506,
          507,
          508,
          509,
          510,
          511,
          512,
          513,
          514,
          515,
          516,
          517,
          518,
          519,
          520,
          521,
          522,
          523,
          524,
          525,
          526,
          527,
          528,
          529,
          530,
          531,
          532,
          533,
          534,
          535,
          536,
          537,
          538,
          539,
          540,
          541,
          542,
          543,
          544,
          545,
          546,
          547,
          548,
          549,
          550,
          551,
          552,
          553,
          554,
          555,
          556,
          557,
          558,
          559,
          560,
          561,
          562,
          563,
          564,
          565,
          566,
          567,
          568,
          569,
          570,
          571,
          572,
          573,
          574,
          575,
          576,
          577,
          578,
          579,
          580,
          581,
          582,
          583,
          584,
          585,
          586,
          587,
          588,
          589,
          590,
          591,
          592,
          593,
          594,
          595,
          596,
          597,
          598,
          599,
          600,
          601,
          602,
          603,
          604,
          605,
          606,
          607,
          608,
          609,
          610,
          611,
          612,
          613,
          614,
          615,
          616,
          617,
          618,
          619,
          620,
          621,
          622,
          623,
          624,
          625,
          626,
          627,
          628,
          629,
          630,
          631,
          632,
          633,
          634,
          635,
          636,
          637,
          638,
          639,
          640,
          641,
          642,
          643,
          644,
          645,
          646,
          647,
          648,
          649,
          650,
          651,
          652,
          653,
          654,
          655,
          656,
          657,
          658,
          659
         ],
         "y": [
          7896.83001328662,
          8036.509587763997,
          8169.588231822863,
          8353.217492064301,
          8727.687036371808,
          9095.289101530438,
          9235.84643250591,
          9152.500069336693,
          9148.013959014454,
          9353.226485596455,
          9801.486018448264,
          10724.805004758333,
          10746.900511013213,
          10846.846268886111,
          11315.817028152778,
          12643.582684068057,
          11804.629165520835,
          11679.438350060458,
          11854.537295204309,
          11542.551910965278,
          10688.3166698925,
          10303.94725500368,
          11345.214704756945,
          11759.042504677083,
          11139.493770149722,
          11415.369265018246,
          11311.476748027972,
          11794.103580294362,
          12513.873100013898,
          12648.777229872221,
          11583.33114395625,
          11584.532266976355,
          11428.59780370119,
          10857.02663389106,
          10417.313950106389,
          10355.675152687838,
          9577.424253618541,
          10054.174637386319,
          10472.448828593728,
          10680.276549055905,
          10577.614454422584,
          10450.15757070691,
          10070.725015713153,
          9702.591536684678,
          10016.95239891381,
          9774.724239339519,
          9728.204527019096,
          9484.91410564371,
          9539.378363609232,
          9540.448916710371,
          9857.746978877918,
          10085.104546979135,
          10475.070739547553,
          10784.832144716524,
          10820.892324169707,
          11675.761776815843,
          11757.580574404448,
          11711.54347617361,
          11801.34874174218,
          11819.342192960974,
          11578.771028918323,
          11378.23287625414,
          11395.233641041492,
          11137.508863135605,
          10438.670629312179,
          10011.09607166713,
          10230.707223260682,
          10296.331609269493,
          10292.527044551449,
          10615.609217593968,
          10752.164342622098,
          10194.123627454297,
          10046.304461677862,
          10263.66759854155,
          10155.542089256625,
          10100.656939299779,
          10345.745626969783,
          10173.438323876944,
          10042.66901372292,
          9519.19556846485,
          9534.77356921509,
          9593.48744870225,
          9626.724277129408,
          9950.81440660014,
          10522.2502178007,
          10563.647519247545,
          10564.875481794745,
          10659.807003605336,
          10425.199010551292,
          10460.721158303626,
          10301.052740780628,
          10220.789594924785,
          10063.616404874574,
          10219.738823657242,
          10316.605586066476,
          10341.913357534813,
          10316.66517278883,
          10252.573076358103,
          10216.732469111426,
          10194.849184512006,
          9989.622671113486,
          10174.286765040259,
          10038.312742536116,
          9978.878329965726,
          9877.505049456991,
          9423.226721940335,
          8448.935015594028,
          8251.523231985982,
          8039.224140808507,
          8158.789736606589,
          8073.9537522231785,
          8072.61663108239,
          8362.338726063745,
          8257.53289737893,
          8244.961882187736,
          8146.725816650452,
          8108.012260229536,
          7980.2613741350515,
          8040.7742697218755,
          8209.567752138215,
          8338.767992641348,
          8560.788050894631,
          8398.90430229132,
          8334.023264038153,
          8358.546977063059,
          8308.311406457333,
          8264.18983118871,
          8064.522897802507,
          8032.837878444004,
          7962.841632669792,
          7959.600127137167,
          8020.29762071857,
          8222.446397849375,
          8199.58174991533,
          7736.604987101156,
          7450.100639864555,
          7880.584318722863,
          9318.768119687275,
          9413.283675192668,
          9476.646249183541,
          9383.479470677568,
          9193.173796062196,
          9172.688580832568,
          9155.013009841965,
          9281.022513483938,
          9217.61490854777,
          9257.235809623842,
          9343.976273420221,
          9335.804948360492,
          9237.518967896272,
          8978.654813496512,
          8810.738395148996,
          8896.594757823768,
          8792.92033648704,
          8734.287632799298,
          8747.939129337929,
          8655.655597415272,
          8539.642750726829,
          8470.01792728436,
          8514.029198381428,
          8378.876831365851,
          8115.508755776789,
          8098.433021968151,
          7847.416641400139,
          7341.804982141348,
          7242.5101706531705,
          7146.012933634432,
          6961.916463382015,
          7140.879929910146,
          7252.149434008623,
          7522.175880529575,
          7612.064453473588,
          7653.7689299072545,
          7353.310525060705,
          7309.541874785915,
          7319.050655238827,
          7276.93770894753,
          7328.986921367733,
          7405.110015872575,
          7532.677123219301,
          7495.626457542383,
          7460.901284415649,
          7300.556087797425,
          7210.646917069641,
          7172.286553317028,
          7226.902418159915,
          7164.373492626379,
          7089.723106689309,
          7032.860391371809,
          6790.183639408659,
          6770.356285148959,
          7148.24314580139,
          7150.839262453889,
          7148.361459371388,
          7228.238391081993,
          7504.055563032636,
          7296.419569266667,
          7210.937964009355,
          7221.176955374911,
          7191.861071997463,
          7298.71325546727,
          7345.635970926201,
          7297.912752203773,
          7199.048192231056,
          7195.811552696487,
          7072.477633719384,
          7218.040866931682,
          7321.9194708394125,
          7430.027209611765,
          7533.920318682505,
          7929.897113517025,
          8235.62327437288,
          7898.569229036523,
          7888.135214954419,
          8113.360825871817,
          8111.715362809296,
          8102.893845324075,
          8574.611704362778,
          8743.692143647291,
          8674.415975438429,
          8852.80457727625,
          8891.817032065532,
          8847.166821810988,
          8644.707999736622,
          8646.193566877122,
          8665.685486395549,
          8435.60273035554,
          8383.32548664732,
          8321.535235775193,
          8430.129199500634,
          8723.53546651094,
          9041.676236459416,
          9331.033357999097,
          9370.89651238228,
          9342.279203230486,
          9372.44906582662,
          9377.036114146764,
          9330.40038077672,
          9202.938405466666,
          9403.167151421294,
          9689.41702545611,
          9776.736692524168,
          9813.044905712388,
          10080.722382977692,
          9922.395658425208,
          9957.71639903565,
          10344.23948839375,
          10286.246258415278,
          10262.061382627084,
          10143.891251224097,
          9905.533884787154,
          9720.587398641319,
          9846.395991498055,
          10098.862828333078,
          9582.24688837118,
          9689.81545051362,
          9660.397790837422,
          9870.245958296518,
          9735.050459190896,
          9490.032467298817,
          9033.42804906368,
          8796.161047472153,
          8698.50545896493,
          8686.213148361267,
          8557.198634572245,
          8747.60187217889,
          8791.293455052884,
          8761.143370995134,
          9019.792645918415,
          9098.213160726615,
          9053.832076247834,
          8569.848185239665,
          7882.121460787501,
          7948.20479578624,
          7849.994645347669,
          6666.8288616819445,
          5294.226216340625,
          5410.145281967316,
          5300.823048177198,
          4985.279471287815,
          5313.574447863547,
          5285.267935995222,
          5765.021215411847,
          6361.389077256465,
          6169.0808638566405,
          6132.19254868989,
          6105.912299011584,
          6653.24717908682,
          6662.127716616783,
          6671.740301294887,
          6692.03163392507,
          6227.902488380876,
          6104.824055534402,
          6274.273825478297,
          6451.763185970713,
          6308.424179516385,
          6724.470570755298,
          6814.820556971713,
          6773.3763511672105,
          6796.675729856812,
          7092.209807825685,
          7318.081696902664,
          7302.501675313943,
          7304.8543422836665,
          6972.933325834542,
          6871.078166278387,
          6954.06131225038,
          6751.871765907465,
          6884.686986010135,
          6798.8475537627355,
          6914.6664101467095,
          7071.901788128172,
          7153.9275586031945,
          7166.968470350747,
          7050.526232960057,
          6867.155475591535,
          7006.153003182838,
          7303.817318437702,
          7521.625762324783,
          7544.735051663964,
          7603.793608820939,
          7715.970909100279,
          7730.878020961834,
          8245.722380213292,
          8894.275984848126,
          8784.64278472021,
          8873.989539326563,
          8979.8925886014,
          8772.605609500626,
          8930.913681363852,
          9164.282146281499,
          9492.195702154653,
          9924.46195119388,
          9727.209380738623,
          8687.485435756498,
          8706.762334109952,
          8774.268432777051,
          9045.862951861673,
          9577.180130024619,
          9523.737060923506,
          9403.564276661013,
          9626.880262499786,
          9721.819166062283,
          9670.352673392987,
          9670.785648144516,
          9279.322026266458,
          9124.649396746318,
          9205.783900625256,
          9119.084263966228,
          8819.204823993847,
          8859.416745109058,
          9030.15356131142,
          9321.50428794414,
          9454.194394877903,
          9507.292082854146,
          9546.667359008292,
          9585.242823246666,
          9880.582896244669,
          9551.918962460255,
          9700.43932304499,
          9742.028924931494,
          9637.024958752836,
          9618.213260328099,
          9725.488576168938,
          9712.814762248128,
          9788.521959529107,
          9639.953642159222,
          9411.40452584464,
          9426.981678573988,
          9403.238615212731,
          9244.433018226346,
          9493.595172876241,
          9442.65748125204,
          9406.255930210371,
          9326.588143206127,
          9301.563679662226,
          9348.204026697771,
          9482.184810315599,
          9638.217570861829,
          9436.92519585693,
          9231.493230758932,
          9180.609944562828,
          9106.159939018444,
          9056.257339322981,
          9116.123239307997,
          9150.825424038163,
          9191.841695595105,
          9166.08243554116,
          9093.863231727604,
          9091.76743531617,
          9062.059217030532,
          9216.144576610279,
          9269.029049758998,
          9346.71076847222,
          9327.67512244847,
          9200.495958052377,
          9238.790536103692,
          9249.43824694953,
          9278.539033505616,
          9220.12313770205,
          9221.474235418795,
          9130.464282660963,
          9134.88543046599,
          9162.23590497374,
          9154.807427888658,
          9177.715587053488,
          9309.146587307878,
          9366.08121152948,
          9541.144946620196,
          9557.22859637074,
          9619.470008863225,
          9834.34345093737,
          10435.77195985602,
          10985.119592693056,
          11096.370981655053,
          11033.542140439722,
          11196.163887413408,
          11610.522017505587,
          11333.746837542161,
          11255.501070308339,
          11243.48303516028,
          11465.564492601672,
          11755.581199804166,
          11716.41160780544,
          11685.075270792426,
          11672.13134572093,
          11899.919358701876,
          11632.641652881699,
          11463.679295341904,
          11551.097077250175,
          11755.18194227298,
          11876.953385832172,
          11850.765200290209,
          12056.323421185625,
          12164.40358757818,
          11797.51651098125,
          11799.526727126486,
          11744.323115112576,
          11559.842808898175,
          11623.091878436791,
          11733.966268063905,
          11506.833402339887,
          11405.160311917933,
          11346.124717479443,
          11442.939620304409,
          11507.10433766596,
          11609.048559349363,
          11685.020310521588,
          11874.642536686848,
          11576.25306907446,
          11039.063579204309,
          10391.276090070347,
          10268.003898553521,
          10201.799719070521,
          10159.82153465522,
          10146.578532762562,
          10188.169891084857,
          10339.35989595404,
          10303.242946947663,
          10373.259994796503,
          10393.662602084098,
          10511.558141261507,
          10774.09014676084,
          10895.031435610606,
          10892.677561047387,
          10925.275534520644,
          11013.781351278094,
          10915.458254081213,
          10677.042177491314,
          10467.799828944444,
          10429.32410145101,
          10447.154971139653,
          10671.424398447645,
          10716.311805883755,
          10717.587523472914,
          10878.729324832035,
          10729.49535984686,
          10741.21274592227,
          10755.638201109561,
          10528.457687540182,
          10549.999930406648,
          10604.973839338629,
          10705.634581668555,
          10699.247307400141,
          10621.1479497777,
          10734.447340398323,
          10983.384095603933,
          11334.302728770817,
          11360.626362271323,
          11447.596319805221,
          11450.01113257012,
          11405.5015588268,
          11415.065075223158,
          11364.835083055983,
          11343.749377836297,
          11424.963448037328,
          11587.264630524505,
          11845.688666804637,
          12458.755897932593,
          12933.452571687369,
          12933.337158049088,
          13030.40593501592,
          13056.22818710296,
          13067.709653875707,
          13368.090398184977,
          13444.619430909723,
          13330.564563991662,
          13435.770794682672,
          13738.185588586955,
          13769.800513425595,
          13596.939398092683,
          13612.774179418233,
          13900.019495758188,
          14730.15041758264,
          15583.101231359722,
          15342.928405946443,
          15202.59451839986,
          15381.907919403473,
          15327.286289963864,
          15593.693127775694,
          15927.901184766668,
          16290.816921184156,
          16029.412185657804,
          15995.998189848056,
          16372.397348176512,
          17083.845872113274,
          17884.6282452625,
          17843.01880314236,
          18336.44645095625,
          18711.314227810417,
          18432.242585682638,
          18448.166465381943,
          18862.793010583333,
          19056.078856653472,
          17390.736701274305,
          16987.868828386807,
          17312.290464663194,
          17991.41982026078,
          18913.478020126477,
          19264.72192229653,
          18953.713099227083,
          19282.56309730833,
          19121.886986334724,
          18998.079583495834,
          19145.148466569426,
          19198.998589492363,
          18942.096815483335,
          18265.613948152084,
          18303.16309365625,
          17937.337420969423,
          18471.794175698888,
          19113.04710453162,
          19161.334182659248,
          19352.60234239375,
          20077.72292045972,
          22616.832315699998,
          22884.613914634723,
          23360.905627054166,
          23594.41173107521,
          23259.466833602084,
          23097.830404147222,
          23530.788341771527,
          23219.253677889585,
          24016.39466225972,
          25267.11261518998,
          27043.38647,
          26964.020499138893,
          26671.00809917778,
          28141.234408113196,
          28881.524878111806,
          29288.824916593752,
          30757.42953276042,
          33467.36252562916,
          31856.122685291666,
          32273.087909194444,
          34904.99738251389,
          38067.44547187986,
          39807.603738850696,
          40395.370087963194,
          39727.27752555417,
          34277.11000771458,
          34840.25015274931,
          34673.97475176042,
          38508.45668270347,
          37468.42796355625,
          36843.15436011188,
          35650.76418554729,
          36046.172744233656,
          36858.91067922986,
          35152.73730396041,
          32949.07245171042,
          31861.057341175692,
          32351.81482667084,
          32225.070119778866,
          33353.08542052361,
          31997.221463515973,
          31149.41936392153,
          31793.884442463197,
          35051.467813852774,
          34053.71261722708,
          33450.93785876323,
          33705.97519064722,
          34713.69640010833,
          36573.09481030625,
          37541.54813242222,
          37630.04921400487,
          39814.356554572616,
          38711.774555249474,
          41196.61444486648,
          46684.4908495625,
          45798.7337153625,
          46272.21566854444,
          47603.41542011806,
          47273.849919144544,
          48600.491518490235,
          47862.39794598194,
          48845.16600342639,
          50913.92413875069,
          51893.31118121875,
          53083.8791087993,
          56271.28853767917,
          57040.82594383044,
          54708.31202510764,
          48968.83794590833,
          49800.28486888125,
          49985.23481495344,
          46655.92004851875,
          47130.20806015889,
          44818.447552103615,
          47641.53689948158,
          48617.289320901386,
          50429.449015790684,
          49398.25039857084,
          47717.64330027986,
          48371.543537970036,
          50218.21680438112,
          50798.354212407234,
          53980.84726167916,
          55375.366241257994,
          56272.596972013904,
          56826.56003304931,
          58802.60156770642,
          60455.844831486414,
          57507.73450910987,
          55339.80479183195,
          56158.01731986032,
          58472.11732155981,
          58283.54799432522,
          58779.76938655648,
          57312.598536458274,
          56787.14842211057,
          54703.38774047083,
          55123.99385491754,
          52121.68411029951,
          53241.037488505215,
          55193.357259559045,
          55832.95882390712,
          56913.993819261836,
          58346.91226829547,
          58764.349363
         ]
        }
       ],
       "layout": {
        "autosize": true,
        "template": {
         "data": {
          "bar": [
           {
            "error_x": {
             "color": "#2a3f5f"
            },
            "error_y": {
             "color": "#2a3f5f"
            },
            "marker": {
             "line": {
              "color": "#E5ECF6",
              "width": 0.5
             },
             "pattern": {
              "fillmode": "overlay",
              "size": 10,
              "solidity": 0.2
             }
            },
            "type": "bar"
           }
          ],
          "barpolar": [
           {
            "marker": {
             "line": {
              "color": "#E5ECF6",
              "width": 0.5
             },
             "pattern": {
              "fillmode": "overlay",
              "size": 10,
              "solidity": 0.2
             }
            },
            "type": "barpolar"
           }
          ],
          "carpet": [
           {
            "aaxis": {
             "endlinecolor": "#2a3f5f",
             "gridcolor": "white",
             "linecolor": "white",
             "minorgridcolor": "white",
             "startlinecolor": "#2a3f5f"
            },
            "baxis": {
             "endlinecolor": "#2a3f5f",
             "gridcolor": "white",
             "linecolor": "white",
             "minorgridcolor": "white",
             "startlinecolor": "#2a3f5f"
            },
            "type": "carpet"
           }
          ],
          "choropleth": [
           {
            "colorbar": {
             "outlinewidth": 0,
             "ticks": ""
            },
            "type": "choropleth"
           }
          ],
          "contour": [
           {
            "colorbar": {
             "outlinewidth": 0,
             "ticks": ""
            },
            "colorscale": [
             [
              0,
              "#0d0887"
             ],
             [
              0.1111111111111111,
              "#46039f"
             ],
             [
              0.2222222222222222,
              "#7201a8"
             ],
             [
              0.3333333333333333,
              "#9c179e"
             ],
             [
              0.4444444444444444,
              "#bd3786"
             ],
             [
              0.5555555555555556,
              "#d8576b"
             ],
             [
              0.6666666666666666,
              "#ed7953"
             ],
             [
              0.7777777777777778,
              "#fb9f3a"
             ],
             [
              0.8888888888888888,
              "#fdca26"
             ],
             [
              1,
              "#f0f921"
             ]
            ],
            "type": "contour"
           }
          ],
          "contourcarpet": [
           {
            "colorbar": {
             "outlinewidth": 0,
             "ticks": ""
            },
            "type": "contourcarpet"
           }
          ],
          "heatmap": [
           {
            "colorbar": {
             "outlinewidth": 0,
             "ticks": ""
            },
            "colorscale": [
             [
              0,
              "#0d0887"
             ],
             [
              0.1111111111111111,
              "#46039f"
             ],
             [
              0.2222222222222222,
              "#7201a8"
             ],
             [
              0.3333333333333333,
              "#9c179e"
             ],
             [
              0.4444444444444444,
              "#bd3786"
             ],
             [
              0.5555555555555556,
              "#d8576b"
             ],
             [
              0.6666666666666666,
              "#ed7953"
             ],
             [
              0.7777777777777778,
              "#fb9f3a"
             ],
             [
              0.8888888888888888,
              "#fdca26"
             ],
             [
              1,
              "#f0f921"
             ]
            ],
            "type": "heatmap"
           }
          ],
          "heatmapgl": [
           {
            "colorbar": {
             "outlinewidth": 0,
             "ticks": ""
            },
            "colorscale": [
             [
              0,
              "#0d0887"
             ],
             [
              0.1111111111111111,
              "#46039f"
             ],
             [
              0.2222222222222222,
              "#7201a8"
             ],
             [
              0.3333333333333333,
              "#9c179e"
             ],
             [
              0.4444444444444444,
              "#bd3786"
             ],
             [
              0.5555555555555556,
              "#d8576b"
             ],
             [
              0.6666666666666666,
              "#ed7953"
             ],
             [
              0.7777777777777778,
              "#fb9f3a"
             ],
             [
              0.8888888888888888,
              "#fdca26"
             ],
             [
              1,
              "#f0f921"
             ]
            ],
            "type": "heatmapgl"
           }
          ],
          "histogram": [
           {
            "marker": {
             "pattern": {
              "fillmode": "overlay",
              "size": 10,
              "solidity": 0.2
             }
            },
            "type": "histogram"
           }
          ],
          "histogram2d": [
           {
            "colorbar": {
             "outlinewidth": 0,
             "ticks": ""
            },
            "colorscale": [
             [
              0,
              "#0d0887"
             ],
             [
              0.1111111111111111,
              "#46039f"
             ],
             [
              0.2222222222222222,
              "#7201a8"
             ],
             [
              0.3333333333333333,
              "#9c179e"
             ],
             [
              0.4444444444444444,
              "#bd3786"
             ],
             [
              0.5555555555555556,
              "#d8576b"
             ],
             [
              0.6666666666666666,
              "#ed7953"
             ],
             [
              0.7777777777777778,
              "#fb9f3a"
             ],
             [
              0.8888888888888888,
              "#fdca26"
             ],
             [
              1,
              "#f0f921"
             ]
            ],
            "type": "histogram2d"
           }
          ],
          "histogram2dcontour": [
           {
            "colorbar": {
             "outlinewidth": 0,
             "ticks": ""
            },
            "colorscale": [
             [
              0,
              "#0d0887"
             ],
             [
              0.1111111111111111,
              "#46039f"
             ],
             [
              0.2222222222222222,
              "#7201a8"
             ],
             [
              0.3333333333333333,
              "#9c179e"
             ],
             [
              0.4444444444444444,
              "#bd3786"
             ],
             [
              0.5555555555555556,
              "#d8576b"
             ],
             [
              0.6666666666666666,
              "#ed7953"
             ],
             [
              0.7777777777777778,
              "#fb9f3a"
             ],
             [
              0.8888888888888888,
              "#fdca26"
             ],
             [
              1,
              "#f0f921"
             ]
            ],
            "type": "histogram2dcontour"
           }
          ],
          "mesh3d": [
           {
            "colorbar": {
             "outlinewidth": 0,
             "ticks": ""
            },
            "type": "mesh3d"
           }
          ],
          "parcoords": [
           {
            "line": {
             "colorbar": {
              "outlinewidth": 0,
              "ticks": ""
             }
            },
            "type": "parcoords"
           }
          ],
          "pie": [
           {
            "automargin": true,
            "type": "pie"
           }
          ],
          "scatter": [
           {
            "fillpattern": {
             "fillmode": "overlay",
             "size": 10,
             "solidity": 0.2
            },
            "type": "scatter"
           }
          ],
          "scatter3d": [
           {
            "line": {
             "colorbar": {
              "outlinewidth": 0,
              "ticks": ""
             }
            },
            "marker": {
             "colorbar": {
              "outlinewidth": 0,
              "ticks": ""
             }
            },
            "type": "scatter3d"
           }
          ],
          "scattercarpet": [
           {
            "marker": {
             "colorbar": {
              "outlinewidth": 0,
              "ticks": ""
             }
            },
            "type": "scattercarpet"
           }
          ],
          "scattergeo": [
           {
            "marker": {
             "colorbar": {
              "outlinewidth": 0,
              "ticks": ""
             }
            },
            "type": "scattergeo"
           }
          ],
          "scattergl": [
           {
            "marker": {
             "colorbar": {
              "outlinewidth": 0,
              "ticks": ""
             }
            },
            "type": "scattergl"
           }
          ],
          "scattermapbox": [
           {
            "marker": {
             "colorbar": {
              "outlinewidth": 0,
              "ticks": ""
             }
            },
            "type": "scattermapbox"
           }
          ],
          "scatterpolar": [
           {
            "marker": {
             "colorbar": {
              "outlinewidth": 0,
              "ticks": ""
             }
            },
            "type": "scatterpolar"
           }
          ],
          "scatterpolargl": [
           {
            "marker": {
             "colorbar": {
              "outlinewidth": 0,
              "ticks": ""
             }
            },
            "type": "scatterpolargl"
           }
          ],
          "scatterternary": [
           {
            "marker": {
             "colorbar": {
              "outlinewidth": 0,
              "ticks": ""
             }
            },
            "type": "scatterternary"
           }
          ],
          "surface": [
           {
            "colorbar": {
             "outlinewidth": 0,
             "ticks": ""
            },
            "colorscale": [
             [
              0,
              "#0d0887"
             ],
             [
              0.1111111111111111,
              "#46039f"
             ],
             [
              0.2222222222222222,
              "#7201a8"
             ],
             [
              0.3333333333333333,
              "#9c179e"
             ],
             [
              0.4444444444444444,
              "#bd3786"
             ],
             [
              0.5555555555555556,
              "#d8576b"
             ],
             [
              0.6666666666666666,
              "#ed7953"
             ],
             [
              0.7777777777777778,
              "#fb9f3a"
             ],
             [
              0.8888888888888888,
              "#fdca26"
             ],
             [
              1,
              "#f0f921"
             ]
            ],
            "type": "surface"
           }
          ],
          "table": [
           {
            "cells": {
             "fill": {
              "color": "#EBF0F8"
             },
             "line": {
              "color": "white"
             }
            },
            "header": {
             "fill": {
              "color": "#C8D4E3"
             },
             "line": {
              "color": "white"
             }
            },
            "type": "table"
           }
          ]
         },
         "layout": {
          "annotationdefaults": {
           "arrowcolor": "#2a3f5f",
           "arrowhead": 0,
           "arrowwidth": 1
          },
          "autotypenumbers": "strict",
          "coloraxis": {
           "colorbar": {
            "outlinewidth": 0,
            "ticks": ""
           }
          },
          "colorscale": {
           "diverging": [
            [
             0,
             "#8e0152"
            ],
            [
             0.1,
             "#c51b7d"
            ],
            [
             0.2,
             "#de77ae"
            ],
            [
             0.3,
             "#f1b6da"
            ],
            [
             0.4,
             "#fde0ef"
            ],
            [
             0.5,
             "#f7f7f7"
            ],
            [
             0.6,
             "#e6f5d0"
            ],
            [
             0.7,
             "#b8e186"
            ],
            [
             0.8,
             "#7fbc41"
            ],
            [
             0.9,
             "#4d9221"
            ],
            [
             1,
             "#276419"
            ]
           ],
           "sequential": [
            [
             0,
             "#0d0887"
            ],
            [
             0.1111111111111111,
             "#46039f"
            ],
            [
             0.2222222222222222,
             "#7201a8"
            ],
            [
             0.3333333333333333,
             "#9c179e"
            ],
            [
             0.4444444444444444,
             "#bd3786"
            ],
            [
             0.5555555555555556,
             "#d8576b"
            ],
            [
             0.6666666666666666,
             "#ed7953"
            ],
            [
             0.7777777777777778,
             "#fb9f3a"
            ],
            [
             0.8888888888888888,
             "#fdca26"
            ],
            [
             1,
             "#f0f921"
            ]
           ],
           "sequentialminus": [
            [
             0,
             "#0d0887"
            ],
            [
             0.1111111111111111,
             "#46039f"
            ],
            [
             0.2222222222222222,
             "#7201a8"
            ],
            [
             0.3333333333333333,
             "#9c179e"
            ],
            [
             0.4444444444444444,
             "#bd3786"
            ],
            [
             0.5555555555555556,
             "#d8576b"
            ],
            [
             0.6666666666666666,
             "#ed7953"
            ],
            [
             0.7777777777777778,
             "#fb9f3a"
            ],
            [
             0.8888888888888888,
             "#fdca26"
            ],
            [
             1,
             "#f0f921"
            ]
           ]
          },
          "colorway": [
           "#636efa",
           "#EF553B",
           "#00cc96",
           "#ab63fa",
           "#FFA15A",
           "#19d3f3",
           "#FF6692",
           "#B6E880",
           "#FF97FF",
           "#FECB52"
          ],
          "font": {
           "color": "#2a3f5f"
          },
          "geo": {
           "bgcolor": "white",
           "lakecolor": "white",
           "landcolor": "#E5ECF6",
           "showlakes": true,
           "showland": true,
           "subunitcolor": "white"
          },
          "hoverlabel": {
           "align": "left"
          },
          "hovermode": "closest",
          "mapbox": {
           "style": "light"
          },
          "paper_bgcolor": "white",
          "plot_bgcolor": "#E5ECF6",
          "polar": {
           "angularaxis": {
            "gridcolor": "white",
            "linecolor": "white",
            "ticks": ""
           },
           "bgcolor": "#E5ECF6",
           "radialaxis": {
            "gridcolor": "white",
            "linecolor": "white",
            "ticks": ""
           }
          },
          "scene": {
           "xaxis": {
            "backgroundcolor": "#E5ECF6",
            "gridcolor": "white",
            "gridwidth": 2,
            "linecolor": "white",
            "showbackground": true,
            "ticks": "",
            "zerolinecolor": "white"
           },
           "yaxis": {
            "backgroundcolor": "#E5ECF6",
            "gridcolor": "white",
            "gridwidth": 2,
            "linecolor": "white",
            "showbackground": true,
            "ticks": "",
            "zerolinecolor": "white"
           },
           "zaxis": {
            "backgroundcolor": "#E5ECF6",
            "gridcolor": "white",
            "gridwidth": 2,
            "linecolor": "white",
            "showbackground": true,
            "ticks": "",
            "zerolinecolor": "white"
           }
          },
          "shapedefaults": {
           "line": {
            "color": "#2a3f5f"
           }
          },
          "ternary": {
           "aaxis": {
            "gridcolor": "white",
            "linecolor": "white",
            "ticks": ""
           },
           "baxis": {
            "gridcolor": "white",
            "linecolor": "white",
            "ticks": ""
           },
           "bgcolor": "#E5ECF6",
           "caxis": {
            "gridcolor": "white",
            "linecolor": "white",
            "ticks": ""
           }
          },
          "title": {
           "x": 0.05
          },
          "xaxis": {
           "automargin": true,
           "gridcolor": "white",
           "linecolor": "white",
           "ticks": "",
           "title": {
            "standoff": 15
           },
           "zerolinecolor": "white",
           "zerolinewidth": 2
          },
          "yaxis": {
           "automargin": true,
           "gridcolor": "white",
           "linecolor": "white",
           "ticks": "",
           "title": {
            "standoff": 15
           },
           "zerolinecolor": "white",
           "zerolinewidth": 2
          }
         }
        },
        "title": {
         "text": "Seasonal decomposition"
        },
        "xaxis": {
         "autorange": true,
         "range": [
          0,
          659
         ],
         "title": {
          "text": "Time"
         },
         "type": "linear"
        },
        "yaxis": {
         "autorange": true,
         "range": [
          -10858.71934094956,
          64209.24294582515
         ],
         "title": {
          "text": "Price, USD"
         },
         "type": "linear"
        }
       }
      },
      "text/html": [
       "<div>                            <div id=\"acc32ad8-42c6-43ab-8520-65039821168b\" class=\"plotly-graph-div\" style=\"height:525px; width:100%;\"></div>            <script type=\"text/javascript\">                require([\"plotly\"], function(Plotly) {                    window.PLOTLYENV=window.PLOTLYENV || {};                                    if (document.getElementById(\"acc32ad8-42c6-43ab-8520-65039821168b\")) {                    Plotly.newPlot(                        \"acc32ad8-42c6-43ab-8520-65039821168b\",                        [{\"line\":{\"color\":\"rgb(244, 146, 65)\",\"width\":4},\"mode\":\"lines\",\"name\":\"Trend\",\"x\":[0,1,2,3,4,5,6,7,8,9,10,11,12,13,14,15,16,17,18,19,20,21,22,23,24,25,26,27,28,29,30,31,32,33,34,35,36,37,38,39,40,41,42,43,44,45,46,47,48,49,50,51,52,53,54,55,56,57,58,59,60,61,62,63,64,65,66,67,68,69,70,71,72,73,74,75,76,77,78,79,80,81,82,83,84,85,86,87,88,89,90,91,92,93,94,95,96,97,98,99,100,101,102,103,104,105,106,107,108,109,110,111,112,113,114,115,116,117,118,119,120,121,122,123,124,125,126,127,128,129,130,131,132,133,134,135,136,137,138,139,140,141,142,143,144,145,146,147,148,149,150,151,152,153,154,155,156,157,158,159,160,161,162,163,164,165,166,167,168,169,170,171,172,173,174,175,176,177,178,179,180,181,182,183,184,185,186,187,188,189,190,191,192,193,194,195,196,197,198,199,200,201,202,203,204,205,206,207,208,209,210,211,212,213,214,215,216,217,218,219,220,221,222,223,224,225,226,227,228,229,230,231,232,233,234,235,236,237,238,239,240,241,242,243,244,245,246,247,248,249,250,251,252,253,254,255,256,257,258,259,260,261,262,263,264,265,266,267,268,269,270,271,272,273,274,275,276,277,278,279,280,281,282,283,284,285,286,287,288,289,290,291,292,293,294,295,296,297,298,299,300,301,302,303,304,305,306,307,308,309,310,311,312,313,314,315,316,317,318,319,320,321,322,323,324,325,326,327,328,329,330,331,332,333,334,335,336,337,338,339,340,341,342,343,344,345,346,347,348,349,350,351,352,353,354,355,356,357,358,359,360,361,362,363,364,365,366,367,368,369,370,371,372,373,374,375,376,377,378,379,380,381,382,383,384,385,386,387,388,389,390,391,392,393,394,395,396,397,398,399,400,401,402,403,404,405,406,407,408,409,410,411,412,413,414,415,416,417,418,419,420,421,422,423,424,425,426,427,428,429,430,431,432,433,434,435,436,437,438,439,440,441,442,443,444,445,446,447,448,449,450,451,452,453,454,455,456,457,458,459,460,461,462,463,464,465,466,467,468,469,470,471,472,473,474,475,476,477,478,479,480,481,482,483,484,485,486,487,488,489,490,491,492,493,494,495,496,497,498,499,500,501,502,503,504,505,506,507,508,509,510,511,512,513,514,515,516,517,518,519,520,521,522,523,524,525,526,527,528,529,530,531,532,533,534,535,536,537,538,539,540,541,542,543,544,545,546,547,548,549,550,551,552,553,554,555,556,557,558,559,560,561,562,563,564,565,566,567,568,569,570,571,572,573,574,575,576,577,578,579,580,581,582,583,584,585,586,587,588,589,590,591,592,593,594,595,596,597,598,599,600,601,602,603,604,605,606,607,608,609,610,611,612,613,614,615,616,617,618,619,620,621,622,623,624,625,626,627,628,629,630,631,632,633,634,635,636,637,638,639,640,641,642,643,644,645,646,647,648,649,650,651,652,653,654,655,656,657,658,659],\"y\":[null,null,null,null,null,null,null,null,null,null,null,null,null,null,null,null,null,null,null,null,null,null,null,null,null,null,null,null,null,null,10559.593730450304,10618.124266317986,10672.852338798893,10722.935145301306,10760.395770001407,10782.285691360381,10798.207922701142,10816.030358790205,10835.099897335787,10855.15736248191,10873.599537950005,10877.099512507251,10866.838867285256,10856.140744621256,10841.611964544252,10810.751958847048,10777.403548152719,10752.696185113266,10725.047282549393,10693.08707734954,10666.61291532306,10651.079557764902,10630.838305815492,10601.448984767956,10581.23672101441,10568.995343530076,10555.67598509671,10540.00183640569,10513.143747521095,10477.5043295125,10448.584875556298,10426.534699929407,10403.795332672087,10387.109755929914,10380.959787810967,10380.005869817696,10386.051529184506,10393.865190502354,10393.38754116477,10387.211343464549,10378.266183899108,10371.06732899098,10368.498303333949,10370.530591001483,10371.670919700016,10367.579712476218,10353.989987236015,10333.051150693658,10310.271608223171,10286.256496532304,10259.877726475983,10228.242050288054,10193.865217543216,10155.198290369704,10112.671376292039,10061.796656274144,10001.974953987976,9940.467867186197,9878.035729069037,9816.616154795345,9759.534675819516,9709.055943639209,9660.607825604962,9612.276034456232,9571.579290695008,9540.055054716186,9509.477537572171,9474.491486709347,9437.06233772956,9396.12519813763,9350.74743313422,9309.360847949049,9276.046814027679,9243.647281423888,9206.288756834041,9164.042978487452,9121.411998423435,9093.746735819797,9081.37960629713,9075.780150815366,9074.16478900021,9069.568057740396,9062.44847983259,9052.033170723798,9035.057928214845,9013.497425589707,8991.383489899117,8969.521236546148,8949.477696609683,8930.206061171366,8908.99272685727,8886.222317465104,8864.746710408215,8843.13137595637,8818.055238952727,8791.586137440527,8764.461272410774,8736.345106569066,8707.51473267358,8678.951944940598,8651.522229724946,8620.942864316521,8587.620716567928,8553.692871491814,8514.799856859472,8475.496385037783,8446.466063094062,8424.86165600603,8406.628731176845,8391.587193564374,8379.433708778612,8370.997625034424,8361.254941919715,8347.815007182422,8332.484654018092,8317.792194277978,8303.96928000553,8291.616371638453,8280.891882416647,8269.953925060248,8257.286990360097,8241.095087846947,8222.776463005506,8204.262091659986,8185.015118570698,8166.117873470336,8147.940995746505,8130.652527999209,8114.196050680997,8096.090755011553,8076.408239717808,8059.230753743597,8043.033573657658,8025.343345108163,8012.346787720136,8008.56002377971,8004.141608560642,7981.7083176845235,7945.875510388727,7908.568077913695,7872.155149643726,7839.385949307507,7808.366668859468,7776.443830140803,7742.767365320817,7707.514463357353,7672.645028211347,7638.801263667406,7606.069309156328,7575.991172589974,7553.05486968003,7539.522596173733,7526.413090760704,7510.556335341373,7497.842069270871,7487.365814492069,7477.457601836905,7473.142661849778,7475.714688266434,7479.3318632116,7484.617817569661,7495.036451087989,7507.745135055751,7520.62867804058,7538.142677566182,7560.872376736833,7583.478752674029,7606.07040950725,7627.75427891667,7647.409571177977,7667.237399106923,7689.162160514983,7715.052795607298,7745.843215735743,7779.595910033794,7813.6470411923965,7848.259514657288,7882.438780195692,7914.099128937382,7944.668449085684,7978.537454053314,8016.117670520166,8056.353705737029,8101.20840810222,8148.043279527355,8193.717638577222,8242.973305049247,8296.109881278358,8349.657582469868,8404.515154162125,8458.589197590905,8506.151879694888,8550.051054543925,8597.101538693973,8641.305787579398,8679.137190785817,8717.051675027917,8758.912393493396,8802.022239310923,8842.122613470232,8875.729998377716,8902.273663962236,8926.032978823127,8950.097626013889,8973.835559663938,8999.13982066673,9026.209627554905,9051.313598290544,9076.555176094396,9102.838995080654,9125.240893453776,9137.392225733756,9140.040368588905,9140.403883693763,9138.709745362994,9124.47430634923,9089.028021931641,9039.251904836818,8984.19077552127,8924.757395524432,8864.521006911404,8804.972846699045,8749.233724178466,8704.521519771139,8664.851256225298,8623.09620921925,8582.569681143836,8548.7382749863,8520.492559763641,8492.010922952273,8460.42848352901,8420.051170356806,8369.717978268944,8317.027711690873,8267.134889156176,8217.513714959758,8169.875461378911,8126.807583318939,8085.598067668068,8043.630955369204,8000.266800042579,7958.134614932146,7916.724629715314,7872.671202456209,7824.96011601217,7774.659277967604,7720.685807893432,7662.98120232134,7605.383294911966,7549.36314412798,7496.563884360466,7449.567608650852,7405.057991622452,7358.188301698476,7312.658176586864,7268.038338000753,7222.397464979283,7178.891853083337,7139.059741943963,7104.403724339789,7076.279292207474,7055.364087385686,7038.2989409158945,7026.564622531302,7025.702844049035,7028.820496239178,7029.818304545971,7032.330348728303,7032.093366904873,7028.6393126067005,7028.1655675289585,7036.772214086863,7061.477947481208,7093.322489775864,7115.126617903875,7139.105153427516,7185.104950834719,7244.402949887475,7310.33690615199,7383.793695081017,7455.69742356796,7525.960774862143,7595.114193838434,7655.662206728326,7712.417776565196,7767.824728747399,7819.206950208328,7865.634232035603,7907.380009276335,7945.750184860073,7981.7072651424305,8023.120900010052,8073.278660887888,8126.583667569634,8178.545746455325,8230.993847091786,8281.818975691647,8331.206763956348,8379.909305211066,8427.261856915075,8473.541712834192,8514.94806599216,8553.570189716029,8593.039738206855,8636.044035459347,8683.188412373216,8729.882880066212,8774.428089148261,8817.776651252436,8860.665699202551,8901.783679781965,8941.379179722198,8980.63270728384,9018.366185471406,9055.994096888955,9095.24801450826,9135.05184140481,9172.72199569975,9208.513323203211,9241.919839475962,9271.25225419372,9297.021743005393,9320.687750951382,9338.902891594435,9347.506076707512,9352.406325822329,9358.106615785548,9362.306965812284,9366.535694722006,9370.553289523501,9371.041879729346,9367.889595939387,9360.127229047892,9351.494466433714,9353.658558720595,9363.107919642547,9371.09338403646,9376.660862356579,9375.868647344652,9370.849855513481,9366.802322476282,9361.14810563394,9352.12019133865,9342.994770471852,9334.460645566227,9329.314106737322,9330.00486299856,9332.878150510773,9337.731133790423,9347.398504249015,9359.882479550106,9372.917839161608,9388.904985507757,9410.94825942215,9436.948293560617,9462.581240895885,9488.396206275867,9516.2367078211,9545.501432790621,9573.308846310165,9598.779811789265,9626.529758823248,9659.578987767622,9693.981412526893,9727.0079420284,9759.140191151202,9793.669983673988,9831.01334070382,9866.496130235528,9901.36743089224,9940.189159109605,9980.97338525129,10020.90226801791,10063.053728101357,10108.786085895917,10153.23415486001,10194.461450957908,10233.740292668122,10268.604988858402,10302.83658819687,10341.908585862575,10382.147723321592,10420.691255243895,10458.931819836032,10497.404184495637,10536.429978617505,10576.209026762357,10617.34356625181,10661.50787608464,10705.385083907287,10742.56416720672,10768.831966170337,10786.94951918913,10802.400050850734,10816.460345540774,10831.278920431747,10847.074436512512,10864.068611545725,10881.69049123278,10899.839164320585,10919.216874518583,10940.494226395796,10965.663381186592,10993.763383244357,11022.685597109321,11051.730847781202,11080.499137043182,11107.61590209753,11129.993187709384,11147.047091571425,11161.383969281105,11173.239516054355,11180.310049044303,11180.033754475822,11174.637160767561,11170.190525152646,11165.011513959525,11153.878365633278,11141.816549733145,11130.940282906475,11119.102562177126,11106.151947526989,11090.230803598666,11073.00487927749,11055.66244909899,11038.982354712845,11023.530527476009,11013.406575915937,11010.061643772759,11008.34036301846,11004.934766625562,10998.462911319659,10990.903311719054,10981.51007452575,10968.90888662682,10958.965492687774,10954.092033024892,10953.167895150644,10961.503550490032,10979.914165342407,11000.828595202704,11023.519790391547,11049.97512712372,11078.080567220231,11108.470031505874,11140.658913765243,11171.150839580961,11200.086393654321,11230.205506454831,11264.014593923592,11303.60978778392,11351.771237019224,11408.883851073828,11476.886903538134,11559.817156831607,11648.314069914008,11733.403857418165,11817.2119628412,11901.100224228414,11986.470861528376,12076.093125825557,12170.372270513933,12262.327110670762,12348.629517280217,12436.801905124938,12533.787656164286,12642.366133094096,12757.352861786141,12878.910901973857,13011.435224243285,13146.822164935762,13280.188248089717,13415.124748976195,13552.884212833742,13677.991848071835,13784.510920416467,13890.277042152893,14005.552060312519,14133.95245109048,14274.736651538591,14417.569796568396,14559.913983458313,14702.362663980277,14841.655036319962,14981.845309594024,15123.416574309736,15260.277107384516,15384.360640211691,15499.976039801408,15611.911688405984,15724.507722941758,15847.252127848706,15976.033916624881,16107.150886347994,16246.498726364338,16412.547413116725,16599.957564381497,16790.062283084495,16978.819556362767,17157.666807154907,17328.421036388347,17500.628333495468,17672.82339930832,17848.75432013474,18039.15188034631,18251.633457480442,18478.568648932414,18702.47442592944,18932.793476962946,19178.74992016472,19435.446669191282,19709.084509789973,20015.017829650085,20320.79545712992,20602.595115009448,20904.695578796134,21258.253244879863,21652.341134654256,22064.78929813298,22474.803199764458,22828.826476603845,23136.315160391456,23446.265125372018,23789.240300863337,24152.644376765293,24493.10553596011,24805.817572862474,25105.56165520727,25411.60847328531,25702.974200822176,25960.959642006994,26193.707314855503,26417.889920621183,26640.040029614625,26882.80119613441,27140.898707420896,27381.286053540793,27611.61599955297,27861.119786352378,28118.84462375785,28362.896419211742,28603.901726319025,28854.02857221163,29130.418777549825,29430.180568322026,29737.075987408403,30064.60357377175,30408.923743323307,30770.087176309204,31200.425549474232,31667.70965754304,32121.760558407008,32585.104306752608,33054.79871353769,33525.165514994194,33973.2349668968,34399.95261455575,34845.89903622648,35311.33168590849,35795.69261695299,36320.674870359064,36876.37066815566,37418.029801066295,37888.375647990186,38300.75577746801,38696.380949123384,39051.66218157616,39386.25467749584,39695.72478670394,39991.03499641528,40308.43896662926,40633.44299902374,40930.133893656835,41195.07063105626,41461.40376642096,41723.16772517631,41956.86879319626,42181.07006205756,42424.01372602525,42686.72468935654,43012.51443495482,43400.11278029058,43814.64795941294,44187.82419196405,44495.079647419734,44804.9649789866,45156.10011311795,45531.58951633548,45899.57479931397,46266.91413214584,46650.230275503316,47039.23366191745,47419.35457381364,47774.92784897002,48106.465899457544,48465.49996499109,48864.49725879133,49279.52766576453,49682.9906143582,50083.04129102666,null,null,null,null,null,null,null,null,null,null,null,null,null,null,null,null,null,null,null,null,null,null,null,null,null,null,null,null,null,null],\"type\":\"scatter\"},{\"line\":{\"color\":\"rgb(66, 244, 155)\",\"width\":2},\"mode\":\"lines\",\"name\":\"Seasonal\",\"x\":[0,1,2,3,4,5,6,7,8,9,10,11,12,13,14,15,16,17,18,19,20,21,22,23,24,25,26,27,28,29,30,31,32,33,34,35,36,37,38,39,40,41,42,43,44,45,46,47,48,49,50,51,52,53,54,55,56,57,58,59,60,61,62,63,64,65,66,67,68,69,70,71,72,73,74,75,76,77,78,79,80,81,82,83,84,85,86,87,88,89,90,91,92,93,94,95,96,97,98,99,100,101,102,103,104,105,106,107,108,109,110,111,112,113,114,115,116,117,118,119,120,121,122,123,124,125,126,127,128,129,130,131,132,133,134,135,136,137,138,139,140,141,142,143,144,145,146,147,148,149,150,151,152,153,154,155,156,157,158,159,160,161,162,163,164,165,166,167,168,169,170,171,172,173,174,175,176,177,178,179,180,181,182,183,184,185,186,187,188,189,190,191,192,193,194,195,196,197,198,199,200,201,202,203,204,205,206,207,208,209,210,211,212,213,214,215,216,217,218,219,220,221,222,223,224,225,226,227,228,229,230,231,232,233,234,235,236,237,238,239,240,241,242,243,244,245,246,247,248,249,250,251,252,253,254,255,256,257,258,259,260,261,262,263,264,265,266,267,268,269,270,271,272,273,274,275,276,277,278,279,280,281,282,283,284,285,286,287,288,289,290,291,292,293,294,295,296,297,298,299,300,301,302,303,304,305,306,307,308,309,310,311,312,313,314,315,316,317,318,319,320,321,322,323,324,325,326,327,328,329,330,331,332,333,334,335,336,337,338,339,340,341,342,343,344,345,346,347,348,349,350,351,352,353,354,355,356,357,358,359,360,361,362,363,364,365,366,367,368,369,370,371,372,373,374,375,376,377,378,379,380,381,382,383,384,385,386,387,388,389,390,391,392,393,394,395,396,397,398,399,400,401,402,403,404,405,406,407,408,409,410,411,412,413,414,415,416,417,418,419,420,421,422,423,424,425,426,427,428,429,430,431,432,433,434,435,436,437,438,439,440,441,442,443,444,445,446,447,448,449,450,451,452,453,454,455,456,457,458,459,460,461,462,463,464,465,466,467,468,469,470,471,472,473,474,475,476,477,478,479,480,481,482,483,484,485,486,487,488,489,490,491,492,493,494,495,496,497,498,499,500,501,502,503,504,505,506,507,508,509,510,511,512,513,514,515,516,517,518,519,520,521,522,523,524,525,526,527,528,529,530,531,532,533,534,535,536,537,538,539,540,541,542,543,544,545,546,547,548,549,550,551,552,553,554,555,556,557,558,559,560,561,562,563,564,565,566,567,568,569,570,571,572,573,574,575,576,577,578,579,580,581,582,583,584,585,586,587,588,589,590,591,592,593,594,595,596,597,598,599,600,601,602,603,604,605,606,607,608,609,610,611,612,613,614,615,616,617,618,619,620,621,622,623,624,625,626,627,628,629,630,631,632,633,634,635,636,637,638,639,640,641,642,643,644,645,646,647,648,649,650,651,652,653,654,655,656,657,658,659],\"y\":[-536.462053281208,-494.10574717593835,-464.67680221962456,-361.5528985092492,-444.84959661307045,-526.828387481158,-310.5950568068723,-620.8362688185844,-453.70037630954977,-21.203572531413542,-129.0038152147049,-78.43916278951656,-3.052009939820607,-41.06145184225869,-25.1875812627907,33.285014075006266,157.91410678491175,533.6444943111625,637.3564082295331,604.606718480457,781.9705147564819,786.8596963432924,421.2634068871136,-83.36018318386368,222.13973812549185,357.72950932402364,-21.29710311860744,-25.895504790423175,-152.85474965340134,126.4731755549383,419.63919018266915,466.2943442232624,633.4855106913576,444.81307600068885,386.7564704228777,445.2760131322108,485.24490043298886,758.848706735148,850.5100810651645,732.854359044504,156.67367198637376,195.1333764778131,118.48003965445288,418.73223819747403,241.66327359565167,74.9456725046056,-155.27198177798917,-192.4540897733802,-146.0818870397127,-361.4884581878594,-594.3493171743364,-721.1554718276705,-505.2283705453954,-481.6448096117387,-569.1812478729605,-730.3471854028794,-796.9215910438058,-659.1234971028252,-350.8744308220806,-433.50904749496567,-536.462053281208,-494.10574717593835,-464.67680221962456,-361.5528985092492,-444.84959661307045,-526.828387481158,-310.5950568068723,-620.8362688185844,-453.70037630954977,-21.203572531413542,-129.0038152147049,-78.43916278951656,-3.052009939820607,-41.06145184225869,-25.1875812627907,33.285014075006266,157.91410678491175,533.6444943111625,637.3564082295331,604.606718480457,781.9705147564819,786.8596963432924,421.2634068871136,-83.36018318386368,222.13973812549185,357.72950932402364,-21.29710311860744,-25.895504790423175,-152.85474965340134,126.4731755549383,419.63919018266915,466.2943442232624,633.4855106913576,444.81307600068885,386.7564704228777,445.2760131322108,485.24490043298886,758.848706735148,850.5100810651645,732.854359044504,156.67367198637376,195.1333764778131,118.48003965445288,418.73223819747403,241.66327359565167,74.9456725046056,-155.27198177798917,-192.4540897733802,-146.0818870397127,-361.4884581878594,-594.3493171743364,-721.1554718276705,-505.2283705453954,-481.6448096117387,-569.1812478729605,-730.3471854028794,-796.9215910438058,-659.1234971028252,-350.8744308220806,-433.50904749496567,-536.462053281208,-494.10574717593835,-464.67680221962456,-361.5528985092492,-444.84959661307045,-526.828387481158,-310.5950568068723,-620.8362688185844,-453.70037630954977,-21.203572531413542,-129.0038152147049,-78.43916278951656,-3.052009939820607,-41.06145184225869,-25.1875812627907,33.285014075006266,157.91410678491175,533.6444943111625,637.3564082295331,604.606718480457,781.9705147564819,786.8596963432924,421.2634068871136,-83.36018318386368,222.13973812549185,357.72950932402364,-21.29710311860744,-25.895504790423175,-152.85474965340134,126.4731755549383,419.63919018266915,466.2943442232624,633.4855106913576,444.81307600068885,386.7564704228777,445.2760131322108,485.24490043298886,758.848706735148,850.5100810651645,732.854359044504,156.67367198637376,195.1333764778131,118.48003965445288,418.73223819747403,241.66327359565167,74.9456725046056,-155.27198177798917,-192.4540897733802,-146.0818870397127,-361.4884581878594,-594.3493171743364,-721.1554718276705,-505.2283705453954,-481.6448096117387,-569.1812478729605,-730.3471854028794,-796.9215910438058,-659.1234971028252,-350.8744308220806,-433.50904749496567,-536.462053281208,-494.10574717593835,-464.67680221962456,-361.5528985092492,-444.84959661307045,-526.828387481158,-310.5950568068723,-620.8362688185844,-453.70037630954977,-21.203572531413542,-129.0038152147049,-78.43916278951656,-3.052009939820607,-41.06145184225869,-25.1875812627907,33.285014075006266,157.91410678491175,533.6444943111625,637.3564082295331,604.606718480457,781.9705147564819,786.8596963432924,421.2634068871136,-83.36018318386368,222.13973812549185,357.72950932402364,-21.29710311860744,-25.895504790423175,-152.85474965340134,126.4731755549383,419.63919018266915,466.2943442232624,633.4855106913576,444.81307600068885,386.7564704228777,445.2760131322108,485.24490043298886,758.848706735148,850.5100810651645,732.854359044504,156.67367198637376,195.1333764778131,118.48003965445288,418.73223819747403,241.66327359565167,74.9456725046056,-155.27198177798917,-192.4540897733802,-146.0818870397127,-361.4884581878594,-594.3493171743364,-721.1554718276705,-505.2283705453954,-481.6448096117387,-569.1812478729605,-730.3471854028794,-796.9215910438058,-659.1234971028252,-350.8744308220806,-433.50904749496567,-536.462053281208,-494.10574717593835,-464.67680221962456,-361.5528985092492,-444.84959661307045,-526.828387481158,-310.5950568068723,-620.8362688185844,-453.70037630954977,-21.203572531413542,-129.0038152147049,-78.43916278951656,-3.052009939820607,-41.06145184225869,-25.1875812627907,33.285014075006266,157.91410678491175,533.6444943111625,637.3564082295331,604.606718480457,781.9705147564819,786.8596963432924,421.2634068871136,-83.36018318386368,222.13973812549185,357.72950932402364,-21.29710311860744,-25.895504790423175,-152.85474965340134,126.4731755549383,419.63919018266915,466.2943442232624,633.4855106913576,444.81307600068885,386.7564704228777,445.2760131322108,485.24490043298886,758.848706735148,850.5100810651645,732.854359044504,156.67367198637376,195.1333764778131,118.48003965445288,418.73223819747403,241.66327359565167,74.9456725046056,-155.27198177798917,-192.4540897733802,-146.0818870397127,-361.4884581878594,-594.3493171743364,-721.1554718276705,-505.2283705453954,-481.6448096117387,-569.1812478729605,-730.3471854028794,-796.9215910438058,-659.1234971028252,-350.8744308220806,-433.50904749496567,-536.462053281208,-494.10574717593835,-464.67680221962456,-361.5528985092492,-444.84959661307045,-526.828387481158,-310.5950568068723,-620.8362688185844,-453.70037630954977,-21.203572531413542,-129.0038152147049,-78.43916278951656,-3.052009939820607,-41.06145184225869,-25.1875812627907,33.285014075006266,157.91410678491175,533.6444943111625,637.3564082295331,604.606718480457,781.9705147564819,786.8596963432924,421.2634068871136,-83.36018318386368,222.13973812549185,357.72950932402364,-21.29710311860744,-25.895504790423175,-152.85474965340134,126.4731755549383,419.63919018266915,466.2943442232624,633.4855106913576,444.81307600068885,386.7564704228777,445.2760131322108,485.24490043298886,758.848706735148,850.5100810651645,732.854359044504,156.67367198637376,195.1333764778131,118.48003965445288,418.73223819747403,241.66327359565167,74.9456725046056,-155.27198177798917,-192.4540897733802,-146.0818870397127,-361.4884581878594,-594.3493171743364,-721.1554718276705,-505.2283705453954,-481.6448096117387,-569.1812478729605,-730.3471854028794,-796.9215910438058,-659.1234971028252,-350.8744308220806,-433.50904749496567,-536.462053281208,-494.10574717593835,-464.67680221962456,-361.5528985092492,-444.84959661307045,-526.828387481158,-310.5950568068723,-620.8362688185844,-453.70037630954977,-21.203572531413542,-129.0038152147049,-78.43916278951656,-3.052009939820607,-41.06145184225869,-25.1875812627907,33.285014075006266,157.91410678491175,533.6444943111625,637.3564082295331,604.606718480457,781.9705147564819,786.8596963432924,421.2634068871136,-83.36018318386368,222.13973812549185,357.72950932402364,-21.29710311860744,-25.895504790423175,-152.85474965340134,126.4731755549383,419.63919018266915,466.2943442232624,633.4855106913576,444.81307600068885,386.7564704228777,445.2760131322108,485.24490043298886,758.848706735148,850.5100810651645,732.854359044504,156.67367198637376,195.1333764778131,118.48003965445288,418.73223819747403,241.66327359565167,74.9456725046056,-155.27198177798917,-192.4540897733802,-146.0818870397127,-361.4884581878594,-594.3493171743364,-721.1554718276705,-505.2283705453954,-481.6448096117387,-569.1812478729605,-730.3471854028794,-796.9215910438058,-659.1234971028252,-350.8744308220806,-433.50904749496567,-536.462053281208,-494.10574717593835,-464.67680221962456,-361.5528985092492,-444.84959661307045,-526.828387481158,-310.5950568068723,-620.8362688185844,-453.70037630954977,-21.203572531413542,-129.0038152147049,-78.43916278951656,-3.052009939820607,-41.06145184225869,-25.1875812627907,33.285014075006266,157.91410678491175,533.6444943111625,637.3564082295331,604.606718480457,781.9705147564819,786.8596963432924,421.2634068871136,-83.36018318386368,222.13973812549185,357.72950932402364,-21.29710311860744,-25.895504790423175,-152.85474965340134,126.4731755549383,419.63919018266915,466.2943442232624,633.4855106913576,444.81307600068885,386.7564704228777,445.2760131322108,485.24490043298886,758.848706735148,850.5100810651645,732.854359044504,156.67367198637376,195.1333764778131,118.48003965445288,418.73223819747403,241.66327359565167,74.9456725046056,-155.27198177798917,-192.4540897733802,-146.0818870397127,-361.4884581878594,-594.3493171743364,-721.1554718276705,-505.2283705453954,-481.6448096117387,-569.1812478729605,-730.3471854028794,-796.9215910438058,-659.1234971028252,-350.8744308220806,-433.50904749496567,-536.462053281208,-494.10574717593835,-464.67680221962456,-361.5528985092492,-444.84959661307045,-526.828387481158,-310.5950568068723,-620.8362688185844,-453.70037630954977,-21.203572531413542,-129.0038152147049,-78.43916278951656,-3.052009939820607,-41.06145184225869,-25.1875812627907,33.285014075006266,157.91410678491175,533.6444943111625,637.3564082295331,604.606718480457,781.9705147564819,786.8596963432924,421.2634068871136,-83.36018318386368,222.13973812549185,357.72950932402364,-21.29710311860744,-25.895504790423175,-152.85474965340134,126.4731755549383,419.63919018266915,466.2943442232624,633.4855106913576,444.81307600068885,386.7564704228777,445.2760131322108,485.24490043298886,758.848706735148,850.5100810651645,732.854359044504,156.67367198637376,195.1333764778131,118.48003965445288,418.73223819747403,241.66327359565167,74.9456725046056,-155.27198177798917,-192.4540897733802,-146.0818870397127,-361.4884581878594,-594.3493171743364,-721.1554718276705,-505.2283705453954,-481.6448096117387,-569.1812478729605,-730.3471854028794,-796.9215910438058,-659.1234971028252,-350.8744308220806,-433.50904749496567,-536.462053281208,-494.10574717593835,-464.67680221962456,-361.5528985092492,-444.84959661307045,-526.828387481158,-310.5950568068723,-620.8362688185844,-453.70037630954977,-21.203572531413542,-129.0038152147049,-78.43916278951656,-3.052009939820607,-41.06145184225869,-25.1875812627907,33.285014075006266,157.91410678491175,533.6444943111625,637.3564082295331,604.606718480457,781.9705147564819,786.8596963432924,421.2634068871136,-83.36018318386368,222.13973812549185,357.72950932402364,-21.29710311860744,-25.895504790423175,-152.85474965340134,126.4731755549383,419.63919018266915,466.2943442232624,633.4855106913576,444.81307600068885,386.7564704228777,445.2760131322108,485.24490043298886,758.848706735148,850.5100810651645,732.854359044504,156.67367198637376,195.1333764778131,118.48003965445288,418.73223819747403,241.66327359565167,74.9456725046056,-155.27198177798917,-192.4540897733802,-146.0818870397127,-361.4884581878594,-594.3493171743364,-721.1554718276705,-505.2283705453954,-481.6448096117387,-569.1812478729605,-730.3471854028794,-796.9215910438058,-659.1234971028252,-350.8744308220806,-433.50904749496567,-536.462053281208,-494.10574717593835,-464.67680221962456,-361.5528985092492,-444.84959661307045,-526.828387481158,-310.5950568068723,-620.8362688185844,-453.70037630954977,-21.203572531413542,-129.0038152147049,-78.43916278951656,-3.052009939820607,-41.06145184225869,-25.1875812627907,33.285014075006266,157.91410678491175,533.6444943111625,637.3564082295331,604.606718480457,781.9705147564819,786.8596963432924,421.2634068871136,-83.36018318386368,222.13973812549185,357.72950932402364,-21.29710311860744,-25.895504790423175,-152.85474965340134,126.4731755549383,419.63919018266915,466.2943442232624,633.4855106913576,444.81307600068885,386.7564704228777,445.2760131322108,485.24490043298886,758.848706735148,850.5100810651645,732.854359044504,156.67367198637376,195.1333764778131,118.48003965445288,418.73223819747403,241.66327359565167,74.9456725046056,-155.27198177798917,-192.4540897733802,-146.0818870397127,-361.4884581878594,-594.3493171743364,-721.1554718276705,-505.2283705453954,-481.6448096117387,-569.1812478729605,-730.3471854028794,-796.9215910438058,-659.1234971028252,-350.8744308220806,-433.50904749496567],\"type\":\"scatter\"},{\"line\":{\"color\":\"rgb(209, 244, 66)\",\"width\":2},\"mode\":\"lines\",\"name\":\"Residual\",\"x\":[0,1,2,3,4,5,6,7,8,9,10,11,12,13,14,15,16,17,18,19,20,21,22,23,24,25,26,27,28,29,30,31,32,33,34,35,36,37,38,39,40,41,42,43,44,45,46,47,48,49,50,51,52,53,54,55,56,57,58,59,60,61,62,63,64,65,66,67,68,69,70,71,72,73,74,75,76,77,78,79,80,81,82,83,84,85,86,87,88,89,90,91,92,93,94,95,96,97,98,99,100,101,102,103,104,105,106,107,108,109,110,111,112,113,114,115,116,117,118,119,120,121,122,123,124,125,126,127,128,129,130,131,132,133,134,135,136,137,138,139,140,141,142,143,144,145,146,147,148,149,150,151,152,153,154,155,156,157,158,159,160,161,162,163,164,165,166,167,168,169,170,171,172,173,174,175,176,177,178,179,180,181,182,183,184,185,186,187,188,189,190,191,192,193,194,195,196,197,198,199,200,201,202,203,204,205,206,207,208,209,210,211,212,213,214,215,216,217,218,219,220,221,222,223,224,225,226,227,228,229,230,231,232,233,234,235,236,237,238,239,240,241,242,243,244,245,246,247,248,249,250,251,252,253,254,255,256,257,258,259,260,261,262,263,264,265,266,267,268,269,270,271,272,273,274,275,276,277,278,279,280,281,282,283,284,285,286,287,288,289,290,291,292,293,294,295,296,297,298,299,300,301,302,303,304,305,306,307,308,309,310,311,312,313,314,315,316,317,318,319,320,321,322,323,324,325,326,327,328,329,330,331,332,333,334,335,336,337,338,339,340,341,342,343,344,345,346,347,348,349,350,351,352,353,354,355,356,357,358,359,360,361,362,363,364,365,366,367,368,369,370,371,372,373,374,375,376,377,378,379,380,381,382,383,384,385,386,387,388,389,390,391,392,393,394,395,396,397,398,399,400,401,402,403,404,405,406,407,408,409,410,411,412,413,414,415,416,417,418,419,420,421,422,423,424,425,426,427,428,429,430,431,432,433,434,435,436,437,438,439,440,441,442,443,444,445,446,447,448,449,450,451,452,453,454,455,456,457,458,459,460,461,462,463,464,465,466,467,468,469,470,471,472,473,474,475,476,477,478,479,480,481,482,483,484,485,486,487,488,489,490,491,492,493,494,495,496,497,498,499,500,501,502,503,504,505,506,507,508,509,510,511,512,513,514,515,516,517,518,519,520,521,522,523,524,525,526,527,528,529,530,531,532,533,534,535,536,537,538,539,540,541,542,543,544,545,546,547,548,549,550,551,552,553,554,555,556,557,558,559,560,561,562,563,564,565,566,567,568,569,570,571,572,573,574,575,576,577,578,579,580,581,582,583,584,585,586,587,588,589,590,591,592,593,594,595,596,597,598,599,600,601,602,603,604,605,606,607,608,609,610,611,612,613,614,615,616,617,618,619,620,621,622,623,624,625,626,627,628,629,630,631,632,633,634,635,636,637,638,639,640,641,642,643,644,645,646,647,648,649,650,651,652,653,654,655,656,657,658,659],\"y\":[null,null,null,null,null,null,null,null,null,null,null,null,null,null,null,null,null,null,null,null,null,null,null,null,null,null,null,null,null,null,604.0982233232762,500.11365643510754,122.25995421093899,-310.72158741093426,-729.838290317896,-871.8865518047538,-1706.0285695155894,-1520.7044281390345,-1213.161149807224,-907.7351724705093,-452.65875551379474,-622.0753182781548,-914.593891226556,-1572.2814461340517,-1066.3228392260933,-1110.9733920121344,-893.9270393556342,-1075.327989696176,-1039.5870319004478,-791.1497024513103,-214.516619270805,155.1804610419033,349.460804277456,665.0279695603062,808.8368510282578,1837.113618688647,1998.826180351544,1830.6651368707453,1639.0794250431659,1775.34691094344,1666.648206643233,1445.8039235006715,1456.1151105890292,1111.9520057149398,502.56043811428214,157.91858933059234,155.2507508830489,523.3026875857231,352.83987969622905,249.60144666083306,502.90197393769495,-98.5045387471655,-319.1418317162655,-65.8015406176749,-190.94124918060035,-300.2077872514448,-166.15846705114328,-693.2573211278765,-904.9590027297843,-1371.6676465479113,-1507.0746720173738,-1421.6142979290967,-988.4043473009222,-121.02370058570023,187.439103383169,144.12135364937694,584.1976309253763,745.2346412095625,700.0180311356564,517.6318279533425,121.87887477844288,45.43930706231396,-230.4769314217458,162.64971320032146,358.2698249485905,356.58228968641686,321.9427347836694,19.23288291360859,-70.83994968329785,65.86962732987217,482.20156599289214,669.792540613397,643.7858888539845,316.49881034436436,429.5530190272986,184.23807094827689,-517.2050010514174,-649.7694140604347,-896.0735784489104,-555.5019560209178,-405.8617196026946,-275.79595483033586,-194.8813832234502,-312.8554637331304,-220.91479815414846,-136.4244235363758,-86.44963862577538,-330.1363653082717,-557.8289960657272,-287.12926153818535,-33.76268093471458,168.67148060546486,-1.165605897271405,-147.55521340896894,-14.658665276598128,43.553656497964084,-189.67638441519068,-50.98593994797466,-220.97647792002698,-694.9067397393928,-562.9182873730738,-522.2060808084343,-362.12230877873236,-313.04966973422444,-753.007288495525,-1058.680759248234,-723.7958511561104,360.26196937008115,369.29853578629013,480.4523371387104,222.07524714247484,35.31647468447909,390.1702320257394,890.5581858434066,726.398121340355,542.0932049457688,974.5636327369187,1078.255406572192,1207.7678155972465,841.0918672810858,301.72863295374646,103.34896307878654,40.33278412690447,143.845168826364,162.51604380572218,136.54524273538152,22.469701235778643,-349.8584840075282,-494.6882044618021,-314.9159156746289,145.79491966166924,-138.85537444462108,-63.080591343960364,-596.6589419054976,-912.2050791744393,-840.9955256311449,-702.8566931482217,-827.3377645291287,-658.9136934388687,-294.9301857172124,244.37004806018535,493.8339759937519,350.6306315931823,58.51150453164104,135.95575733805867,341.8833772843536,401.2142717799886,349.3091548031525,149.91513753832749,390.1949981242933,479.0336411435612,415.4844354178537,238.81979925634533,61.64348023751745,119.29408065922695,266.364991149004,-2.4890524036542274,237.41671365811544,10.846079414924873,-667.9446512715276,-585.2577172059978,-268.35414249708265,-353.8538626620414,-331.2057668269329,-284.7167052213988,-90.10182777920292,-444.9732901922738,-928.7769398090574,-1043.9337317712923,-1060.1552176609712,-1150.4946583961346,-1130.3858859320749,-838.4034502906386,-463.4348403208228,-805.9240954627993,-1098.8989167970358,-608.921544606998,-534.6238045658562,-331.21716967221596,-537.2213059581172,-468.2795307189581,-246.78874037054874,-791.269987391863,-657.8862691484901,-421.4389240784155,-527.278288900137,-625.3243601581604,-480.34688365072816,-456.4755198877417,-462.95353776820025,237.54170769897163,190.53177589283104,178.63572761261048,-371.1257771548248,-236.775494297928,-88.39737689487438,-126.17696289438729,-183.1328170726959,-334.4051164960181,-50.50495578173849,442.1547853075615,860.5580443248502,910.2287497213654,902.4436959801301,937.6248914395089,1103.656430562769,1147.748077635665,938.2102795890014,477.2576601943505,733.8372038356056,1100.6381852835423,1133.4502139663498,1137.6813393431073,1301.871397793178,1228.5355096752846,1360.0704801675777,1565.806523268982,1867.8306223970449,1731.570983415363,1240.3374282310788,1170.0166930904547,994.05371473179,1100.2142772594095,1435.4027604041983,942.5832134086734,1033.434227219365,919.9140029086744,787.8631889990551,577.2014911977215,393.4148258660871,-208.97094922181168,-410.74981922794586,-92.47592619112737,452.54561985425744,67.9240072905778,172.35864789510833,642.7150967925812,660.2312924666188,1087.0493279037476,928.1090298024728,633.9260860225859,145.41922608425676,-668.088679619171,-369.2794826706586,-361.7219410873792,-1553.10642941787,-2911.704491985796,-3011.684627089172,-3155.070327799933,-3296.9380318846697,-2339.6631084832925,-2359.4330491334435,-1758.516815865058,-1415.5314626394852,-1385.2405863258753,-1210.7914618154691,-961.2131841897096,-333.19058422313657,-330.8501382874672,-71.17496485704231,210.10165889193263,-106.30612717713916,-428.2465148360972,-270.6459874412663,-4.75841020536177,9.950868680086387,491.5738572531325,441.6137053462353,92.1574150844184,201.54546474507697,600.5062935779345,775.4152299917394,705.7005300523604,573.084751017052,302.6563045437379,258.80140033202883,79.5514182225337,128.30508483857375,28.05045616769513,-563.7425687868681,-412.02719820654556,-375.61982394445477,-438.1346252954193,-447.63228453532,-636.7039623423477,-933.9542672308701,-970.9680538104016,-1095.4614079090638,-1023.1106551810851,-1005.6218516765657,-1159.8841710779734,-1094.0096872530653,-763.664046813167,202.49889582752212,493.59050026730904,195.91942830440075,613.4676667535235,674.5813294354751,545.5510539429617,377.17864889383964,271.10124326463756,510.95329193923163,737.4062507864935,689.3565665310789,-335.3150701257261,-421.70209139547535,-440.8593477221499,-487.4138440217366,-91.1066022929815,-69.78299732354913,345.1069248926734,490.3677062997746,622.706419123991,233.25424972410616,373.1282776599093,109.12833925359163,144.86953711949744,225.51599469888578,56.65282780272926,-61.226557294256224,182.51380808967474,454.28729013369707,506.04490753815463,596.9363128952068,728.967254019595,924.6082185888426,1024.0577985049247,1177.3994275352097,536.2576985603295,763.3950810164542,907.4490984833558,763.2411099893877,722.7628334998315,735.5470082444731,804.0058001406032,952.2424273677182,579.4553149296347,655.5799323066458,504.8134075388851,53.59233223066347,6.634510964768651,210.88623003181783,93.58929985320964,104.32261158077716,17.315078902690658,-61.03544115010228,-139.71494308570018,-384.3378345063362,-336.8699711581273,-515.0800268725425,-910.3597635476563,-979.1675909420724,-704.0084533764273,-271.3307369153049,-542.9647923781121,-669.4853261817452,-275.25740756215475,-324.25876748951544,-298.7834514096155,-608.014586548934,-956.3597849414027,-876.6795264362315,-1024.0354486999815,-792.0837200553624,-786.0892900028073,-1003.9202462310355,-1040.124348003285,-1340.4238004894369,-1438.467177795076,-1414.0986522346936,-875.3885956771836,-1045.6424790681406,-1004.4968772063717,-1319.5500613250902,-1195.6419316029112,-1050.4642403111284,-730.0428818720409,-675.2049913652629,-581.3781551984937,-384.11953363826996,-128.0892598250132,173.35119944344774,520.3090751575198,1007.8325824687622,1168.1480450323759,1227.4593472250963,1416.8764516948565,1652.3019483566031,1023.113392279601,983.6250338960172,1037.380921234768,1190.8382736072733,1433.3084828346616,1275.5644554639543,1313.464521864722,1367.6808127703418,1363.4399789962367,1389.4093101545586,1035.689180418675,672.4614854610036,964.9688829691027,1014.8983222258921,888.1538290434371,1103.6214897835268,1166.905571731649,712.5006491250413,561.1134832983922,103.06271870388389,-207.50678704074267,-128.56193161509054,-209.38821597368224,-453.2658100577596,-196.413144013484,249.45114618748403,46.162721411356046,-20.815696810709596,465.3341485084451,557.037449678733,885.6807366071046,318.8396106130476,-499.67817315548655,-1181.1702016799043,-1455.7124157365026,-1316.0182362076584,-1282.5973848666479,-1337.6798350824943,-1320.60553682414,-1432.895386697045,-1557.3287778902602,-1367.9347272664616,-767.9458365278377,-682.0381465359653,-335.2932046126666,-505.2108771126172,-317.8945991750841,-108.63563067173519,214.9613000311913,154.7444487039499,-138.379485959005,-150.62587821010328,22.84482342264232,144.79065257577645,126.67764186932055,119.87604827526269,178.29873983999983,468.4175964696715,355.26611130970446,200.24984937077443,-123.69287452318952,-302.04785888844435,-217.14780409606442,-252.69165050465682,-238.572467185648,-416.0866976287439,-493.81961044083613,-387.03834203452675,-439.42470500735965,137.92703474820155,-86.77348564754101,-517.6709691917413,-497.0781780407319,-686.4315488976172,-844.2100255077833,-942.7329823819748,-1067.86494602585,-1142.1092222019645,-1213.0156093545024,-1445.3086892926663,-1057.511412270797,-682.5893710363734,-995.4555216431563,-1036.6420094170885,-780.1599687603482,-401.81437577417137,-532.0411880123501,-697.6209988307683,-538.4153750426236,-543.8857608394234,-242.9121128501226,-631.4093136679348,-1240.2695886583815,-1413.4341482633424,-1435.8286789134465,-556.3176947380116,214.49945134282035,-225.76418149550466,-542.9274894176457,-761.3014275433661,-1023.1998309027083,-751.0729196747941,46.719789838535775,248.4314168576372,-65.10177062153026,-529.8849346974116,-115.76465178347809,596.3527864919434,1439.9426626589905,1245.4106098312457,1503.7087816331953,1915.1358788433697,1698.1708664686273,1668.6936037141452,1695.1979818204088,1688.969346130471,-79.23393119904563,-533.417443690756,-369.3565932254144,-51.9311085658328,331.5589739856108,519.4810496267755,54.72848331700902,67.58433469429718,-428.4540410957363,-961.162975124837,-1012.5970518269514,-1178.8686018226133,-2005.561372589655,-2765.8909176835878,-3307.925828167178,-4516.262206263621,-4228.028485690253,-3944.82889307032,-4281.878932772949,-4395.576506627327,-4049.733875042781,-1909.5582343351173,-2079.1177650126624,-2278.300522464268,-2454.5531504396304,-3048.1140857005494,-3645.0997526162537,-3449.7786694272677,-3619.8996496187115,-2540.2851841710403,-1837.8283190699203,-455.2417467449186,-395.96845128329244,-914.7123955847679,432.9693714142197,636.2070787990178,506.28930719934124,1687.2334622181318,3979.8484427261747,2280.8908317411524,2456.1508704495404,4722.645381973273,7517.596997675119,8639.83128879224,8774.772830588827,7793.997617035435,2452.7266781851677,2523.3562178644866,1970.3904053533583,5034.925730968309,3701.5991749664026,2794.9737207104754,1406.0835527695328,1392.727797780555,1693.6608803610873,-281.4668548047177,-2777.25310147431,-4294.157855152295,-4560.986603850059,-5181.660718599582,-4378.489109071439,-5968.812300204532,-7105.321226610825,-6933.246737929817,-4293.382542029086,-5503.813331693232,-6321.039054584824,-6433.362061200579,-5751.760691328878,-4260.422922240763,-3475.0060373856704,-3566.2901236902862,-1831.9171818167747,-2848.4592379895003,-773.6989048492244,4018.9697327373733,2915.2230956223816,2950.542051043376,3791.8194706449362,3127.0871790227534,4130.599452333291,3024.1479529203307,3531.1517835235286,4848.690128104049,5356.379973675249,6212.358258173007,8839.08774741937,9214.732585569693,6867.694044406888,1277.2702801221708,1471.679231298216,1162.005340638324,-2187.2801071539748,-2123.424100815217,-4711.688312601182,-2567.977567100019,null,null,null,null,null,null,null,null,null,null,null,null,null,null,null,null,null,null,null,null,null,null,null,null,null,null,null,null,null,null],\"type\":\"scatter\"},{\"line\":{\"color\":\"rgb(66, 134, 244)\",\"width\":2},\"mode\":\"lines\",\"name\":\"Observed\",\"x\":[0,1,2,3,4,5,6,7,8,9,10,11,12,13,14,15,16,17,18,19,20,21,22,23,24,25,26,27,28,29,30,31,32,33,34,35,36,37,38,39,40,41,42,43,44,45,46,47,48,49,50,51,52,53,54,55,56,57,58,59,60,61,62,63,64,65,66,67,68,69,70,71,72,73,74,75,76,77,78,79,80,81,82,83,84,85,86,87,88,89,90,91,92,93,94,95,96,97,98,99,100,101,102,103,104,105,106,107,108,109,110,111,112,113,114,115,116,117,118,119,120,121,122,123,124,125,126,127,128,129,130,131,132,133,134,135,136,137,138,139,140,141,142,143,144,145,146,147,148,149,150,151,152,153,154,155,156,157,158,159,160,161,162,163,164,165,166,167,168,169,170,171,172,173,174,175,176,177,178,179,180,181,182,183,184,185,186,187,188,189,190,191,192,193,194,195,196,197,198,199,200,201,202,203,204,205,206,207,208,209,210,211,212,213,214,215,216,217,218,219,220,221,222,223,224,225,226,227,228,229,230,231,232,233,234,235,236,237,238,239,240,241,242,243,244,245,246,247,248,249,250,251,252,253,254,255,256,257,258,259,260,261,262,263,264,265,266,267,268,269,270,271,272,273,274,275,276,277,278,279,280,281,282,283,284,285,286,287,288,289,290,291,292,293,294,295,296,297,298,299,300,301,302,303,304,305,306,307,308,309,310,311,312,313,314,315,316,317,318,319,320,321,322,323,324,325,326,327,328,329,330,331,332,333,334,335,336,337,338,339,340,341,342,343,344,345,346,347,348,349,350,351,352,353,354,355,356,357,358,359,360,361,362,363,364,365,366,367,368,369,370,371,372,373,374,375,376,377,378,379,380,381,382,383,384,385,386,387,388,389,390,391,392,393,394,395,396,397,398,399,400,401,402,403,404,405,406,407,408,409,410,411,412,413,414,415,416,417,418,419,420,421,422,423,424,425,426,427,428,429,430,431,432,433,434,435,436,437,438,439,440,441,442,443,444,445,446,447,448,449,450,451,452,453,454,455,456,457,458,459,460,461,462,463,464,465,466,467,468,469,470,471,472,473,474,475,476,477,478,479,480,481,482,483,484,485,486,487,488,489,490,491,492,493,494,495,496,497,498,499,500,501,502,503,504,505,506,507,508,509,510,511,512,513,514,515,516,517,518,519,520,521,522,523,524,525,526,527,528,529,530,531,532,533,534,535,536,537,538,539,540,541,542,543,544,545,546,547,548,549,550,551,552,553,554,555,556,557,558,559,560,561,562,563,564,565,566,567,568,569,570,571,572,573,574,575,576,577,578,579,580,581,582,583,584,585,586,587,588,589,590,591,592,593,594,595,596,597,598,599,600,601,602,603,604,605,606,607,608,609,610,611,612,613,614,615,616,617,618,619,620,621,622,623,624,625,626,627,628,629,630,631,632,633,634,635,636,637,638,639,640,641,642,643,644,645,646,647,648,649,650,651,652,653,654,655,656,657,658,659],\"y\":[7896.83001328662,8036.509587763997,8169.588231822863,8353.217492064301,8727.687036371808,9095.289101530438,9235.84643250591,9152.500069336693,9148.013959014454,9353.226485596455,9801.486018448264,10724.805004758333,10746.900511013213,10846.846268886111,11315.817028152778,12643.582684068057,11804.629165520835,11679.438350060458,11854.537295204309,11542.551910965278,10688.3166698925,10303.94725500368,11345.214704756945,11759.042504677083,11139.493770149722,11415.369265018246,11311.476748027972,11794.103580294362,12513.873100013898,12648.777229872221,11583.33114395625,11584.532266976355,11428.59780370119,10857.02663389106,10417.313950106389,10355.675152687838,9577.424253618541,10054.174637386319,10472.448828593728,10680.276549055905,10577.614454422584,10450.15757070691,10070.725015713153,9702.591536684678,10016.95239891381,9774.724239339519,9728.204527019096,9484.91410564371,9539.378363609232,9540.448916710371,9857.746978877918,10085.104546979135,10475.070739547553,10784.832144716524,10820.892324169707,11675.761776815843,11757.580574404448,11711.54347617361,11801.34874174218,11819.342192960974,11578.771028918323,11378.23287625414,11395.233641041492,11137.508863135605,10438.670629312179,10011.09607166713,10230.707223260682,10296.331609269493,10292.527044551449,10615.609217593968,10752.164342622098,10194.123627454297,10046.304461677862,10263.66759854155,10155.542089256625,10100.656939299779,10345.745626969783,10173.438323876944,10042.66901372292,9519.19556846485,9534.77356921509,9593.48744870225,9626.724277129408,9950.81440660014,10522.2502178007,10563.647519247545,10564.875481794745,10659.807003605336,10425.199010551292,10460.721158303626,10301.052740780628,10220.789594924785,10063.616404874574,10219.738823657242,10316.605586066476,10341.913357534813,10316.66517278883,10252.573076358103,10216.732469111426,10194.849184512006,9989.622671113486,10174.286765040259,10038.312742536116,9978.878329965726,9877.505049456991,9423.226721940335,8448.935015594028,8251.523231985982,8039.224140808507,8158.789736606589,8073.9537522231785,8072.61663108239,8362.338726063745,8257.53289737893,8244.961882187736,8146.725816650452,8108.012260229536,7980.2613741350515,8040.7742697218755,8209.567752138215,8338.767992641348,8560.788050894631,8398.90430229132,8334.023264038153,8358.546977063059,8308.311406457333,8264.18983118871,8064.522897802507,8032.837878444004,7962.841632669792,7959.600127137167,8020.29762071857,8222.446397849375,8199.58174991533,7736.604987101156,7450.100639864555,7880.584318722863,9318.768119687275,9413.283675192668,9476.646249183541,9383.479470677568,9193.173796062196,9172.688580832568,9155.013009841965,9281.022513483938,9217.61490854777,9257.235809623842,9343.976273420221,9335.804948360492,9237.518967896272,8978.654813496512,8810.738395148996,8896.594757823768,8792.92033648704,8734.287632799298,8747.939129337929,8655.655597415272,8539.642750726829,8470.01792728436,8514.029198381428,8378.876831365851,8115.508755776789,8098.433021968151,7847.416641400139,7341.804982141348,7242.5101706531705,7146.012933634432,6961.916463382015,7140.879929910146,7252.149434008623,7522.175880529575,7612.064453473588,7653.7689299072545,7353.310525060705,7309.541874785915,7319.050655238827,7276.93770894753,7328.986921367733,7405.110015872575,7532.677123219301,7495.626457542383,7460.901284415649,7300.556087797425,7210.646917069641,7172.286553317028,7226.902418159915,7164.373492626379,7089.723106689309,7032.860391371809,6790.183639408659,6770.356285148959,7148.24314580139,7150.839262453889,7148.361459371388,7228.238391081993,7504.055563032636,7296.419569266667,7210.937964009355,7221.176955374911,7191.861071997463,7298.71325546727,7345.635970926201,7297.912752203773,7199.048192231056,7195.811552696487,7072.477633719384,7218.040866931682,7321.9194708394125,7430.027209611765,7533.920318682505,7929.897113517025,8235.62327437288,7898.569229036523,7888.135214954419,8113.360825871817,8111.715362809296,8102.893845324075,8574.611704362778,8743.692143647291,8674.415975438429,8852.80457727625,8891.817032065532,8847.166821810988,8644.707999736622,8646.193566877122,8665.685486395549,8435.60273035554,8383.32548664732,8321.535235775193,8430.129199500634,8723.53546651094,9041.676236459416,9331.033357999097,9370.89651238228,9342.279203230486,9372.44906582662,9377.036114146764,9330.40038077672,9202.938405466666,9403.167151421294,9689.41702545611,9776.736692524168,9813.044905712388,10080.722382977692,9922.395658425208,9957.71639903565,10344.23948839375,10286.246258415278,10262.061382627084,10143.891251224097,9905.533884787154,9720.587398641319,9846.395991498055,10098.862828333078,9582.24688837118,9689.81545051362,9660.397790837422,9870.245958296518,9735.050459190896,9490.032467298817,9033.42804906368,8796.161047472153,8698.50545896493,8686.213148361267,8557.198634572245,8747.60187217889,8791.293455052884,8761.143370995134,9019.792645918415,9098.213160726615,9053.832076247834,8569.848185239665,7882.121460787501,7948.20479578624,7849.994645347669,6666.8288616819445,5294.226216340625,5410.145281967316,5300.823048177198,4985.279471287815,5313.574447863547,5285.267935995222,5765.021215411847,6361.389077256465,6169.0808638566405,6132.19254868989,6105.912299011584,6653.24717908682,6662.127716616783,6671.740301294887,6692.03163392507,6227.902488380876,6104.824055534402,6274.273825478297,6451.763185970713,6308.424179516385,6724.470570755298,6814.820556971713,6773.3763511672105,6796.675729856812,7092.209807825685,7318.081696902664,7302.501675313943,7304.8543422836665,6972.933325834542,6871.078166278387,6954.06131225038,6751.871765907465,6884.686986010135,6798.8475537627355,6914.6664101467095,7071.901788128172,7153.9275586031945,7166.968470350747,7050.526232960057,6867.155475591535,7006.153003182838,7303.817318437702,7521.625762324783,7544.735051663964,7603.793608820939,7715.970909100279,7730.878020961834,8245.722380213292,8894.275984848126,8784.64278472021,8873.989539326563,8979.8925886014,8772.605609500626,8930.913681363852,9164.282146281499,9492.195702154653,9924.46195119388,9727.209380738623,8687.485435756498,8706.762334109952,8774.268432777051,9045.862951861673,9577.180130024619,9523.737060923506,9403.564276661013,9626.880262499786,9721.819166062283,9670.352673392987,9670.785648144516,9279.322026266458,9124.649396746318,9205.783900625256,9119.084263966228,8819.204823993847,8859.416745109058,9030.15356131142,9321.50428794414,9454.194394877903,9507.292082854146,9546.667359008292,9585.242823246666,9880.582896244669,9551.918962460255,9700.43932304499,9742.028924931494,9637.024958752836,9618.213260328099,9725.488576168938,9712.814762248128,9788.521959529107,9639.953642159222,9411.40452584464,9426.981678573988,9403.238615212731,9244.433018226346,9493.595172876241,9442.65748125204,9406.255930210371,9326.588143206127,9301.563679662226,9348.204026697771,9482.184810315599,9638.217570861829,9436.92519585693,9231.493230758932,9180.609944562828,9106.159939018444,9056.257339322981,9116.123239307997,9150.825424038163,9191.841695595105,9166.08243554116,9093.863231727604,9091.76743531617,9062.059217030532,9216.144576610279,9269.029049758998,9346.71076847222,9327.67512244847,9200.495958052377,9238.790536103692,9249.43824694953,9278.539033505616,9220.12313770205,9221.474235418795,9130.464282660963,9134.88543046599,9162.23590497374,9154.807427888658,9177.715587053488,9309.146587307878,9366.08121152948,9541.144946620196,9557.22859637074,9619.470008863225,9834.34345093737,10435.77195985602,10985.119592693056,11096.370981655053,11033.542140439722,11196.163887413408,11610.522017505587,11333.746837542161,11255.501070308339,11243.48303516028,11465.564492601672,11755.581199804166,11716.41160780544,11685.075270792426,11672.13134572093,11899.919358701876,11632.641652881699,11463.679295341904,11551.097077250175,11755.18194227298,11876.953385832172,11850.765200290209,12056.323421185625,12164.40358757818,11797.51651098125,11799.526727126486,11744.323115112576,11559.842808898175,11623.091878436791,11733.966268063905,11506.833402339887,11405.160311917933,11346.124717479443,11442.939620304409,11507.10433766596,11609.048559349363,11685.020310521588,11874.642536686848,11576.25306907446,11039.063579204309,10391.276090070347,10268.003898553521,10201.799719070521,10159.82153465522,10146.578532762562,10188.169891084857,10339.35989595404,10303.242946947663,10373.259994796503,10393.662602084098,10511.558141261507,10774.09014676084,10895.031435610606,10892.677561047387,10925.275534520644,11013.781351278094,10915.458254081213,10677.042177491314,10467.799828944444,10429.32410145101,10447.154971139653,10671.424398447645,10716.311805883755,10717.587523472914,10878.729324832035,10729.49535984686,10741.21274592227,10755.638201109561,10528.457687540182,10549.999930406648,10604.973839338629,10705.634581668555,10699.247307400141,10621.1479497777,10734.447340398323,10983.384095603933,11334.302728770817,11360.626362271323,11447.596319805221,11450.01113257012,11405.5015588268,11415.065075223158,11364.835083055983,11343.749377836297,11424.963448037328,11587.264630524505,11845.688666804637,12458.755897932593,12933.452571687369,12933.337158049088,13030.40593501592,13056.22818710296,13067.709653875707,13368.090398184977,13444.619430909723,13330.564563991662,13435.770794682672,13738.185588586955,13769.800513425595,13596.939398092683,13612.774179418233,13900.019495758188,14730.15041758264,15583.101231359722,15342.928405946443,15202.59451839986,15381.907919403473,15327.286289963864,15593.693127775694,15927.901184766668,16290.816921184156,16029.412185657804,15995.998189848056,16372.397348176512,17083.845872113274,17884.6282452625,17843.01880314236,18336.44645095625,18711.314227810417,18432.242585682638,18448.166465381943,18862.793010583333,19056.078856653472,17390.736701274305,16987.868828386807,17312.290464663194,17991.41982026078,18913.478020126477,19264.72192229653,18953.713099227083,19282.56309730833,19121.886986334724,18998.079583495834,19145.148466569426,19198.998589492363,18942.096815483335,18265.613948152084,18303.16309365625,17937.337420969423,18471.794175698888,19113.04710453162,19161.334182659248,19352.60234239375,20077.72292045972,22616.832315699998,22884.613914634723,23360.905627054166,23594.41173107521,23259.466833602084,23097.830404147222,23530.788341771527,23219.253677889585,24016.39466225972,25267.11261518998,27043.38647,26964.020499138893,26671.00809917778,28141.234408113196,28881.524878111806,29288.824916593752,30757.42953276042,33467.36252562916,31856.122685291666,32273.087909194444,34904.99738251389,38067.44547187986,39807.603738850696,40395.370087963194,39727.27752555417,34277.11000771458,34840.25015274931,34673.97475176042,38508.45668270347,37468.42796355625,36843.15436011188,35650.76418554729,36046.172744233656,36858.91067922986,35152.73730396041,32949.07245171042,31861.057341175692,32351.81482667084,32225.070119778866,33353.08542052361,31997.221463515973,31149.41936392153,31793.884442463197,35051.467813852774,34053.71261722708,33450.93785876323,33705.97519064722,34713.69640010833,36573.09481030625,37541.54813242222,37630.04921400487,39814.356554572616,38711.774555249474,41196.61444486648,46684.4908495625,45798.7337153625,46272.21566854444,47603.41542011806,47273.849919144544,48600.491518490235,47862.39794598194,48845.16600342639,50913.92413875069,51893.31118121875,53083.8791087993,56271.28853767917,57040.82594383044,54708.31202510764,48968.83794590833,49800.28486888125,49985.23481495344,46655.92004851875,47130.20806015889,44818.447552103615,47641.53689948158,48617.289320901386,50429.449015790684,49398.25039857084,47717.64330027986,48371.543537970036,50218.21680438112,50798.354212407234,53980.84726167916,55375.366241257994,56272.596972013904,56826.56003304931,58802.60156770642,60455.844831486414,57507.73450910987,55339.80479183195,56158.01731986032,58472.11732155981,58283.54799432522,58779.76938655648,57312.598536458274,56787.14842211057,54703.38774047083,55123.99385491754,52121.68411029951,53241.037488505215,55193.357259559045,55832.95882390712,56913.993819261836,58346.91226829547,58764.349363],\"type\":\"scatter\"}],                        {\"template\":{\"data\":{\"barpolar\":[{\"marker\":{\"line\":{\"color\":\"#E5ECF6\",\"width\":0.5},\"pattern\":{\"fillmode\":\"overlay\",\"size\":10,\"solidity\":0.2}},\"type\":\"barpolar\"}],\"bar\":[{\"error_x\":{\"color\":\"#2a3f5f\"},\"error_y\":{\"color\":\"#2a3f5f\"},\"marker\":{\"line\":{\"color\":\"#E5ECF6\",\"width\":0.5},\"pattern\":{\"fillmode\":\"overlay\",\"size\":10,\"solidity\":0.2}},\"type\":\"bar\"}],\"carpet\":[{\"aaxis\":{\"endlinecolor\":\"#2a3f5f\",\"gridcolor\":\"white\",\"linecolor\":\"white\",\"minorgridcolor\":\"white\",\"startlinecolor\":\"#2a3f5f\"},\"baxis\":{\"endlinecolor\":\"#2a3f5f\",\"gridcolor\":\"white\",\"linecolor\":\"white\",\"minorgridcolor\":\"white\",\"startlinecolor\":\"#2a3f5f\"},\"type\":\"carpet\"}],\"choropleth\":[{\"colorbar\":{\"outlinewidth\":0,\"ticks\":\"\"},\"type\":\"choropleth\"}],\"contourcarpet\":[{\"colorbar\":{\"outlinewidth\":0,\"ticks\":\"\"},\"type\":\"contourcarpet\"}],\"contour\":[{\"colorbar\":{\"outlinewidth\":0,\"ticks\":\"\"},\"colorscale\":[[0.0,\"#0d0887\"],[0.1111111111111111,\"#46039f\"],[0.2222222222222222,\"#7201a8\"],[0.3333333333333333,\"#9c179e\"],[0.4444444444444444,\"#bd3786\"],[0.5555555555555556,\"#d8576b\"],[0.6666666666666666,\"#ed7953\"],[0.7777777777777778,\"#fb9f3a\"],[0.8888888888888888,\"#fdca26\"],[1.0,\"#f0f921\"]],\"type\":\"contour\"}],\"heatmapgl\":[{\"colorbar\":{\"outlinewidth\":0,\"ticks\":\"\"},\"colorscale\":[[0.0,\"#0d0887\"],[0.1111111111111111,\"#46039f\"],[0.2222222222222222,\"#7201a8\"],[0.3333333333333333,\"#9c179e\"],[0.4444444444444444,\"#bd3786\"],[0.5555555555555556,\"#d8576b\"],[0.6666666666666666,\"#ed7953\"],[0.7777777777777778,\"#fb9f3a\"],[0.8888888888888888,\"#fdca26\"],[1.0,\"#f0f921\"]],\"type\":\"heatmapgl\"}],\"heatmap\":[{\"colorbar\":{\"outlinewidth\":0,\"ticks\":\"\"},\"colorscale\":[[0.0,\"#0d0887\"],[0.1111111111111111,\"#46039f\"],[0.2222222222222222,\"#7201a8\"],[0.3333333333333333,\"#9c179e\"],[0.4444444444444444,\"#bd3786\"],[0.5555555555555556,\"#d8576b\"],[0.6666666666666666,\"#ed7953\"],[0.7777777777777778,\"#fb9f3a\"],[0.8888888888888888,\"#fdca26\"],[1.0,\"#f0f921\"]],\"type\":\"heatmap\"}],\"histogram2dcontour\":[{\"colorbar\":{\"outlinewidth\":0,\"ticks\":\"\"},\"colorscale\":[[0.0,\"#0d0887\"],[0.1111111111111111,\"#46039f\"],[0.2222222222222222,\"#7201a8\"],[0.3333333333333333,\"#9c179e\"],[0.4444444444444444,\"#bd3786\"],[0.5555555555555556,\"#d8576b\"],[0.6666666666666666,\"#ed7953\"],[0.7777777777777778,\"#fb9f3a\"],[0.8888888888888888,\"#fdca26\"],[1.0,\"#f0f921\"]],\"type\":\"histogram2dcontour\"}],\"histogram2d\":[{\"colorbar\":{\"outlinewidth\":0,\"ticks\":\"\"},\"colorscale\":[[0.0,\"#0d0887\"],[0.1111111111111111,\"#46039f\"],[0.2222222222222222,\"#7201a8\"],[0.3333333333333333,\"#9c179e\"],[0.4444444444444444,\"#bd3786\"],[0.5555555555555556,\"#d8576b\"],[0.6666666666666666,\"#ed7953\"],[0.7777777777777778,\"#fb9f3a\"],[0.8888888888888888,\"#fdca26\"],[1.0,\"#f0f921\"]],\"type\":\"histogram2d\"}],\"histogram\":[{\"marker\":{\"pattern\":{\"fillmode\":\"overlay\",\"size\":10,\"solidity\":0.2}},\"type\":\"histogram\"}],\"mesh3d\":[{\"colorbar\":{\"outlinewidth\":0,\"ticks\":\"\"},\"type\":\"mesh3d\"}],\"parcoords\":[{\"line\":{\"colorbar\":{\"outlinewidth\":0,\"ticks\":\"\"}},\"type\":\"parcoords\"}],\"pie\":[{\"automargin\":true,\"type\":\"pie\"}],\"scatter3d\":[{\"line\":{\"colorbar\":{\"outlinewidth\":0,\"ticks\":\"\"}},\"marker\":{\"colorbar\":{\"outlinewidth\":0,\"ticks\":\"\"}},\"type\":\"scatter3d\"}],\"scattercarpet\":[{\"marker\":{\"colorbar\":{\"outlinewidth\":0,\"ticks\":\"\"}},\"type\":\"scattercarpet\"}],\"scattergeo\":[{\"marker\":{\"colorbar\":{\"outlinewidth\":0,\"ticks\":\"\"}},\"type\":\"scattergeo\"}],\"scattergl\":[{\"marker\":{\"colorbar\":{\"outlinewidth\":0,\"ticks\":\"\"}},\"type\":\"scattergl\"}],\"scattermapbox\":[{\"marker\":{\"colorbar\":{\"outlinewidth\":0,\"ticks\":\"\"}},\"type\":\"scattermapbox\"}],\"scatterpolargl\":[{\"marker\":{\"colorbar\":{\"outlinewidth\":0,\"ticks\":\"\"}},\"type\":\"scatterpolargl\"}],\"scatterpolar\":[{\"marker\":{\"colorbar\":{\"outlinewidth\":0,\"ticks\":\"\"}},\"type\":\"scatterpolar\"}],\"scatter\":[{\"fillpattern\":{\"fillmode\":\"overlay\",\"size\":10,\"solidity\":0.2},\"type\":\"scatter\"}],\"scatterternary\":[{\"marker\":{\"colorbar\":{\"outlinewidth\":0,\"ticks\":\"\"}},\"type\":\"scatterternary\"}],\"surface\":[{\"colorbar\":{\"outlinewidth\":0,\"ticks\":\"\"},\"colorscale\":[[0.0,\"#0d0887\"],[0.1111111111111111,\"#46039f\"],[0.2222222222222222,\"#7201a8\"],[0.3333333333333333,\"#9c179e\"],[0.4444444444444444,\"#bd3786\"],[0.5555555555555556,\"#d8576b\"],[0.6666666666666666,\"#ed7953\"],[0.7777777777777778,\"#fb9f3a\"],[0.8888888888888888,\"#fdca26\"],[1.0,\"#f0f921\"]],\"type\":\"surface\"}],\"table\":[{\"cells\":{\"fill\":{\"color\":\"#EBF0F8\"},\"line\":{\"color\":\"white\"}},\"header\":{\"fill\":{\"color\":\"#C8D4E3\"},\"line\":{\"color\":\"white\"}},\"type\":\"table\"}]},\"layout\":{\"annotationdefaults\":{\"arrowcolor\":\"#2a3f5f\",\"arrowhead\":0,\"arrowwidth\":1},\"autotypenumbers\":\"strict\",\"coloraxis\":{\"colorbar\":{\"outlinewidth\":0,\"ticks\":\"\"}},\"colorscale\":{\"diverging\":[[0,\"#8e0152\"],[0.1,\"#c51b7d\"],[0.2,\"#de77ae\"],[0.3,\"#f1b6da\"],[0.4,\"#fde0ef\"],[0.5,\"#f7f7f7\"],[0.6,\"#e6f5d0\"],[0.7,\"#b8e186\"],[0.8,\"#7fbc41\"],[0.9,\"#4d9221\"],[1,\"#276419\"]],\"sequential\":[[0.0,\"#0d0887\"],[0.1111111111111111,\"#46039f\"],[0.2222222222222222,\"#7201a8\"],[0.3333333333333333,\"#9c179e\"],[0.4444444444444444,\"#bd3786\"],[0.5555555555555556,\"#d8576b\"],[0.6666666666666666,\"#ed7953\"],[0.7777777777777778,\"#fb9f3a\"],[0.8888888888888888,\"#fdca26\"],[1.0,\"#f0f921\"]],\"sequentialminus\":[[0.0,\"#0d0887\"],[0.1111111111111111,\"#46039f\"],[0.2222222222222222,\"#7201a8\"],[0.3333333333333333,\"#9c179e\"],[0.4444444444444444,\"#bd3786\"],[0.5555555555555556,\"#d8576b\"],[0.6666666666666666,\"#ed7953\"],[0.7777777777777778,\"#fb9f3a\"],[0.8888888888888888,\"#fdca26\"],[1.0,\"#f0f921\"]]},\"colorway\":[\"#636efa\",\"#EF553B\",\"#00cc96\",\"#ab63fa\",\"#FFA15A\",\"#19d3f3\",\"#FF6692\",\"#B6E880\",\"#FF97FF\",\"#FECB52\"],\"font\":{\"color\":\"#2a3f5f\"},\"geo\":{\"bgcolor\":\"white\",\"lakecolor\":\"white\",\"landcolor\":\"#E5ECF6\",\"showlakes\":true,\"showland\":true,\"subunitcolor\":\"white\"},\"hoverlabel\":{\"align\":\"left\"},\"hovermode\":\"closest\",\"mapbox\":{\"style\":\"light\"},\"paper_bgcolor\":\"white\",\"plot_bgcolor\":\"#E5ECF6\",\"polar\":{\"angularaxis\":{\"gridcolor\":\"white\",\"linecolor\":\"white\",\"ticks\":\"\"},\"bgcolor\":\"#E5ECF6\",\"radialaxis\":{\"gridcolor\":\"white\",\"linecolor\":\"white\",\"ticks\":\"\"}},\"scene\":{\"xaxis\":{\"backgroundcolor\":\"#E5ECF6\",\"gridcolor\":\"white\",\"gridwidth\":2,\"linecolor\":\"white\",\"showbackground\":true,\"ticks\":\"\",\"zerolinecolor\":\"white\"},\"yaxis\":{\"backgroundcolor\":\"#E5ECF6\",\"gridcolor\":\"white\",\"gridwidth\":2,\"linecolor\":\"white\",\"showbackground\":true,\"ticks\":\"\",\"zerolinecolor\":\"white\"},\"zaxis\":{\"backgroundcolor\":\"#E5ECF6\",\"gridcolor\":\"white\",\"gridwidth\":2,\"linecolor\":\"white\",\"showbackground\":true,\"ticks\":\"\",\"zerolinecolor\":\"white\"}},\"shapedefaults\":{\"line\":{\"color\":\"#2a3f5f\"}},\"ternary\":{\"aaxis\":{\"gridcolor\":\"white\",\"linecolor\":\"white\",\"ticks\":\"\"},\"baxis\":{\"gridcolor\":\"white\",\"linecolor\":\"white\",\"ticks\":\"\"},\"bgcolor\":\"#E5ECF6\",\"caxis\":{\"gridcolor\":\"white\",\"linecolor\":\"white\",\"ticks\":\"\"}},\"title\":{\"x\":0.05},\"xaxis\":{\"automargin\":true,\"gridcolor\":\"white\",\"linecolor\":\"white\",\"ticks\":\"\",\"title\":{\"standoff\":15},\"zerolinecolor\":\"white\",\"zerolinewidth\":2},\"yaxis\":{\"automargin\":true,\"gridcolor\":\"white\",\"linecolor\":\"white\",\"ticks\":\"\",\"title\":{\"standoff\":15},\"zerolinecolor\":\"white\",\"zerolinewidth\":2}}},\"title\":{\"text\":\"Seasonal decomposition\"},\"xaxis\":{\"title\":{\"text\":\"Time\"}},\"yaxis\":{\"title\":{\"text\":\"Price, USD\"}}},                        {\"responsive\": true}                    ).then(function(){\n",
       "                            \n",
       "var gd = document.getElementById('acc32ad8-42c6-43ab-8520-65039821168b');\n",
       "var x = new MutationObserver(function (mutations, observer) {{\n",
       "        var display = window.getComputedStyle(gd).display;\n",
       "        if (!display || display === 'none') {{\n",
       "            console.log([gd, 'removed!']);\n",
       "            Plotly.purge(gd);\n",
       "            observer.disconnect();\n",
       "        }}\n",
       "}});\n",
       "\n",
       "// Listen for the removal of the full notebook cells\n",
       "var notebookContainer = gd.closest('#notebook-container');\n",
       "if (notebookContainer) {{\n",
       "    x.observe(notebookContainer, {childList: true});\n",
       "}}\n",
       "\n",
       "// Listen for the clearing of the current output cell\n",
       "var outputEl = gd.closest('.output');\n",
       "if (outputEl) {{\n",
       "    x.observe(outputEl, {childList: true});\n",
       "}}\n",
       "\n",
       "                        })                };                });            </script>        </div>"
      ]
     },
     "metadata": {},
     "output_type": "display_data"
    }
   ],
   "source": [
    "trace1 = go.Scatter(x = np.arange(0, len(s.trend), 1),y = s.trend,mode = 'lines',name = 'Trend',\n",
    "    line = dict(color = ('rgb(244, 146, 65)'), width = 4))\n",
    "trace2 = go.Scatter(x = np.arange(0, len(s.seasonal), 1),y = s.seasonal,mode = 'lines',name = 'Seasonal',\n",
    "    line = dict(color = ('rgb(66, 244, 155)'), width = 2))\n",
    "\n",
    "trace3 = go.Scatter(x = np.arange(0, len(s.resid), 1),y = s.resid,mode = 'lines',name = 'Residual',\n",
    "    line = dict(color = ('rgb(209, 244, 66)'), width = 2))\n",
    "\n",
    "trace4 = go.Scatter(x = np.arange(0, len(s.observed), 1),y = s.observed,mode = 'lines',name = 'Observed',\n",
    "    line = dict(color = ('rgb(66, 134, 244)'), width = 2))\n",
    "\n",
    "data = [trace1, trace2, trace3, trace4]\n",
    "layout = dict(title = 'Seasonal decomposition', xaxis = dict(title = 'Time'), yaxis = dict(title = 'Price, USD'))\n",
    "fig = dict(data=data, layout=layout)\n",
    "py.iplot(fig, filename='seasonal_decomposition')"
   ]
  },
  {
   "cell_type": "markdown",
   "metadata": {
    "_cell_guid": "6ff4d4d1-b71c-41c5-86da-fc24ba0d99f2",
    "_uuid": "7f24bdcd4ef464b01aaa7cb2cc59a351b579f7c6"
   },
   "source": [
    "The next thing we do is an examination of the **autocorrelation**. It is it is the similarity between observations as a function of the time lag between them. It is important for finding repeating patterns in the data. "
   ]
  },
  {
   "cell_type": "code",
   "execution_count": 12,
   "metadata": {
    "_cell_guid": "edbcd456-92f3-43ad-a8a7-71885235952c",
    "_uuid": "cdc6e24a71f9e2b22e18cebf5b9ce2cbde2b9931"
   },
   "outputs": [
    {
     "data": {
      "image/png": "[encoded data removed]",
      "text/plain": [
       "<Figure size 1500x700 with 2 Axes>"
      ]
     },
     "metadata": {},
     "output_type": "display_data"
    }
   ],
   "source": [
    "plt.figure(figsize=(15,7))\n",
    "ax = plt.subplot(211)\n",
    "sm.graphics.tsa.plot_acf(working_data.Weighted_Price.values.squeeze(), lags=48, ax=ax)\n",
    "ax = plt.subplot(212)\n",
    "sm.graphics.tsa.plot_pacf(working_data.Weighted_Price.values.squeeze(), lags=48, ax=ax)\n",
    "plt.tight_layout()\n",
    "plt.show()"
   ]
  },
  {
   "cell_type": "markdown",
   "metadata": {
    "_cell_guid": "cdeb0390-cc75-4127-92bd-9a3d9a951839",
    "_uuid": "091b8085cbdc42fc0bbec0f6283465435d75d52a"
   },
   "source": [
    "Now we need to recover our df_train and df_test datasets:"
   ]
  },
  {
   "cell_type": "code",
   "execution_count": 13,
   "metadata": {
    "_cell_guid": "bc2dde80-4e57-4dbc-99ee-7e75ea277e80",
    "_uuid": "e0c18a544ec36d8eb784590742e79850b694816a"
   },
   "outputs": [],
   "source": [
    "df_train = working_data[:-60]\n",
    "df_test = working_data[-60:]"
   ]
  },
  {
   "cell_type": "markdown",
   "metadata": {
    "_cell_guid": "c26c777e-6d50-4fad-83a7-192cb1f83cc6",
    "_uuid": "d0ee3d170b35a09734d6dbac177a426c3e17dc04"
   },
   "source": [
    "# Data preparation\n",
    "\n",
    "We need to prepare our dataset according to the requirements of the model, as well as to split the dataset into train and test parts. \n",
    "In the next cell, we define a function which creates X inputs and Y labels for our model. In the sequential forecasting, we predict the future value based on some previous and current values. So, our Y label is the value from the next (future) point of time while the X inputs are one or several values from the past. The amount of this values we can set by tuning the parameter *look_back* in our function. If we set it to 1, this means that we predict current value *t* based on the previous value *(t-1)*."
   ]
  },
  {
   "cell_type": "code",
   "execution_count": 14,
   "metadata": {
    "_cell_guid": "d0b98c6a-4e04-46be-b02f-553fbb3cd169",
    "_uuid": "4f52886af240af7df73307d66631a8a83b8650f4"
   },
   "outputs": [],
   "source": [
    "def create_lookback(dataset, look_back=1):\n",
    "    X, Y = [], []\n",
    "    for i in range(len(dataset) - look_back):\n",
    "        a = dataset[i:(i + look_back), 0]\n",
    "        X.append(a)\n",
    "        Y.append(dataset[i + look_back, 0])\n",
    "    return np.array(X), np.array(Y)"
   ]
  },
  {
   "cell_type": "markdown",
   "metadata": {
    "_cell_guid": "a05b3820-0fb1-4cb3-b388-5332d42897c5",
    "_uuid": "fbf150e78040190477d351c42991cd338e92431d"
   },
   "source": [
    "Now we perform **final data preparation**:\n",
    "   1. Reshape the train and test set according to the requirements of the model.\n",
    "   2. Scale the dataset by using the MinMaxScaler because LSTM models are scale sensitive.\n",
    "   3. Apply our *create_lookback* function."
   ]
  },
  {
   "cell_type": "code",
   "execution_count": 15,
   "metadata": {
    "_cell_guid": "42e23593-4dfb-42a5-ace0-3e3779d523e2",
    "_uuid": "81931375dc7bdd7e9f96a89240a8294e55a807cc"
   },
   "outputs": [],
   "source": [
    "from sklearn.preprocessing import MinMaxScaler\n",
    "\n",
    "training_set = df_train.values\n",
    "training_set = np.reshape(training_set, (len(training_set), 1))\n",
    "test_set = df_test.values\n",
    "test_set = np.reshape(test_set, (len(test_set), 1))\n",
    "\n",
    "#scale datasets\n",
    "scaler = MinMaxScaler()\n",
    "training_set = scaler.fit_transform(training_set)\n",
    "test_set = scaler.transform(test_set)\n",
    "\n",
    "# create datasets which are suitable for time series forecasting\n",
    "look_back = 1\n",
    "X_train, Y_train = create_lookback(training_set, look_back)\n",
    "X_test, Y_test = create_lookback(test_set, look_back)\n",
    "\n",
    " # reshape datasets so that they will be ok for the requirements of the LSTM model in Keras\n",
    "X_train = np.reshape(X_train, (len(X_train), 1, X_train.shape[1]))\n",
    "X_test = np.reshape(X_test, (len(X_test), 1, X_test.shape[1]))"
   ]
  },
  {
   "cell_type": "markdown",
   "metadata": {
    "_cell_guid": "9683104c-5f6a-4d23-8537-e3fc5e28feea",
    "_uuid": "1c8f73b21cdebc83c6d7b6ea8ed5ad062de512af"
   },
   "source": [
    "We have tried to train several different models and compare their results. You can found them in the table below.\n",
    "These results were obtained using the following hardware: 4-core CPU, 16 GB RAM and by training each model ten times with different random states.\n",
    "As we can see, the best result is obtained by using the 2-stacked LSTM. Nevertheless, this model is much slower then GRU or 1-layer LSTM. The Autoregressive integrated moving average model (ARIMA) shows the worst results both in performance and training time. We can also see, that the 1-layer LSTM model is not capable to recognize patterns in the data so we need more complex models. We are going to demonstrate 2-layers LSTM neural network in more detail. \n",
    "\n",
    "<table>\n",
    "    <thead>\n",
    "        <tr>\n",
    "            <th>Model</th>\n",
    "            <th>RMSE</th>\n",
    "            <th>Training time, sec</th>\n",
    "        </tr>\n",
    "    </thead>\n",
    "    <tbody>\n",
    "        <tr>\n",
    "            <td>ARIMA</td>\n",
    "            <td>164</td>\n",
    "            <td>166</td>\n",
    "        </tr>\n",
    "        <tr>\n",
    "            <td>1-layer LSTM</td>\n",
    "            <td>91.2 +- (2.2)</td>\n",
    "            <td>21</td>\n",
    "        </tr>\n",
    "        <tr>\n",
    "            <td>Bidirectional 1-layer LSTM</td>\n",
    "            <td>51.6 +- (9.5)</td>\n",
    "            <td>42</td>\n",
    "        </tr>\n",
    "        <tr>\n",
    "            <td>Gated Recurrent Unit (GRU)</td>\n",
    "            <td>32.6 +- (1.5)</td>\n",
    "            <td>16</td>\n",
    "        </tr>   \n",
    "        <tr>\n",
    "            <td>2-layers LSTM</td>\n",
    "            <td>19.5 +- (4.2)</td>\n",
    "            <td>57</td>\n",
    "        </tr>        \n",
    "    </tbody>\n",
    "</table>\n"
   ]
  },
  {
   "cell_type": "markdown",
   "metadata": {
    "_cell_guid": "d87a9f1b-c512-4544-a9ad-2597b80f42ab",
    "_uuid": "17d41a384e7b15fb5563bd7f67b20b247143184d",
    "collapsed": true,
    "jupyter": {
     "outputs_hidden": true
    }
   },
   "source": [
    "# Training 2-layers LSTM Neural Network\n",
    "\n",
    "Eventually, we can build and train our model. We use Keras framework for deep learning. \n",
    "Our model consists of two stacked LSTM layers with 256 units each and the densely connected output layer with one neuron. We are using [Adam optimizer](https://arxiv.org/abs/1412.6980) and MSE as a loss. Also, we use an early stopping if the result doesn't improve during 20 training iterations (epochs).\n",
    "We performed several experiments and found that the optimal number of epochs and butch_size is 100 and 16 respectively.\n",
    "Also, it is important to set *shuffle=False* because we don't want to shuffle time series data."
   ]
  },
  {
   "cell_type": "code",
   "execution_count": 16,
   "metadata": {
    "_cell_guid": "ff2bf0e9-18aa-45b6-b2c1-1a43c08e2abc",
    "_uuid": "759bf04dc636fb92287417851c65319545097f29"
   },
   "outputs": [
    {
     "name": "stdout",
     "output_type": "stream",
     "text": [
      "Epoch 1/100\n",
      "38/38 [==============================] - 9s 57ms/step - loss: 0.0169 - val_loss: 0.3890\n",
      "Epoch 2/100\n",
      "38/38 [==============================] - 1s 30ms/step - loss: 0.0286 - val_loss: 0.3311\n",
      "Epoch 3/100\n",
      "38/38 [==============================] - 1s 27ms/step - loss: 0.0072 - val_loss: 0.0146\n",
      "Epoch 4/100\n",
      "38/38 [==============================] - 1s 26ms/step - loss: 0.0018 - val_loss: 0.0283\n",
      "Epoch 5/100\n",
      "38/38 [==============================] - 1s 26ms/step - loss: 7.1569e-04 - val_loss: 0.0032\n",
      "Epoch 6/100\n",
      "38/38 [==============================] - 1s 27ms/step - loss: 6.7032e-04 - val_loss: 0.0096\n",
      "Epoch 7/100\n",
      "38/38 [==============================] - 1s 28ms/step - loss: 3.0920e-04 - val_loss: 0.0047\n",
      "Epoch 8/100\n",
      "38/38 [==============================] - 1s 26ms/step - loss: 4.6191e-04 - val_loss: 0.0067\n",
      "Epoch 9/100\n",
      "38/38 [==============================] - 1s 27ms/step - loss: 3.2817e-04 - val_loss: 0.0043\n",
      "Epoch 10/100\n",
      "38/38 [==============================] - 1s 28ms/step - loss: 4.8169e-04 - val_loss: 0.0054\n",
      "Epoch 11/100\n",
      "38/38 [==============================] - 1s 30ms/step - loss: 3.4531e-04 - val_loss: 0.0039\n",
      "Epoch 12/100\n",
      "38/38 [==============================] - 1s 29ms/step - loss: 5.2703e-04 - val_loss: 0.0047\n",
      "Epoch 13/100\n",
      "38/38 [==============================] - 1s 29ms/step - loss: 3.5101e-04 - val_loss: 0.0037\n",
      "Epoch 14/100\n",
      "38/38 [==============================] - 1s 27ms/step - loss: 5.7380e-04 - val_loss: 0.0043\n",
      "Epoch 15/100\n",
      "38/38 [==============================] - 1s 29ms/step - loss: 3.4607e-04 - val_loss: 0.0036\n",
      "Epoch 16/100\n",
      "38/38 [==============================] - 1s 28ms/step - loss: 6.0608e-04 - val_loss: 0.0040\n",
      "Epoch 17/100\n",
      "38/38 [==============================] - 1s 32ms/step - loss: 3.3482e-04 - val_loss: 0.0037\n",
      "Epoch 18/100\n",
      "38/38 [==============================] - 1s 30ms/step - loss: 6.0629e-04 - val_loss: 0.0039\n",
      "Epoch 19/100\n",
      "38/38 [==============================] - 1s 29ms/step - loss: 3.2124e-04 - val_loss: 0.0038\n",
      "Epoch 20/100\n",
      "38/38 [==============================] - 1s 29ms/step - loss: 5.6365e-04 - val_loss: 0.0039\n",
      "Epoch 21/100\n",
      "38/38 [==============================] - 1s 35ms/step - loss: 3.1326e-04 - val_loss: 0.0039\n",
      "Epoch 22/100\n",
      "38/38 [==============================] - 1s 31ms/step - loss: 4.8990e-04 - val_loss: 0.0039\n",
      "Epoch 23/100\n",
      "38/38 [==============================] - 1s 33ms/step - loss: 3.2269e-04 - val_loss: 0.0040\n",
      "Epoch 24/100\n",
      "38/38 [==============================] - 1s 34ms/step - loss: 4.1724e-04 - val_loss: 0.0039\n",
      "Epoch 25/100\n",
      "38/38 [==============================] - 1s 28ms/step - loss: 3.4658e-04 - val_loss: 0.0040\n",
      "Epoch 25: early stopping\n"
     ]
    }
   ],
   "source": [
    "# initialize sequential model, add 2 stacked LSTM layers and densely connected output neuron\n",
    "model = Sequential()\n",
    "model.add(LSTM(256, return_sequences=True, input_shape=(X_train.shape[1], X_train.shape[2])))\n",
    "model.add(LSTM(256))\n",
    "model.add(Dense(1))\n",
    "\n",
    "# compile and fit the model\n",
    "model.compile(loss='mean_squared_error', optimizer='adam')\n",
    "history = model.fit(X_train, Y_train, epochs=100, batch_size=16, shuffle=False, \n",
    "                    validation_data=(X_test, Y_test), \n",
    "                    callbacks = [EarlyStopping(monitor='val_loss', min_delta=5e-5, patience=20, verbose=1)])"
   ]
  },
  {
   "cell_type": "code",
   "execution_count": 17,
   "metadata": {
    "_cell_guid": "37c1a750-4421-4b20-ba26-909ab9a0ee41",
    "_uuid": "ac55eec1ad24e59a7a252690539d2dccd6ae88b9"
   },
   "outputs": [
    {
     "data": {
      "application/vnd.plotly.v1+json": {
       "config": {
        "linkText": "Export to plot.ly",
        "plotlyServerURL": "https://plot.ly",
        "showLink": false
       },
       "data": [
        {
         "line": {
          "color": "rgb(66, 244, 155)",
          "dash": "dash",
          "width": 2
         },
         "mode": "lines",
         "name": "Train loss",
         "type": "scatter",
         "x": [
          0,
          1,
          2,
          3,
          4,
          5,
          6,
          7,
          8,
          9,
          10,
          11,
          12,
          13,
          14,
          15,
          16,
          17,
          18,
          19,
          20,
          21,
          22,
          23,
          24
         ],
         "y": [
          0.0168949943035841,
          0.0285809226334095,
          0.00717909773811698,
          0.0017823900561779737,
          0.0007156869978643954,
          0.0006703237886540592,
          0.0003091990074608475,
          0.00046190901775844395,
          0.00032816827297210693,
          0.00048168524517677724,
          0.0003453065291978419,
          0.0005270296824164689,
          0.00035101250978186727,
          0.0005737966275773942,
          0.0003460728330537677,
          0.0006060818559490144,
          0.00033482254366390407,
          0.000606287328992039,
          0.0003212422307115048,
          0.0005636464920826256,
          0.0003132571291644126,
          0.0004898952320218086,
          0.00032268735230900347,
          0.00041723516187630594,
          0.00034658066579140723
         ]
        },
        {
         "line": {
          "color": "rgb(244, 146, 65)",
          "width": 2
         },
         "mode": "lines",
         "name": "Test loss",
         "type": "scatter",
         "x": [
          0,
          1,
          2,
          3,
          4,
          5,
          6,
          7,
          8,
          9,
          10,
          11,
          12,
          13,
          14,
          15,
          16,
          17,
          18,
          19,
          20,
          21,
          22,
          23,
          24
         ],
         "y": [
          0.38895389437675476,
          0.3311019539833069,
          0.014586822129786015,
          0.02834157645702362,
          0.0031761592254042625,
          0.009602511301636696,
          0.004705486819148064,
          0.006709896959364414,
          0.004340722691267729,
          0.005417004693299532,
          0.0039027328602969646,
          0.004674533847719431,
          0.003654521657153964,
          0.0042585101909935474,
          0.0035916506312787533,
          0.004035379271954298,
          0.0036670470144599676,
          0.003922934643924236,
          0.003812640206888318,
          0.003874774556607008,
          0.003932843916118145,
          0.0038695242255926132,
          0.003968292381614447,
          0.0038956229109317064,
          0.003951233811676502
         ]
        }
       ],
       "layout": {
        "autosize": true,
        "template": {
         "data": {
          "bar": [
           {
            "error_x": {
             "color": "#2a3f5f"
            },
            "error_y": {
             "color": "#2a3f5f"
            },
            "marker": {
             "line": {
              "color": "#E5ECF6",
              "width": 0.5
             },
             "pattern": {
              "fillmode": "overlay",
              "size": 10,
              "solidity": 0.2
             }
            },
            "type": "bar"
           }
          ],
          "barpolar": [
           {
            "marker": {
             "line": {
              "color": "#E5ECF6",
              "width": 0.5
             },
             "pattern": {
              "fillmode": "overlay",
              "size": 10,
              "solidity": 0.2
             }
            },
            "type": "barpolar"
           }
          ],
          "carpet": [
           {
            "aaxis": {
             "endlinecolor": "#2a3f5f",
             "gridcolor": "white",
             "linecolor": "white",
             "minorgridcolor": "white",
             "startlinecolor": "#2a3f5f"
            },
            "baxis": {
             "endlinecolor": "#2a3f5f",
             "gridcolor": "white",
             "linecolor": "white",
             "minorgridcolor": "white",
             "startlinecolor": "#2a3f5f"
            },
            "type": "carpet"
           }
          ],
          "choropleth": [
           {
            "colorbar": {
             "outlinewidth": 0,
             "ticks": ""
            },
            "type": "choropleth"
           }
          ],
          "contour": [
           {
            "colorbar": {
             "outlinewidth": 0,
             "ticks": ""
            },
            "colorscale": [
             [
              0,
              "#0d0887"
             ],
             [
              0.1111111111111111,
              "#46039f"
             ],
             [
              0.2222222222222222,
              "#7201a8"
             ],
             [
              0.3333333333333333,
              "#9c179e"
             ],
             [
              0.4444444444444444,
              "#bd3786"
             ],
             [
              0.5555555555555556,
              "#d8576b"
             ],
             [
              0.6666666666666666,
              "#ed7953"
             ],
             [
              0.7777777777777778,
              "#fb9f3a"
             ],
             [
              0.8888888888888888,
              "#fdca26"
             ],
             [
              1,
              "#f0f921"
             ]
            ],
            "type": "contour"
           }
          ],
          "contourcarpet": [
           {
            "colorbar": {
             "outlinewidth": 0,
             "ticks": ""
            },
            "type": "contourcarpet"
           }
          ],
          "heatmap": [
           {
            "colorbar": {
             "outlinewidth": 0,
             "ticks": ""
            },
            "colorscale": [
             [
              0,
              "#0d0887"
             ],
             [
              0.1111111111111111,
              "#46039f"
             ],
             [
              0.2222222222222222,
              "#7201a8"
             ],
             [
              0.3333333333333333,
              "#9c179e"
             ],
             [
              0.4444444444444444,
              "#bd3786"
             ],
             [
              0.5555555555555556,
              "#d8576b"
             ],
             [
              0.6666666666666666,
              "#ed7953"
             ],
             [
              0.7777777777777778,
              "#fb9f3a"
             ],
             [
              0.8888888888888888,
              "#fdca26"
             ],
             [
              1,
              "#f0f921"
             ]
            ],
            "type": "heatmap"
           }
          ],
          "heatmapgl": [
           {
            "colorbar": {
             "outlinewidth": 0,
             "ticks": ""
            },
            "colorscale": [
             [
              0,
              "#0d0887"
             ],
             [
              0.1111111111111111,
              "#46039f"
             ],
             [
              0.2222222222222222,
              "#7201a8"
             ],
             [
              0.3333333333333333,
              "#9c179e"
             ],
             [
              0.4444444444444444,
              "#bd3786"
             ],
             [
              0.5555555555555556,
              "#d8576b"
             ],
             [
              0.6666666666666666,
              "#ed7953"
             ],
             [
              0.7777777777777778,
              "#fb9f3a"
             ],
             [
              0.8888888888888888,
              "#fdca26"
             ],
             [
              1,
              "#f0f921"
             ]
            ],
            "type": "heatmapgl"
           }
          ],
          "histogram": [
           {
            "marker": {
             "pattern": {
              "fillmode": "overlay",
              "size": 10,
              "solidity": 0.2
             }
            },
            "type": "histogram"
           }
          ],
          "histogram2d": [
           {
            "colorbar": {
             "outlinewidth": 0,
             "ticks": ""
            },
            "colorscale": [
             [
              0,
              "#0d0887"
             ],
             [
              0.1111111111111111,
              "#46039f"
             ],
             [
              0.2222222222222222,
              "#7201a8"
             ],
             [
              0.3333333333333333,
              "#9c179e"
             ],
             [
              0.4444444444444444,
              "#bd3786"
             ],
             [
              0.5555555555555556,
              "#d8576b"
             ],
             [
              0.6666666666666666,
              "#ed7953"
             ],
             [
              0.7777777777777778,
              "#fb9f3a"
             ],
             [
              0.8888888888888888,
              "#fdca26"
             ],
             [
              1,
              "#f0f921"
             ]
            ],
            "type": "histogram2d"
           }
          ],
          "histogram2dcontour": [
           {
            "colorbar": {
             "outlinewidth": 0,
             "ticks": ""
            },
            "colorscale": [
             [
              0,
              "#0d0887"
             ],
             [
              0.1111111111111111,
              "#46039f"
             ],
             [
              0.2222222222222222,
              "#7201a8"
             ],
             [
              0.3333333333333333,
              "#9c179e"
             ],
             [
              0.4444444444444444,
              "#bd3786"
             ],
             [
              0.5555555555555556,
              "#d8576b"
             ],
             [
              0.6666666666666666,
              "#ed7953"
             ],
             [
              0.7777777777777778,
              "#fb9f3a"
             ],
             [
              0.8888888888888888,
              "#fdca26"
             ],
             [
              1,
              "#f0f921"
             ]
            ],
            "type": "histogram2dcontour"
           }
          ],
          "mesh3d": [
           {
            "colorbar": {
             "outlinewidth": 0,
             "ticks": ""
            },
            "type": "mesh3d"
           }
          ],
          "parcoords": [
           {
            "line": {
             "colorbar": {
              "outlinewidth": 0,
              "ticks": ""
             }
            },
            "type": "parcoords"
           }
          ],
          "pie": [
           {
            "automargin": true,
            "type": "pie"
           }
          ],
          "scatter": [
           {
            "fillpattern": {
             "fillmode": "overlay",
             "size": 10,
             "solidity": 0.2
            },
            "type": "scatter"
           }
          ],
          "scatter3d": [
           {
            "line": {
             "colorbar": {
              "outlinewidth": 0,
              "ticks": ""
             }
            },
            "marker": {
             "colorbar": {
              "outlinewidth": 0,
              "ticks": ""
             }
            },
            "type": "scatter3d"
           }
          ],
          "scattercarpet": [
           {
            "marker": {
             "colorbar": {
              "outlinewidth": 0,
              "ticks": ""
             }
            },
            "type": "scattercarpet"
           }
          ],
          "scattergeo": [
           {
            "marker": {
             "colorbar": {
              "outlinewidth": 0,
              "ticks": ""
             }
            },
            "type": "scattergeo"
           }
          ],
          "scattergl": [
           {
            "marker": {
             "colorbar": {
              "outlinewidth": 0,
              "ticks": ""
             }
            },
            "type": "scattergl"
           }
          ],
          "scattermapbox": [
           {
            "marker": {
             "colorbar": {
              "outlinewidth": 0,
              "ticks": ""
             }
            },
            "type": "scattermapbox"
           }
          ],
          "scatterpolar": [
           {
            "marker": {
             "colorbar": {
              "outlinewidth": 0,
              "ticks": ""
             }
            },
            "type": "scatterpolar"
           }
          ],
          "scatterpolargl": [
           {
            "marker": {
             "colorbar": {
              "outlinewidth": 0,
              "ticks": ""
             }
            },
            "type": "scatterpolargl"
           }
          ],
          "scatterternary": [
           {
            "marker": {
             "colorbar": {
              "outlinewidth": 0,
              "ticks": ""
             }
            },
            "type": "scatterternary"
           }
          ],
          "surface": [
           {
            "colorbar": {
             "outlinewidth": 0,
             "ticks": ""
            },
            "colorscale": [
             [
              0,
              "#0d0887"
             ],
             [
              0.1111111111111111,
              "#46039f"
             ],
             [
              0.2222222222222222,
              "#7201a8"
             ],
             [
              0.3333333333333333,
              "#9c179e"
             ],
             [
              0.4444444444444444,
              "#bd3786"
             ],
             [
              0.5555555555555556,
              "#d8576b"
             ],
             [
              0.6666666666666666,
              "#ed7953"
             ],
             [
              0.7777777777777778,
              "#fb9f3a"
             ],
             [
              0.8888888888888888,
              "#fdca26"
             ],
             [
              1,
              "#f0f921"
             ]
            ],
            "type": "surface"
           }
          ],
          "table": [
           {
            "cells": {
             "fill": {
              "color": "#EBF0F8"
             },
             "line": {
              "color": "white"
             }
            },
            "header": {
             "fill": {
              "color": "#C8D4E3"
             },
             "line": {
              "color": "white"
             }
            },
            "type": "table"
           }
          ]
         },
         "layout": {
          "annotationdefaults": {
           "arrowcolor": "#2a3f5f",
           "arrowhead": 0,
           "arrowwidth": 1
          },
          "autotypenumbers": "strict",
          "coloraxis": {
           "colorbar": {
            "outlinewidth": 0,
            "ticks": ""
           }
          },
          "colorscale": {
           "diverging": [
            [
             0,
             "#8e0152"
            ],
            [
             0.1,
             "#c51b7d"
            ],
            [
             0.2,
             "#de77ae"
            ],
            [
             0.3,
             "#f1b6da"
            ],
            [
             0.4,
             "#fde0ef"
            ],
            [
             0.5,
             "#f7f7f7"
            ],
            [
             0.6,
             "#e6f5d0"
            ],
            [
             0.7,
             "#b8e186"
            ],
            [
             0.8,
             "#7fbc41"
            ],
            [
             0.9,
             "#4d9221"
            ],
            [
             1,
             "#276419"
            ]
           ],
           "sequential": [
            [
             0,
             "#0d0887"
            ],
            [
             0.1111111111111111,
             "#46039f"
            ],
            [
             0.2222222222222222,
             "#7201a8"
            ],
            [
             0.3333333333333333,
             "#9c179e"
            ],
            [
             0.4444444444444444,
             "#bd3786"
            ],
            [
             0.5555555555555556,
             "#d8576b"
            ],
            [
             0.6666666666666666,
             "#ed7953"
            ],
            [
             0.7777777777777778,
             "#fb9f3a"
            ],
            [
             0.8888888888888888,
             "#fdca26"
            ],
            [
             1,
             "#f0f921"
            ]
           ],
           "sequentialminus": [
            [
             0,
             "#0d0887"
            ],
            [
             0.1111111111111111,
             "#46039f"
            ],
            [
             0.2222222222222222,
             "#7201a8"
            ],
            [
             0.3333333333333333,
             "#9c179e"
            ],
            [
             0.4444444444444444,
             "#bd3786"
            ],
            [
             0.5555555555555556,
             "#d8576b"
            ],
            [
             0.6666666666666666,
             "#ed7953"
            ],
            [
             0.7777777777777778,
             "#fb9f3a"
            ],
            [
             0.8888888888888888,
             "#fdca26"
            ],
            [
             1,
             "#f0f921"
            ]
           ]
          },
          "colorway": [
           "#636efa",
           "#EF553B",
           "#00cc96",
           "#ab63fa",
           "#FFA15A",
           "#19d3f3",
           "#FF6692",
           "#B6E880",
           "#FF97FF",
           "#FECB52"
          ],
          "font": {
           "color": "#2a3f5f"
          },
          "geo": {
           "bgcolor": "white",
           "lakecolor": "white",
           "landcolor": "#E5ECF6",
           "showlakes": true,
           "showland": true,
           "subunitcolor": "white"
          },
          "hoverlabel": {
           "align": "left"
          },
          "hovermode": "closest",
          "mapbox": {
           "style": "light"
          },
          "paper_bgcolor": "white",
          "plot_bgcolor": "#E5ECF6",
          "polar": {
           "angularaxis": {
            "gridcolor": "white",
            "linecolor": "white",
            "ticks": ""
           },
           "bgcolor": "#E5ECF6",
           "radialaxis": {
            "gridcolor": "white",
            "linecolor": "white",
            "ticks": ""
           }
          },
          "scene": {
           "xaxis": {
            "backgroundcolor": "#E5ECF6",
            "gridcolor": "white",
            "gridwidth": 2,
            "linecolor": "white",
            "showbackground": true,
            "ticks": "",
            "zerolinecolor": "white"
           },
           "yaxis": {
            "backgroundcolor": "#E5ECF6",
            "gridcolor": "white",
            "gridwidth": 2,
            "linecolor": "white",
            "showbackground": true,
            "ticks": "",
            "zerolinecolor": "white"
           },
           "zaxis": {
            "backgroundcolor": "#E5ECF6",
            "gridcolor": "white",
            "gridwidth": 2,
            "linecolor": "white",
            "showbackground": true,
            "ticks": "",
            "zerolinecolor": "white"
           }
          },
          "shapedefaults": {
           "line": {
            "color": "#2a3f5f"
           }
          },
          "ternary": {
           "aaxis": {
            "gridcolor": "white",
            "linecolor": "white",
            "ticks": ""
           },
           "baxis": {
            "gridcolor": "white",
            "linecolor": "white",
            "ticks": ""
           },
           "bgcolor": "#E5ECF6",
           "caxis": {
            "gridcolor": "white",
            "linecolor": "white",
            "ticks": ""
           }
          },
          "title": {
           "x": 0.05
          },
          "xaxis": {
           "automargin": true,
           "gridcolor": "white",
           "linecolor": "white",
           "ticks": "",
           "title": {
            "standoff": 15
           },
           "zerolinecolor": "white",
           "zerolinewidth": 2
          },
          "yaxis": {
           "automargin": true,
           "gridcolor": "white",
           "linecolor": "white",
           "ticks": "",
           "title": {
            "standoff": 15
           },
           "zerolinecolor": "white",
           "zerolinewidth": 2
          }
         }
        },
        "title": {
         "text": "Train and Test Loss during training"
        },
        "xaxis": {
         "autorange": true,
         "range": [
          0,
          24
         ],
         "title": {
          "text": "Epoch number"
         },
         "type": "linear"
        },
        "yaxis": {
         "autorange": true,
         "range": [
          -0.02128217295749993,
          0.4105452663417155
         ],
         "title": {
          "text": "Loss"
         },
         "type": "linear"
        }
       }
      },
      "text/html": [
       "<div>                            <div id=\"6d554354-79ee-4750-a722-3d80a3e04bc5\" class=\"plotly-graph-div\" style=\"height:525px; width:100%;\"></div>            <script type=\"text/javascript\">                require([\"plotly\"], function(Plotly) {                    window.PLOTLYENV=window.PLOTLYENV || {};                                    if (document.getElementById(\"6d554354-79ee-4750-a722-3d80a3e04bc5\")) {                    Plotly.newPlot(                        \"6d554354-79ee-4750-a722-3d80a3e04bc5\",                        [{\"line\":{\"color\":\"rgb(66, 244, 155)\",\"dash\":\"dash\",\"width\":2},\"mode\":\"lines\",\"name\":\"Train loss\",\"x\":[0,1,2,3,4,5,6,7,8,9,10,11,12,13,14,15,16,17,18,19,20,21,22,23,24],\"y\":[0.0168949943035841,0.0285809226334095,0.00717909773811698,0.0017823900561779737,0.0007156869978643954,0.0006703237886540592,0.0003091990074608475,0.00046190901775844395,0.00032816827297210693,0.00048168524517677724,0.0003453065291978419,0.0005270296824164689,0.00035101250978186727,0.0005737966275773942,0.0003460728330537677,0.0006060818559490144,0.00033482254366390407,0.000606287328992039,0.0003212422307115048,0.0005636464920826256,0.0003132571291644126,0.0004898952320218086,0.00032268735230900347,0.00041723516187630594,0.00034658066579140723],\"type\":\"scatter\"},{\"line\":{\"color\":\"rgb(244, 146, 65)\",\"width\":2},\"mode\":\"lines\",\"name\":\"Test loss\",\"x\":[0,1,2,3,4,5,6,7,8,9,10,11,12,13,14,15,16,17,18,19,20,21,22,23,24],\"y\":[0.38895389437675476,0.3311019539833069,0.014586822129786015,0.02834157645702362,0.0031761592254042625,0.009602511301636696,0.004705486819148064,0.006709896959364414,0.004340722691267729,0.005417004693299532,0.0039027328602969646,0.004674533847719431,0.003654521657153964,0.0042585101909935474,0.0035916506312787533,0.004035379271954298,0.0036670470144599676,0.003922934643924236,0.003812640206888318,0.003874774556607008,0.003932843916118145,0.0038695242255926132,0.003968292381614447,0.0038956229109317064,0.003951233811676502],\"type\":\"scatter\"}],                        {\"template\":{\"data\":{\"barpolar\":[{\"marker\":{\"line\":{\"color\":\"#E5ECF6\",\"width\":0.5},\"pattern\":{\"fillmode\":\"overlay\",\"size\":10,\"solidity\":0.2}},\"type\":\"barpolar\"}],\"bar\":[{\"error_x\":{\"color\":\"#2a3f5f\"},\"error_y\":{\"color\":\"#2a3f5f\"},\"marker\":{\"line\":{\"color\":\"#E5ECF6\",\"width\":0.5},\"pattern\":{\"fillmode\":\"overlay\",\"size\":10,\"solidity\":0.2}},\"type\":\"bar\"}],\"carpet\":[{\"aaxis\":{\"endlinecolor\":\"#2a3f5f\",\"gridcolor\":\"white\",\"linecolor\":\"white\",\"minorgridcolor\":\"white\",\"startlinecolor\":\"#2a3f5f\"},\"baxis\":{\"endlinecolor\":\"#2a3f5f\",\"gridcolor\":\"white\",\"linecolor\":\"white\",\"minorgridcolor\":\"white\",\"startlinecolor\":\"#2a3f5f\"},\"type\":\"carpet\"}],\"choropleth\":[{\"colorbar\":{\"outlinewidth\":0,\"ticks\":\"\"},\"type\":\"choropleth\"}],\"contourcarpet\":[{\"colorbar\":{\"outlinewidth\":0,\"ticks\":\"\"},\"type\":\"contourcarpet\"}],\"contour\":[{\"colorbar\":{\"outlinewidth\":0,\"ticks\":\"\"},\"colorscale\":[[0.0,\"#0d0887\"],[0.1111111111111111,\"#46039f\"],[0.2222222222222222,\"#7201a8\"],[0.3333333333333333,\"#9c179e\"],[0.4444444444444444,\"#bd3786\"],[0.5555555555555556,\"#d8576b\"],[0.6666666666666666,\"#ed7953\"],[0.7777777777777778,\"#fb9f3a\"],[0.8888888888888888,\"#fdca26\"],[1.0,\"#f0f921\"]],\"type\":\"contour\"}],\"heatmapgl\":[{\"colorbar\":{\"outlinewidth\":0,\"ticks\":\"\"},\"colorscale\":[[0.0,\"#0d0887\"],[0.1111111111111111,\"#46039f\"],[0.2222222222222222,\"#7201a8\"],[0.3333333333333333,\"#9c179e\"],[0.4444444444444444,\"#bd3786\"],[0.5555555555555556,\"#d8576b\"],[0.6666666666666666,\"#ed7953\"],[0.7777777777777778,\"#fb9f3a\"],[0.8888888888888888,\"#fdca26\"],[1.0,\"#f0f921\"]],\"type\":\"heatmapgl\"}],\"heatmap\":[{\"colorbar\":{\"outlinewidth\":0,\"ticks\":\"\"},\"colorscale\":[[0.0,\"#0d0887\"],[0.1111111111111111,\"#46039f\"],[0.2222222222222222,\"#7201a8\"],[0.3333333333333333,\"#9c179e\"],[0.4444444444444444,\"#bd3786\"],[0.5555555555555556,\"#d8576b\"],[0.6666666666666666,\"#ed7953\"],[0.7777777777777778,\"#fb9f3a\"],[0.8888888888888888,\"#fdca26\"],[1.0,\"#f0f921\"]],\"type\":\"heatmap\"}],\"histogram2dcontour\":[{\"colorbar\":{\"outlinewidth\":0,\"ticks\":\"\"},\"colorscale\":[[0.0,\"#0d0887\"],[0.1111111111111111,\"#46039f\"],[0.2222222222222222,\"#7201a8\"],[0.3333333333333333,\"#9c179e\"],[0.4444444444444444,\"#bd3786\"],[0.5555555555555556,\"#d8576b\"],[0.6666666666666666,\"#ed7953\"],[0.7777777777777778,\"#fb9f3a\"],[0.8888888888888888,\"#fdca26\"],[1.0,\"#f0f921\"]],\"type\":\"histogram2dcontour\"}],\"histogram2d\":[{\"colorbar\":{\"outlinewidth\":0,\"ticks\":\"\"},\"colorscale\":[[0.0,\"#0d0887\"],[0.1111111111111111,\"#46039f\"],[0.2222222222222222,\"#7201a8\"],[0.3333333333333333,\"#9c179e\"],[0.4444444444444444,\"#bd3786\"],[0.5555555555555556,\"#d8576b\"],[0.6666666666666666,\"#ed7953\"],[0.7777777777777778,\"#fb9f3a\"],[0.8888888888888888,\"#fdca26\"],[1.0,\"#f0f921\"]],\"type\":\"histogram2d\"}],\"histogram\":[{\"marker\":{\"pattern\":{\"fillmode\":\"overlay\",\"size\":10,\"solidity\":0.2}},\"type\":\"histogram\"}],\"mesh3d\":[{\"colorbar\":{\"outlinewidth\":0,\"ticks\":\"\"},\"type\":\"mesh3d\"}],\"parcoords\":[{\"line\":{\"colorbar\":{\"outlinewidth\":0,\"ticks\":\"\"}},\"type\":\"parcoords\"}],\"pie\":[{\"automargin\":true,\"type\":\"pie\"}],\"scatter3d\":[{\"line\":{\"colorbar\":{\"outlinewidth\":0,\"ticks\":\"\"}},\"marker\":{\"colorbar\":{\"outlinewidth\":0,\"ticks\":\"\"}},\"type\":\"scatter3d\"}],\"scattercarpet\":[{\"marker\":{\"colorbar\":{\"outlinewidth\":0,\"ticks\":\"\"}},\"type\":\"scattercarpet\"}],\"scattergeo\":[{\"marker\":{\"colorbar\":{\"outlinewidth\":0,\"ticks\":\"\"}},\"type\":\"scattergeo\"}],\"scattergl\":[{\"marker\":{\"colorbar\":{\"outlinewidth\":0,\"ticks\":\"\"}},\"type\":\"scattergl\"}],\"scattermapbox\":[{\"marker\":{\"colorbar\":{\"outlinewidth\":0,\"ticks\":\"\"}},\"type\":\"scattermapbox\"}],\"scatterpolargl\":[{\"marker\":{\"colorbar\":{\"outlinewidth\":0,\"ticks\":\"\"}},\"type\":\"scatterpolargl\"}],\"scatterpolar\":[{\"marker\":{\"colorbar\":{\"outlinewidth\":0,\"ticks\":\"\"}},\"type\":\"scatterpolar\"}],\"scatter\":[{\"fillpattern\":{\"fillmode\":\"overlay\",\"size\":10,\"solidity\":0.2},\"type\":\"scatter\"}],\"scatterternary\":[{\"marker\":{\"colorbar\":{\"outlinewidth\":0,\"ticks\":\"\"}},\"type\":\"scatterternary\"}],\"surface\":[{\"colorbar\":{\"outlinewidth\":0,\"ticks\":\"\"},\"colorscale\":[[0.0,\"#0d0887\"],[0.1111111111111111,\"#46039f\"],[0.2222222222222222,\"#7201a8\"],[0.3333333333333333,\"#9c179e\"],[0.4444444444444444,\"#bd3786\"],[0.5555555555555556,\"#d8576b\"],[0.6666666666666666,\"#ed7953\"],[0.7777777777777778,\"#fb9f3a\"],[0.8888888888888888,\"#fdca26\"],[1.0,\"#f0f921\"]],\"type\":\"surface\"}],\"table\":[{\"cells\":{\"fill\":{\"color\":\"#EBF0F8\"},\"line\":{\"color\":\"white\"}},\"header\":{\"fill\":{\"color\":\"#C8D4E3\"},\"line\":{\"color\":\"white\"}},\"type\":\"table\"}]},\"layout\":{\"annotationdefaults\":{\"arrowcolor\":\"#2a3f5f\",\"arrowhead\":0,\"arrowwidth\":1},\"autotypenumbers\":\"strict\",\"coloraxis\":{\"colorbar\":{\"outlinewidth\":0,\"ticks\":\"\"}},\"colorscale\":{\"diverging\":[[0,\"#8e0152\"],[0.1,\"#c51b7d\"],[0.2,\"#de77ae\"],[0.3,\"#f1b6da\"],[0.4,\"#fde0ef\"],[0.5,\"#f7f7f7\"],[0.6,\"#e6f5d0\"],[0.7,\"#b8e186\"],[0.8,\"#7fbc41\"],[0.9,\"#4d9221\"],[1,\"#276419\"]],\"sequential\":[[0.0,\"#0d0887\"],[0.1111111111111111,\"#46039f\"],[0.2222222222222222,\"#7201a8\"],[0.3333333333333333,\"#9c179e\"],[0.4444444444444444,\"#bd3786\"],[0.5555555555555556,\"#d8576b\"],[0.6666666666666666,\"#ed7953\"],[0.7777777777777778,\"#fb9f3a\"],[0.8888888888888888,\"#fdca26\"],[1.0,\"#f0f921\"]],\"sequentialminus\":[[0.0,\"#0d0887\"],[0.1111111111111111,\"#46039f\"],[0.2222222222222222,\"#7201a8\"],[0.3333333333333333,\"#9c179e\"],[0.4444444444444444,\"#bd3786\"],[0.5555555555555556,\"#d8576b\"],[0.6666666666666666,\"#ed7953\"],[0.7777777777777778,\"#fb9f3a\"],[0.8888888888888888,\"#fdca26\"],[1.0,\"#f0f921\"]]},\"colorway\":[\"#636efa\",\"#EF553B\",\"#00cc96\",\"#ab63fa\",\"#FFA15A\",\"#19d3f3\",\"#FF6692\",\"#B6E880\",\"#FF97FF\",\"#FECB52\"],\"font\":{\"color\":\"#2a3f5f\"},\"geo\":{\"bgcolor\":\"white\",\"lakecolor\":\"white\",\"landcolor\":\"#E5ECF6\",\"showlakes\":true,\"showland\":true,\"subunitcolor\":\"white\"},\"hoverlabel\":{\"align\":\"left\"},\"hovermode\":\"closest\",\"mapbox\":{\"style\":\"light\"},\"paper_bgcolor\":\"white\",\"plot_bgcolor\":\"#E5ECF6\",\"polar\":{\"angularaxis\":{\"gridcolor\":\"white\",\"linecolor\":\"white\",\"ticks\":\"\"},\"bgcolor\":\"#E5ECF6\",\"radialaxis\":{\"gridcolor\":\"white\",\"linecolor\":\"white\",\"ticks\":\"\"}},\"scene\":{\"xaxis\":{\"backgroundcolor\":\"#E5ECF6\",\"gridcolor\":\"white\",\"gridwidth\":2,\"linecolor\":\"white\",\"showbackground\":true,\"ticks\":\"\",\"zerolinecolor\":\"white\"},\"yaxis\":{\"backgroundcolor\":\"#E5ECF6\",\"gridcolor\":\"white\",\"gridwidth\":2,\"linecolor\":\"white\",\"showbackground\":true,\"ticks\":\"\",\"zerolinecolor\":\"white\"},\"zaxis\":{\"backgroundcolor\":\"#E5ECF6\",\"gridcolor\":\"white\",\"gridwidth\":2,\"linecolor\":\"white\",\"showbackground\":true,\"ticks\":\"\",\"zerolinecolor\":\"white\"}},\"shapedefaults\":{\"line\":{\"color\":\"#2a3f5f\"}},\"ternary\":{\"aaxis\":{\"gridcolor\":\"white\",\"linecolor\":\"white\",\"ticks\":\"\"},\"baxis\":{\"gridcolor\":\"white\",\"linecolor\":\"white\",\"ticks\":\"\"},\"bgcolor\":\"#E5ECF6\",\"caxis\":{\"gridcolor\":\"white\",\"linecolor\":\"white\",\"ticks\":\"\"}},\"title\":{\"x\":0.05},\"xaxis\":{\"automargin\":true,\"gridcolor\":\"white\",\"linecolor\":\"white\",\"ticks\":\"\",\"title\":{\"standoff\":15},\"zerolinecolor\":\"white\",\"zerolinewidth\":2},\"yaxis\":{\"automargin\":true,\"gridcolor\":\"white\",\"linecolor\":\"white\",\"ticks\":\"\",\"title\":{\"standoff\":15},\"zerolinecolor\":\"white\",\"zerolinewidth\":2}}},\"title\":{\"text\":\"Train and Test Loss during training\"},\"xaxis\":{\"title\":{\"text\":\"Epoch number\"}},\"yaxis\":{\"title\":{\"text\":\"Loss\"}}},                        {\"responsive\": true}                    ).then(function(){\n",
       "                            \n",
       "var gd = document.getElementById('6d554354-79ee-4750-a722-3d80a3e04bc5');\n",
       "var x = new MutationObserver(function (mutations, observer) {{\n",
       "        var display = window.getComputedStyle(gd).display;\n",
       "        if (!display || display === 'none') {{\n",
       "            console.log([gd, 'removed!']);\n",
       "            Plotly.purge(gd);\n",
       "            observer.disconnect();\n",
       "        }}\n",
       "}});\n",
       "\n",
       "// Listen for the removal of the full notebook cells\n",
       "var notebookContainer = gd.closest('#notebook-container');\n",
       "if (notebookContainer) {{\n",
       "    x.observe(notebookContainer, {childList: true});\n",
       "}}\n",
       "\n",
       "// Listen for the clearing of the current output cell\n",
       "var outputEl = gd.closest('.output');\n",
       "if (outputEl) {{\n",
       "    x.observe(outputEl, {childList: true});\n",
       "}}\n",
       "\n",
       "                        })                };                });            </script>        </div>"
      ]
     },
     "metadata": {},
     "output_type": "display_data"
    }
   ],
   "source": [
    "trace1 = go.Scatter(\n",
    "    x = np.arange(0, len(history.history['loss']), 1),\n",
    "    y = history.history['loss'],\n",
    "    mode = 'lines',\n",
    "    name = 'Train loss',\n",
    "    line = dict(color=('rgb(66, 244, 155)'), width=2, dash='dash')\n",
    ")\n",
    "trace2 = go.Scatter(\n",
    "    x = np.arange(0, len(history.history['val_loss']), 1),\n",
    "    y = history.history['val_loss'],\n",
    "    mode = 'lines',\n",
    "    name = 'Test loss',\n",
    "    line = dict(color=('rgb(244, 146, 65)'), width=2)\n",
    ")\n",
    "\n",
    "data = [trace1, trace2]\n",
    "layout = dict(title = 'Train and Test Loss during training', \n",
    "              xaxis = dict(title = 'Epoch number'), yaxis = dict(title = 'Loss'))\n",
    "fig = dict(data=data, layout=layout)\n",
    "py.iplot(fig, filename='training_process')"
   ]
  },
  {
   "cell_type": "markdown",
   "metadata": {
    "_cell_guid": "5a9c8869-97da-49d4-8bda-0a2844359a68",
    "_uuid": "28ba5854e7e9ff7449a11e8ac809bd078fc52101"
   },
   "source": [
    "We trained our model. You can see that it has good performance even after several iterations. On the plot above, we compare the Train and Test loss on each iteration of the training process. We can see, that after some iterations train and test loss become very similar, which is a good sign (this means we are not overfitting the train set). \n",
    "Below, we use our model to **predict labels for the test set**. Then we inverse original scale of our data. You can see a comparison of true and predicted labels on the chart below. It looks like our model gives good results (lines are very similar)!"
   ]
  },
  {
   "cell_type": "code",
   "execution_count": 18,
   "metadata": {
    "_cell_guid": "f45ff786-e272-4c0b-8327-db25cde237fb",
    "_uuid": "e7245ec9aab788530d749b3855424cc154e1dc59"
   },
   "outputs": [
    {
     "name": "stdout",
     "output_type": "stream",
     "text": [
      "2/2 [==============================] - 1s 9ms/step\n"
     ]
    }
   ],
   "source": [
    "# add one additional data point to align shapes of the predictions and true labels\n",
    "X_test = np.append(X_test, scaler.transform(working_data.iloc[[[-1][0]]]))\n",
    "X_test = np.reshape(X_test, (len(X_test), 1, 1))\n",
    "\n",
    "# get predictions and then make some transformations to be able to calculate RMSE properly in USD\n",
    "prediction = model.predict(X_test)\n",
    "prediction_inverse = scaler.inverse_transform(prediction.reshape(-1, 1))\n",
    "Y_test_inverse = scaler.inverse_transform(Y_test.reshape(-1, 1))\n",
    "prediction2_inverse = np.array(prediction_inverse[:,0][1:])\n",
    "Y_test2_inverse = np.array(Y_test_inverse[:,0])"
   ]
  },
  {
   "cell_type": "code",
   "execution_count": 19,
   "metadata": {
    "_cell_guid": "136cbe49-8e76-4149-afbe-1e3d19ed23d1",
    "_uuid": "5b07c4ceb60eac5e125580cd41db26191c4695cf"
   },
   "outputs": [
    {
     "data": {
      "application/vnd.plotly.v1+json": {
       "config": {
        "linkText": "Export to plot.ly",
        "plotlyServerURL": "https://plot.ly",
        "showLink": false
       },
       "data": [
        {
         "hoverlabel": {
          "namelength": -1
         },
         "line": {
          "color": "rgb(244, 146, 65)",
          "width": 2
         },
         "mode": "lines",
         "name": "Predicted price",
         "type": "scatter",
         "x": [
          0,
          1,
          2,
          3,
          4,
          5,
          6,
          7,
          8,
          9,
          10,
          11,
          12,
          13,
          14,
          15,
          16,
          17,
          18,
          19,
          20,
          21,
          22,
          23,
          24,
          25,
          26,
          27,
          28,
          29,
          30,
          31,
          32,
          33,
          34,
          35,
          36,
          37,
          38,
          39,
          40,
          41,
          42,
          43,
          44,
          45,
          46,
          47,
          48,
          49,
          50,
          51,
          52,
          53,
          54,
          55,
          56,
          57,
          58
         ],
         "y": [
          34218.5625,
          35255.67578125,
          37177.38671875,
          38182.3046875,
          38274.27734375,
          40551.046875,
          39400.1484375,
          41998.4453125,
          47791.31640625,
          46851.62890625,
          47353.734375,
          48767.96484375,
          48417.49609375,
          49829.64453125,
          49043.53515625,
          50090.48046875,
          52300.45703125,
          53349.4375,
          54626.8359375,
          58057.71484375,
          58888.23046875,
          56373.4375,
          50222.359375,
          51109.78515625,
          51307.37109375,
          47760.984375,
          48264.81640625,
          45813.69140625,
          48808.5234375,
          49847.55078125,
          51782.1875,
          50680.5234375,
          48889.4921875,
          49585.6796875,
          51556.36328125,
          52176.78125,
          55590.7421875,
          57091.82421875,
          58059.12109375,
          58656.8984375,
          60792.47265625,
          62582.734375,
          59392.515625,
          57053.50390625,
          57935.53125,
          60434.96875,
          60231.05078125,
          60767.765625,
          59181.71484375,
          58614.359375,
          56368.1328125,
          56821.03125,
          53594.28125,
          54795.62109375,
          56895.74609375,
          57585.0078125,
          58751.28515625,
          60299.5625,
          60751.0859375
         ]
        },
        {
         "line": {
          "color": "rgb(66, 244, 155)",
          "width": 2
         },
         "mode": "lines",
         "name": "True price",
         "type": "scatter",
         "x": [
          0,
          1,
          2,
          3,
          4,
          5,
          6,
          7,
          8,
          9,
          10,
          11,
          12,
          13,
          14,
          15,
          16,
          17,
          18,
          19,
          20,
          21,
          22,
          23,
          24,
          25,
          26,
          27,
          28,
          29,
          30,
          31,
          32,
          33,
          34,
          35,
          36,
          37,
          38,
          39,
          40,
          41,
          42,
          43,
          44,
          45,
          46,
          47,
          48,
          49,
          50,
          51,
          52,
          53,
          54,
          55,
          56,
          57,
          58
         ],
         "y": [
          33705.97519064722,
          34713.69640010833,
          36573.09481030625,
          37541.54813242222,
          37630.04921400487,
          39814.356554572616,
          38711.774555249474,
          41196.61444486648,
          46684.4908495625,
          45798.7337153625,
          46272.21566854444,
          47603.41542011806,
          47273.849919144544,
          48600.491518490235,
          47862.39794598194,
          48845.16600342639,
          50913.92413875069,
          51893.31118121875,
          53083.8791087993,
          56271.28853767917,
          57040.825943830445,
          54708.31202510764,
          48968.83794590833,
          49800.28486888125,
          49985.23481495344,
          46655.92004851875,
          47130.20806015889,
          44818.447552103615,
          47641.53689948158,
          48617.289320901386,
          50429.449015790684,
          49398.25039857084,
          47717.64330027986,
          48371.543537970036,
          50218.21680438112,
          50798.354212407234,
          53980.84726167916,
          55375.366241257994,
          56272.596972013904,
          56826.56003304931,
          58802.60156770642,
          60455.844831486414,
          57507.73450910987,
          55339.80479183195,
          56158.01731986032,
          58472.11732155981,
          58283.54799432522,
          58779.76938655648,
          57312.598536458274,
          56787.14842211057,
          54703.38774047083,
          55123.99385491754,
          52121.68411029951,
          53241.037488505215,
          55193.35725955904,
          55832.95882390712,
          56913.993819261836,
          58346.91226829547,
          58764.349363
         ]
        }
       ],
       "layout": {
        "autosize": true,
        "template": {
         "data": {
          "bar": [
           {
            "error_x": {
             "color": "#2a3f5f"
            },
            "error_y": {
             "color": "#2a3f5f"
            },
            "marker": {
             "line": {
              "color": "#E5ECF6",
              "width": 0.5
             },
             "pattern": {
              "fillmode": "overlay",
              "size": 10,
              "solidity": 0.2
             }
            },
            "type": "bar"
           }
          ],
          "barpolar": [
           {
            "marker": {
             "line": {
              "color": "#E5ECF6",
              "width": 0.5
             },
             "pattern": {
              "fillmode": "overlay",
              "size": 10,
              "solidity": 0.2
             }
            },
            "type": "barpolar"
           }
          ],
          "carpet": [
           {
            "aaxis": {
             "endlinecolor": "#2a3f5f",
             "gridcolor": "white",
             "linecolor": "white",
             "minorgridcolor": "white",
             "startlinecolor": "#2a3f5f"
            },
            "baxis": {
             "endlinecolor": "#2a3f5f",
             "gridcolor": "white",
             "linecolor": "white",
             "minorgridcolor": "white",
             "startlinecolor": "#2a3f5f"
            },
            "type": "carpet"
           }
          ],
          "choropleth": [
           {
            "colorbar": {
             "outlinewidth": 0,
             "ticks": ""
            },
            "type": "choropleth"
           }
          ],
          "contour": [
           {
            "colorbar": {
             "outlinewidth": 0,
             "ticks": ""
            },
            "colorscale": [
             [
              0,
              "#0d0887"
             ],
             [
              0.1111111111111111,
              "#46039f"
             ],
             [
              0.2222222222222222,
              "#7201a8"
             ],
             [
              0.3333333333333333,
              "#9c179e"
             ],
             [
              0.4444444444444444,
              "#bd3786"
             ],
             [
              0.5555555555555556,
              "#d8576b"
             ],
             [
              0.6666666666666666,
              "#ed7953"
             ],
             [
              0.7777777777777778,
              "#fb9f3a"
             ],
             [
              0.8888888888888888,
              "#fdca26"
             ],
             [
              1,
              "#f0f921"
             ]
            ],
            "type": "contour"
           }
          ],
          "contourcarpet": [
           {
            "colorbar": {
             "outlinewidth": 0,
             "ticks": ""
            },
            "type": "contourcarpet"
           }
          ],
          "heatmap": [
           {
            "colorbar": {
             "outlinewidth": 0,
             "ticks": ""
            },
            "colorscale": [
             [
              0,
              "#0d0887"
             ],
             [
              0.1111111111111111,
              "#46039f"
             ],
             [
              0.2222222222222222,
              "#7201a8"
             ],
             [
              0.3333333333333333,
              "#9c179e"
             ],
             [
              0.4444444444444444,
              "#bd3786"
             ],
             [
              0.5555555555555556,
              "#d8576b"
             ],
             [
              0.6666666666666666,
              "#ed7953"
             ],
             [
              0.7777777777777778,
              "#fb9f3a"
             ],
             [
              0.8888888888888888,
              "#fdca26"
             ],
             [
              1,
              "#f0f921"
             ]
            ],
            "type": "heatmap"
           }
          ],
          "heatmapgl": [
           {
            "colorbar": {
             "outlinewidth": 0,
             "ticks": ""
            },
            "colorscale": [
             [
              0,
              "#0d0887"
             ],
             [
              0.1111111111111111,
              "#46039f"
             ],
             [
              0.2222222222222222,
              "#7201a8"
             ],
             [
              0.3333333333333333,
              "#9c179e"
             ],
             [
              0.4444444444444444,
              "#bd3786"
             ],
             [
              0.5555555555555556,
              "#d8576b"
             ],
             [
              0.6666666666666666,
              "#ed7953"
             ],
             [
              0.7777777777777778,
              "#fb9f3a"
             ],
             [
              0.8888888888888888,
              "#fdca26"
             ],
             [
              1,
              "#f0f921"
             ]
            ],
            "type": "heatmapgl"
           }
          ],
          "histogram": [
           {
            "marker": {
             "pattern": {
              "fillmode": "overlay",
              "size": 10,
              "solidity": 0.2
             }
            },
            "type": "histogram"
           }
          ],
          "histogram2d": [
           {
            "colorbar": {
             "outlinewidth": 0,
             "ticks": ""
            },
            "colorscale": [
             [
              0,
              "#0d0887"
             ],
             [
              0.1111111111111111,
              "#46039f"
             ],
             [
              0.2222222222222222,
              "#7201a8"
             ],
             [
              0.3333333333333333,
              "#9c179e"
             ],
             [
              0.4444444444444444,
              "#bd3786"
             ],
             [
              0.5555555555555556,
              "#d8576b"
             ],
             [
              0.6666666666666666,
              "#ed7953"
             ],
             [
              0.7777777777777778,
              "#fb9f3a"
             ],
             [
              0.8888888888888888,
              "#fdca26"
             ],
             [
              1,
              "#f0f921"
             ]
            ],
            "type": "histogram2d"
           }
          ],
          "histogram2dcontour": [
           {
            "colorbar": {
             "outlinewidth": 0,
             "ticks": ""
            },
            "colorscale": [
             [
              0,
              "#0d0887"
             ],
             [
              0.1111111111111111,
              "#46039f"
             ],
             [
              0.2222222222222222,
              "#7201a8"
             ],
             [
              0.3333333333333333,
              "#9c179e"
             ],
             [
              0.4444444444444444,
              "#bd3786"
             ],
             [
              0.5555555555555556,
              "#d8576b"
             ],
             [
              0.6666666666666666,
              "#ed7953"
             ],
             [
              0.7777777777777778,
              "#fb9f3a"
             ],
             [
              0.8888888888888888,
              "#fdca26"
             ],
             [
              1,
              "#f0f921"
             ]
            ],
            "type": "histogram2dcontour"
           }
          ],
          "mesh3d": [
           {
            "colorbar": {
             "outlinewidth": 0,
             "ticks": ""
            },
            "type": "mesh3d"
           }
          ],
          "parcoords": [
           {
            "line": {
             "colorbar": {
              "outlinewidth": 0,
              "ticks": ""
             }
            },
            "type": "parcoords"
           }
          ],
          "pie": [
           {
            "automargin": true,
            "type": "pie"
           }
          ],
          "scatter": [
           {
            "fillpattern": {
             "fillmode": "overlay",
             "size": 10,
             "solidity": 0.2
            },
            "type": "scatter"
           }
          ],
          "scatter3d": [
           {
            "line": {
             "colorbar": {
              "outlinewidth": 0,
              "ticks": ""
             }
            },
            "marker": {
             "colorbar": {
              "outlinewidth": 0,
              "ticks": ""
             }
            },
            "type": "scatter3d"
           }
          ],
          "scattercarpet": [
           {
            "marker": {
             "colorbar": {
              "outlinewidth": 0,
              "ticks": ""
             }
            },
            "type": "scattercarpet"
           }
          ],
          "scattergeo": [
           {
            "marker": {
             "colorbar": {
              "outlinewidth": 0,
              "ticks": ""
             }
            },
            "type": "scattergeo"
           }
          ],
          "scattergl": [
           {
            "marker": {
             "colorbar": {
              "outlinewidth": 0,
              "ticks": ""
             }
            },
            "type": "scattergl"
           }
          ],
          "scattermapbox": [
           {
            "marker": {
             "colorbar": {
              "outlinewidth": 0,
              "ticks": ""
             }
            },
            "type": "scattermapbox"
           }
          ],
          "scatterpolar": [
           {
            "marker": {
             "colorbar": {
              "outlinewidth": 0,
              "ticks": ""
             }
            },
            "type": "scatterpolar"
           }
          ],
          "scatterpolargl": [
           {
            "marker": {
             "colorbar": {
              "outlinewidth": 0,
              "ticks": ""
             }
            },
            "type": "scatterpolargl"
           }
          ],
          "scatterternary": [
           {
            "marker": {
             "colorbar": {
              "outlinewidth": 0,
              "ticks": ""
             }
            },
            "type": "scatterternary"
           }
          ],
          "surface": [
           {
            "colorbar": {
             "outlinewidth": 0,
             "ticks": ""
            },
            "colorscale": [
             [
              0,
              "#0d0887"
             ],
             [
              0.1111111111111111,
              "#46039f"
             ],
             [
              0.2222222222222222,
              "#7201a8"
             ],
             [
              0.3333333333333333,
              "#9c179e"
             ],
             [
              0.4444444444444444,
              "#bd3786"
             ],
             [
              0.5555555555555556,
              "#d8576b"
             ],
             [
              0.6666666666666666,
              "#ed7953"
             ],
             [
              0.7777777777777778,
              "#fb9f3a"
             ],
             [
              0.8888888888888888,
              "#fdca26"
             ],
             [
              1,
              "#f0f921"
             ]
            ],
            "type": "surface"
           }
          ],
          "table": [
           {
            "cells": {
             "fill": {
              "color": "#EBF0F8"
             },
             "line": {
              "color": "white"
             }
            },
            "header": {
             "fill": {
              "color": "#C8D4E3"
             },
             "line": {
              "color": "white"
             }
            },
            "type": "table"
           }
          ]
         },
         "layout": {
          "annotationdefaults": {
           "arrowcolor": "#2a3f5f",
           "arrowhead": 0,
           "arrowwidth": 1
          },
          "autotypenumbers": "strict",
          "coloraxis": {
           "colorbar": {
            "outlinewidth": 0,
            "ticks": ""
           }
          },
          "colorscale": {
           "diverging": [
            [
             0,
             "#8e0152"
            ],
            [
             0.1,
             "#c51b7d"
            ],
            [
             0.2,
             "#de77ae"
            ],
            [
             0.3,
             "#f1b6da"
            ],
            [
             0.4,
             "#fde0ef"
            ],
            [
             0.5,
             "#f7f7f7"
            ],
            [
             0.6,
             "#e6f5d0"
            ],
            [
             0.7,
             "#b8e186"
            ],
            [
             0.8,
             "#7fbc41"
            ],
            [
             0.9,
             "#4d9221"
            ],
            [
             1,
             "#276419"
            ]
           ],
           "sequential": [
            [
             0,
             "#0d0887"
            ],
            [
             0.1111111111111111,
             "#46039f"
            ],
            [
             0.2222222222222222,
             "#7201a8"
            ],
            [
             0.3333333333333333,
             "#9c179e"
            ],
            [
             0.4444444444444444,
             "#bd3786"
            ],
            [
             0.5555555555555556,
             "#d8576b"
            ],
            [
             0.6666666666666666,
             "#ed7953"
            ],
            [
             0.7777777777777778,
             "#fb9f3a"
            ],
            [
             0.8888888888888888,
             "#fdca26"
            ],
            [
             1,
             "#f0f921"
            ]
           ],
           "sequentialminus": [
            [
             0,
             "#0d0887"
            ],
            [
             0.1111111111111111,
             "#46039f"
            ],
            [
             0.2222222222222222,
             "#7201a8"
            ],
            [
             0.3333333333333333,
             "#9c179e"
            ],
            [
             0.4444444444444444,
             "#bd3786"
            ],
            [
             0.5555555555555556,
             "#d8576b"
            ],
            [
             0.6666666666666666,
             "#ed7953"
            ],
            [
             0.7777777777777778,
             "#fb9f3a"
            ],
            [
             0.8888888888888888,
             "#fdca26"
            ],
            [
             1,
             "#f0f921"
            ]
           ]
          },
          "colorway": [
           "#636efa",
           "#EF553B",
           "#00cc96",
           "#ab63fa",
           "#FFA15A",
           "#19d3f3",
           "#FF6692",
           "#B6E880",
           "#FF97FF",
           "#FECB52"
          ],
          "font": {
           "color": "#2a3f5f"
          },
          "geo": {
           "bgcolor": "white",
           "lakecolor": "white",
           "landcolor": "#E5ECF6",
           "showlakes": true,
           "showland": true,
           "subunitcolor": "white"
          },
          "hoverlabel": {
           "align": "left"
          },
          "hovermode": "closest",
          "mapbox": {
           "style": "light"
          },
          "paper_bgcolor": "white",
          "plot_bgcolor": "#E5ECF6",
          "polar": {
           "angularaxis": {
            "gridcolor": "white",
            "linecolor": "white",
            "ticks": ""
           },
           "bgcolor": "#E5ECF6",
           "radialaxis": {
            "gridcolor": "white",
            "linecolor": "white",
            "ticks": ""
           }
          },
          "scene": {
           "xaxis": {
            "backgroundcolor": "#E5ECF6",
            "gridcolor": "white",
            "gridwidth": 2,
            "linecolor": "white",
            "showbackground": true,
            "ticks": "",
            "zerolinecolor": "white"
           },
           "yaxis": {
            "backgroundcolor": "#E5ECF6",
            "gridcolor": "white",
            "gridwidth": 2,
            "linecolor": "white",
            "showbackground": true,
            "ticks": "",
            "zerolinecolor": "white"
           },
           "zaxis": {
            "backgroundcolor": "#E5ECF6",
            "gridcolor": "white",
            "gridwidth": 2,
            "linecolor": "white",
            "showbackground": true,
            "ticks": "",
            "zerolinecolor": "white"
           }
          },
          "shapedefaults": {
           "line": {
            "color": "#2a3f5f"
           }
          },
          "ternary": {
           "aaxis": {
            "gridcolor": "white",
            "linecolor": "white",
            "ticks": ""
           },
           "baxis": {
            "gridcolor": "white",
            "linecolor": "white",
            "ticks": ""
           },
           "bgcolor": "#E5ECF6",
           "caxis": {
            "gridcolor": "white",
            "linecolor": "white",
            "ticks": ""
           }
          },
          "title": {
           "x": 0.05
          },
          "xaxis": {
           "automargin": true,
           "gridcolor": "white",
           "linecolor": "white",
           "ticks": "",
           "title": {
            "standoff": 15
           },
           "zerolinecolor": "white",
           "zerolinewidth": 2
          },
          "yaxis": {
           "automargin": true,
           "gridcolor": "white",
           "linecolor": "white",
           "ticks": "",
           "title": {
            "standoff": 15
           },
           "zerolinecolor": "white",
           "zerolinewidth": 2
          }
         }
        },
        "title": {
         "text": "Comparison of true prices (on the test dataset) with prices our model predicted"
        },
        "xaxis": {
         "autorange": true,
         "range": [
          0,
          58
         ],
         "title": {
          "text": "Day number"
         },
         "type": "linear"
        },
        "yaxis": {
         "autorange": true,
         "range": [
          32101.710791516514,
          64186.99877413071
         ],
         "title": {
          "text": "Price, USD"
         },
         "type": "linear"
        }
       }
      },
      "text/html": [
       "<div>                            <div id=\"2c2eaeb6-5463-4e3e-9588-985bfc7910d5\" class=\"plotly-graph-div\" style=\"height:525px; width:100%;\"></div>            <script type=\"text/javascript\">                require([\"plotly\"], function(Plotly) {                    window.PLOTLYENV=window.PLOTLYENV || {};                                    if (document.getElementById(\"2c2eaeb6-5463-4e3e-9588-985bfc7910d5\")) {                    Plotly.newPlot(                        \"2c2eaeb6-5463-4e3e-9588-985bfc7910d5\",                        [{\"hoverlabel\":{\"namelength\":-1},\"line\":{\"color\":\"rgb(244, 146, 65)\",\"width\":2},\"mode\":\"lines\",\"name\":\"Predicted price\",\"x\":[0,1,2,3,4,5,6,7,8,9,10,11,12,13,14,15,16,17,18,19,20,21,22,23,24,25,26,27,28,29,30,31,32,33,34,35,36,37,38,39,40,41,42,43,44,45,46,47,48,49,50,51,52,53,54,55,56,57,58],\"y\":[34218.5625,35255.67578125,37177.38671875,38182.3046875,38274.27734375,40551.046875,39400.1484375,41998.4453125,47791.31640625,46851.62890625,47353.734375,48767.96484375,48417.49609375,49829.64453125,49043.53515625,50090.48046875,52300.45703125,53349.4375,54626.8359375,58057.71484375,58888.23046875,56373.4375,50222.359375,51109.78515625,51307.37109375,47760.984375,48264.81640625,45813.69140625,48808.5234375,49847.55078125,51782.1875,50680.5234375,48889.4921875,49585.6796875,51556.36328125,52176.78125,55590.7421875,57091.82421875,58059.12109375,58656.8984375,60792.47265625,62582.734375,59392.515625,57053.50390625,57935.53125,60434.96875,60231.05078125,60767.765625,59181.71484375,58614.359375,56368.1328125,56821.03125,53594.28125,54795.62109375,56895.74609375,57585.0078125,58751.28515625,60299.5625,60751.0859375],\"type\":\"scatter\"},{\"line\":{\"color\":\"rgb(66, 244, 155)\",\"width\":2},\"mode\":\"lines\",\"name\":\"True price\",\"x\":[0,1,2,3,4,5,6,7,8,9,10,11,12,13,14,15,16,17,18,19,20,21,22,23,24,25,26,27,28,29,30,31,32,33,34,35,36,37,38,39,40,41,42,43,44,45,46,47,48,49,50,51,52,53,54,55,56,57,58],\"y\":[33705.97519064722,34713.69640010833,36573.09481030625,37541.54813242222,37630.04921400487,39814.356554572616,38711.774555249474,41196.61444486648,46684.4908495625,45798.7337153625,46272.21566854444,47603.41542011806,47273.849919144544,48600.491518490235,47862.39794598194,48845.16600342639,50913.92413875069,51893.31118121875,53083.8791087993,56271.28853767917,57040.825943830445,54708.31202510764,48968.83794590833,49800.28486888125,49985.23481495344,46655.92004851875,47130.20806015889,44818.447552103615,47641.53689948158,48617.289320901386,50429.449015790684,49398.25039857084,47717.64330027986,48371.543537970036,50218.21680438112,50798.354212407234,53980.84726167916,55375.366241257994,56272.596972013904,56826.56003304931,58802.60156770642,60455.844831486414,57507.73450910987,55339.80479183195,56158.01731986032,58472.11732155981,58283.54799432522,58779.76938655648,57312.598536458274,56787.14842211057,54703.38774047083,55123.99385491754,52121.68411029951,53241.037488505215,55193.35725955904,55832.95882390712,56913.993819261836,58346.91226829547,58764.349363],\"type\":\"scatter\"}],                        {\"template\":{\"data\":{\"barpolar\":[{\"marker\":{\"line\":{\"color\":\"#E5ECF6\",\"width\":0.5},\"pattern\":{\"fillmode\":\"overlay\",\"size\":10,\"solidity\":0.2}},\"type\":\"barpolar\"}],\"bar\":[{\"error_x\":{\"color\":\"#2a3f5f\"},\"error_y\":{\"color\":\"#2a3f5f\"},\"marker\":{\"line\":{\"color\":\"#E5ECF6\",\"width\":0.5},\"pattern\":{\"fillmode\":\"overlay\",\"size\":10,\"solidity\":0.2}},\"type\":\"bar\"}],\"carpet\":[{\"aaxis\":{\"endlinecolor\":\"#2a3f5f\",\"gridcolor\":\"white\",\"linecolor\":\"white\",\"minorgridcolor\":\"white\",\"startlinecolor\":\"#2a3f5f\"},\"baxis\":{\"endlinecolor\":\"#2a3f5f\",\"gridcolor\":\"white\",\"linecolor\":\"white\",\"minorgridcolor\":\"white\",\"startlinecolor\":\"#2a3f5f\"},\"type\":\"carpet\"}],\"choropleth\":[{\"colorbar\":{\"outlinewidth\":0,\"ticks\":\"\"},\"type\":\"choropleth\"}],\"contourcarpet\":[{\"colorbar\":{\"outlinewidth\":0,\"ticks\":\"\"},\"type\":\"contourcarpet\"}],\"contour\":[{\"colorbar\":{\"outlinewidth\":0,\"ticks\":\"\"},\"colorscale\":[[0.0,\"#0d0887\"],[0.1111111111111111,\"#46039f\"],[0.2222222222222222,\"#7201a8\"],[0.3333333333333333,\"#9c179e\"],[0.4444444444444444,\"#bd3786\"],[0.5555555555555556,\"#d8576b\"],[0.6666666666666666,\"#ed7953\"],[0.7777777777777778,\"#fb9f3a\"],[0.8888888888888888,\"#fdca26\"],[1.0,\"#f0f921\"]],\"type\":\"contour\"}],\"heatmapgl\":[{\"colorbar\":{\"outlinewidth\":0,\"ticks\":\"\"},\"colorscale\":[[0.0,\"#0d0887\"],[0.1111111111111111,\"#46039f\"],[0.2222222222222222,\"#7201a8\"],[0.3333333333333333,\"#9c179e\"],[0.4444444444444444,\"#bd3786\"],[0.5555555555555556,\"#d8576b\"],[0.6666666666666666,\"#ed7953\"],[0.7777777777777778,\"#fb9f3a\"],[0.8888888888888888,\"#fdca26\"],[1.0,\"#f0f921\"]],\"type\":\"heatmapgl\"}],\"heatmap\":[{\"colorbar\":{\"outlinewidth\":0,\"ticks\":\"\"},\"colorscale\":[[0.0,\"#0d0887\"],[0.1111111111111111,\"#46039f\"],[0.2222222222222222,\"#7201a8\"],[0.3333333333333333,\"#9c179e\"],[0.4444444444444444,\"#bd3786\"],[0.5555555555555556,\"#d8576b\"],[0.6666666666666666,\"#ed7953\"],[0.7777777777777778,\"#fb9f3a\"],[0.8888888888888888,\"#fdca26\"],[1.0,\"#f0f921\"]],\"type\":\"heatmap\"}],\"histogram2dcontour\":[{\"colorbar\":{\"outlinewidth\":0,\"ticks\":\"\"},\"colorscale\":[[0.0,\"#0d0887\"],[0.1111111111111111,\"#46039f\"],[0.2222222222222222,\"#7201a8\"],[0.3333333333333333,\"#9c179e\"],[0.4444444444444444,\"#bd3786\"],[0.5555555555555556,\"#d8576b\"],[0.6666666666666666,\"#ed7953\"],[0.7777777777777778,\"#fb9f3a\"],[0.8888888888888888,\"#fdca26\"],[1.0,\"#f0f921\"]],\"type\":\"histogram2dcontour\"}],\"histogram2d\":[{\"colorbar\":{\"outlinewidth\":0,\"ticks\":\"\"},\"colorscale\":[[0.0,\"#0d0887\"],[0.1111111111111111,\"#46039f\"],[0.2222222222222222,\"#7201a8\"],[0.3333333333333333,\"#9c179e\"],[0.4444444444444444,\"#bd3786\"],[0.5555555555555556,\"#d8576b\"],[0.6666666666666666,\"#ed7953\"],[0.7777777777777778,\"#fb9f3a\"],[0.8888888888888888,\"#fdca26\"],[1.0,\"#f0f921\"]],\"type\":\"histogram2d\"}],\"histogram\":[{\"marker\":{\"pattern\":{\"fillmode\":\"overlay\",\"size\":10,\"solidity\":0.2}},\"type\":\"histogram\"}],\"mesh3d\":[{\"colorbar\":{\"outlinewidth\":0,\"ticks\":\"\"},\"type\":\"mesh3d\"}],\"parcoords\":[{\"line\":{\"colorbar\":{\"outlinewidth\":0,\"ticks\":\"\"}},\"type\":\"parcoords\"}],\"pie\":[{\"automargin\":true,\"type\":\"pie\"}],\"scatter3d\":[{\"line\":{\"colorbar\":{\"outlinewidth\":0,\"ticks\":\"\"}},\"marker\":{\"colorbar\":{\"outlinewidth\":0,\"ticks\":\"\"}},\"type\":\"scatter3d\"}],\"scattercarpet\":[{\"marker\":{\"colorbar\":{\"outlinewidth\":0,\"ticks\":\"\"}},\"type\":\"scattercarpet\"}],\"scattergeo\":[{\"marker\":{\"colorbar\":{\"outlinewidth\":0,\"ticks\":\"\"}},\"type\":\"scattergeo\"}],\"scattergl\":[{\"marker\":{\"colorbar\":{\"outlinewidth\":0,\"ticks\":\"\"}},\"type\":\"scattergl\"}],\"scattermapbox\":[{\"marker\":{\"colorbar\":{\"outlinewidth\":0,\"ticks\":\"\"}},\"type\":\"scattermapbox\"}],\"scatterpolargl\":[{\"marker\":{\"colorbar\":{\"outlinewidth\":0,\"ticks\":\"\"}},\"type\":\"scatterpolargl\"}],\"scatterpolar\":[{\"marker\":{\"colorbar\":{\"outlinewidth\":0,\"ticks\":\"\"}},\"type\":\"scatterpolar\"}],\"scatter\":[{\"fillpattern\":{\"fillmode\":\"overlay\",\"size\":10,\"solidity\":0.2},\"type\":\"scatter\"}],\"scatterternary\":[{\"marker\":{\"colorbar\":{\"outlinewidth\":0,\"ticks\":\"\"}},\"type\":\"scatterternary\"}],\"surface\":[{\"colorbar\":{\"outlinewidth\":0,\"ticks\":\"\"},\"colorscale\":[[0.0,\"#0d0887\"],[0.1111111111111111,\"#46039f\"],[0.2222222222222222,\"#7201a8\"],[0.3333333333333333,\"#9c179e\"],[0.4444444444444444,\"#bd3786\"],[0.5555555555555556,\"#d8576b\"],[0.6666666666666666,\"#ed7953\"],[0.7777777777777778,\"#fb9f3a\"],[0.8888888888888888,\"#fdca26\"],[1.0,\"#f0f921\"]],\"type\":\"surface\"}],\"table\":[{\"cells\":{\"fill\":{\"color\":\"#EBF0F8\"},\"line\":{\"color\":\"white\"}},\"header\":{\"fill\":{\"color\":\"#C8D4E3\"},\"line\":{\"color\":\"white\"}},\"type\":\"table\"}]},\"layout\":{\"annotationdefaults\":{\"arrowcolor\":\"#2a3f5f\",\"arrowhead\":0,\"arrowwidth\":1},\"autotypenumbers\":\"strict\",\"coloraxis\":{\"colorbar\":{\"outlinewidth\":0,\"ticks\":\"\"}},\"colorscale\":{\"diverging\":[[0,\"#8e0152\"],[0.1,\"#c51b7d\"],[0.2,\"#de77ae\"],[0.3,\"#f1b6da\"],[0.4,\"#fde0ef\"],[0.5,\"#f7f7f7\"],[0.6,\"#e6f5d0\"],[0.7,\"#b8e186\"],[0.8,\"#7fbc41\"],[0.9,\"#4d9221\"],[1,\"#276419\"]],\"sequential\":[[0.0,\"#0d0887\"],[0.1111111111111111,\"#46039f\"],[0.2222222222222222,\"#7201a8\"],[0.3333333333333333,\"#9c179e\"],[0.4444444444444444,\"#bd3786\"],[0.5555555555555556,\"#d8576b\"],[0.6666666666666666,\"#ed7953\"],[0.7777777777777778,\"#fb9f3a\"],[0.8888888888888888,\"#fdca26\"],[1.0,\"#f0f921\"]],\"sequentialminus\":[[0.0,\"#0d0887\"],[0.1111111111111111,\"#46039f\"],[0.2222222222222222,\"#7201a8\"],[0.3333333333333333,\"#9c179e\"],[0.4444444444444444,\"#bd3786\"],[0.5555555555555556,\"#d8576b\"],[0.6666666666666666,\"#ed7953\"],[0.7777777777777778,\"#fb9f3a\"],[0.8888888888888888,\"#fdca26\"],[1.0,\"#f0f921\"]]},\"colorway\":[\"#636efa\",\"#EF553B\",\"#00cc96\",\"#ab63fa\",\"#FFA15A\",\"#19d3f3\",\"#FF6692\",\"#B6E880\",\"#FF97FF\",\"#FECB52\"],\"font\":{\"color\":\"#2a3f5f\"},\"geo\":{\"bgcolor\":\"white\",\"lakecolor\":\"white\",\"landcolor\":\"#E5ECF6\",\"showlakes\":true,\"showland\":true,\"subunitcolor\":\"white\"},\"hoverlabel\":{\"align\":\"left\"},\"hovermode\":\"closest\",\"mapbox\":{\"style\":\"light\"},\"paper_bgcolor\":\"white\",\"plot_bgcolor\":\"#E5ECF6\",\"polar\":{\"angularaxis\":{\"gridcolor\":\"white\",\"linecolor\":\"white\",\"ticks\":\"\"},\"bgcolor\":\"#E5ECF6\",\"radialaxis\":{\"gridcolor\":\"white\",\"linecolor\":\"white\",\"ticks\":\"\"}},\"scene\":{\"xaxis\":{\"backgroundcolor\":\"#E5ECF6\",\"gridcolor\":\"white\",\"gridwidth\":2,\"linecolor\":\"white\",\"showbackground\":true,\"ticks\":\"\",\"zerolinecolor\":\"white\"},\"yaxis\":{\"backgroundcolor\":\"#E5ECF6\",\"gridcolor\":\"white\",\"gridwidth\":2,\"linecolor\":\"white\",\"showbackground\":true,\"ticks\":\"\",\"zerolinecolor\":\"white\"},\"zaxis\":{\"backgroundcolor\":\"#E5ECF6\",\"gridcolor\":\"white\",\"gridwidth\":2,\"linecolor\":\"white\",\"showbackground\":true,\"ticks\":\"\",\"zerolinecolor\":\"white\"}},\"shapedefaults\":{\"line\":{\"color\":\"#2a3f5f\"}},\"ternary\":{\"aaxis\":{\"gridcolor\":\"white\",\"linecolor\":\"white\",\"ticks\":\"\"},\"baxis\":{\"gridcolor\":\"white\",\"linecolor\":\"white\",\"ticks\":\"\"},\"bgcolor\":\"#E5ECF6\",\"caxis\":{\"gridcolor\":\"white\",\"linecolor\":\"white\",\"ticks\":\"\"}},\"title\":{\"x\":0.05},\"xaxis\":{\"automargin\":true,\"gridcolor\":\"white\",\"linecolor\":\"white\",\"ticks\":\"\",\"title\":{\"standoff\":15},\"zerolinecolor\":\"white\",\"zerolinewidth\":2},\"yaxis\":{\"automargin\":true,\"gridcolor\":\"white\",\"linecolor\":\"white\",\"ticks\":\"\",\"title\":{\"standoff\":15},\"zerolinecolor\":\"white\",\"zerolinewidth\":2}}},\"title\":{\"text\":\"Comparison of true prices (on the test dataset) with prices our model predicted\"},\"xaxis\":{\"title\":{\"text\":\"Day number\"}},\"yaxis\":{\"title\":{\"text\":\"Price, USD\"}}},                        {\"responsive\": true}                    ).then(function(){\n",
       "                            \n",
       "var gd = document.getElementById('2c2eaeb6-5463-4e3e-9588-985bfc7910d5');\n",
       "var x = new MutationObserver(function (mutations, observer) {{\n",
       "        var display = window.getComputedStyle(gd).display;\n",
       "        if (!display || display === 'none') {{\n",
       "            console.log([gd, 'removed!']);\n",
       "            Plotly.purge(gd);\n",
       "            observer.disconnect();\n",
       "        }}\n",
       "}});\n",
       "\n",
       "// Listen for the removal of the full notebook cells\n",
       "var notebookContainer = gd.closest('#notebook-container');\n",
       "if (notebookContainer) {{\n",
       "    x.observe(notebookContainer, {childList: true});\n",
       "}}\n",
       "\n",
       "// Listen for the clearing of the current output cell\n",
       "var outputEl = gd.closest('.output');\n",
       "if (outputEl) {{\n",
       "    x.observe(outputEl, {childList: true});\n",
       "}}\n",
       "\n",
       "                        })                };                });            </script>        </div>"
      ]
     },
     "metadata": {},
     "output_type": "display_data"
    }
   ],
   "source": [
    "trace1 = go.Scatter(\n",
    "    x = np.arange(0, len(prediction2_inverse), 1),\n",
    "    y = prediction2_inverse,\n",
    "    mode = 'lines',\n",
    "    name = 'Predicted price',\n",
    "    hoverlabel= dict(namelength=-1),\n",
    "    line = dict(color=('rgb(244, 146, 65)'), width=2)\n",
    ")\n",
    "trace2 = go.Scatter(\n",
    "    x = np.arange(0, len(Y_test2_inverse), 1),\n",
    "    y = Y_test2_inverse,\n",
    "    mode = 'lines',\n",
    "    name = 'True price',\n",
    "    line = dict(color=('rgb(66, 244, 155)'), width=2)\n",
    ")\n",
    "\n",
    "data = [trace1, trace2]\n",
    "layout = dict(title = 'Comparison of true prices (on the test dataset) with prices our model predicted',\n",
    "             xaxis = dict(title = 'Day number'), yaxis = dict(title = 'Price, USD'))\n",
    "fig = dict(data=data, layout=layout)\n",
    "py.iplot(fig, filename='results_demonstrating0')"
   ]
  },
  {
   "cell_type": "markdown",
   "metadata": {
    "_cell_guid": "dfd3f55a-35cf-41c0-8857-63366b915a3f",
    "_uuid": "9f93e523bddca19c8dc95da07d70fde44b3512ee"
   },
   "source": [
    "Below we calculated the **root mean squared error** ([RMSE](https://en.wikipedia.org/wiki/Root-mean-square_deviation)). The meaning of this indicator is what  is the average distance between predicted points on the test set and the actual (true) labels. In other words, it shows the extent of our error. The less this number, the better. We can see, that our model's RMSE is not very big (consider that the price in our data set is in thousands of USD, and we are mistaken only by tens of USD)."
   ]
  },
  {
   "cell_type": "code",
   "execution_count": 20,
   "metadata": {
    "_cell_guid": "f9a48bfc-2b01-4029-8493-3a502bab6de3",
    "_uuid": "b0df1b97b4ac3cf42ea1996771ff9b37466d434c"
   },
   "outputs": [
    {
     "name": "stdout",
     "output_type": "stream",
     "text": [
      "Test RMSE: 1468.504\n"
     ]
    }
   ],
   "source": [
    "RMSE = sqrt(mean_squared_error(Y_test2_inverse, prediction2_inverse))\n",
    "print('Test RMSE: %.3f' % RMSE)"
   ]
  },
  {
   "cell_type": "markdown",
   "metadata": {
    "_cell_guid": "26cdf67f-1c0a-4887-9fb8-06413ec61427",
    "_uuid": "cbcd8120a1d96ab758cc03072a658e45c46994fc",
    "collapsed": true,
    "jupyter": {
     "outputs_hidden": true
    }
   },
   "source": [
    "Below we extract the convenient format of dates and plot the same chart as above, but with these dates on the X-axis. "
   ]
  },
  {
   "cell_type": "code",
   "execution_count": 21,
   "metadata": {
    "_cell_guid": "66070cca-b765-47f1-90e1-9627acdd747e",
    "_uuid": "6ba9a2815831491b5f6c9065e9a436309467f5ff"
   },
   "outputs": [
    {
     "data": {
      "application/vnd.plotly.v1+json": {
       "config": {
        "linkText": "Export to plot.ly",
        "plotlyServerURL": "https://plot.ly",
        "showLink": false
       },
       "data": [
        {
         "line": {
          "color": "rgb(66, 244, 155)",
          "width": 2
         },
         "name": "Actual Price",
         "type": "scatter",
         "x": [
          "2021-01-30",
          "2021-01-31",
          "2021-02-01",
          "2021-02-02",
          "2021-02-03",
          "2021-02-04",
          "2021-02-05",
          "2021-02-06",
          "2021-02-07",
          "2021-02-08",
          "2021-02-09",
          "2021-02-10",
          "2021-02-11",
          "2021-02-12",
          "2021-02-13",
          "2021-02-14",
          "2021-02-15",
          "2021-02-16",
          "2021-02-17",
          "2021-02-18",
          "2021-02-19",
          "2021-02-20",
          "2021-02-21",
          "2021-02-22",
          "2021-02-23",
          "2021-02-24",
          "2021-02-25",
          "2021-02-26",
          "2021-02-27",
          "2021-02-28",
          "2021-03-01",
          "2021-03-02",
          "2021-03-03",
          "2021-03-04",
          "2021-03-05",
          "2021-03-06",
          "2021-03-07",
          "2021-03-08",
          "2021-03-09",
          "2021-03-10",
          "2021-03-11",
          "2021-03-12",
          "2021-03-13",
          "2021-03-14",
          "2021-03-15",
          "2021-03-16",
          "2021-03-17",
          "2021-03-18",
          "2021-03-19",
          "2021-03-20",
          "2021-03-21",
          "2021-03-22",
          "2021-03-23",
          "2021-03-24",
          "2021-03-25",
          "2021-03-26",
          "2021-03-27",
          "2021-03-28",
          "2021-03-29",
          "2021-03-30",
          "2021-03-31"
         ],
         "y": [
          33705.97519064722,
          34713.69640010833,
          36573.09481030625,
          37541.54813242222,
          37630.04921400487,
          39814.356554572616,
          38711.774555249474,
          41196.61444486648,
          46684.4908495625,
          45798.7337153625,
          46272.21566854444,
          47603.41542011806,
          47273.849919144544,
          48600.491518490235,
          47862.39794598194,
          48845.16600342639,
          50913.92413875069,
          51893.31118121875,
          53083.8791087993,
          56271.28853767917,
          57040.825943830445,
          54708.31202510764,
          48968.83794590833,
          49800.28486888125,
          49985.23481495344,
          46655.92004851875,
          47130.20806015889,
          44818.447552103615,
          47641.53689948158,
          48617.289320901386,
          50429.449015790684,
          49398.25039857084,
          47717.64330027986,
          48371.543537970036,
          50218.21680438112,
          50798.354212407234,
          53980.84726167916,
          55375.366241257994,
          56272.596972013904,
          56826.56003304931,
          58802.60156770642,
          60455.844831486414,
          57507.73450910987,
          55339.80479183195,
          56158.01731986032,
          58472.11732155981,
          58283.54799432522,
          58779.76938655648,
          57312.598536458274,
          56787.14842211057,
          54703.38774047083,
          55123.99385491754,
          52121.68411029951,
          53241.037488505215,
          55193.35725955904,
          55832.95882390712,
          56913.993819261836,
          58346.91226829547,
          58764.349363
         ]
        },
        {
         "line": {
          "color": "rgb(244, 146, 65)",
          "width": 2
         },
         "name": "Predicted Price",
         "type": "scatter",
         "x": [
          "2021-01-30",
          "2021-01-31",
          "2021-02-01",
          "2021-02-02",
          "2021-02-03",
          "2021-02-04",
          "2021-02-05",
          "2021-02-06",
          "2021-02-07",
          "2021-02-08",
          "2021-02-09",
          "2021-02-10",
          "2021-02-11",
          "2021-02-12",
          "2021-02-13",
          "2021-02-14",
          "2021-02-15",
          "2021-02-16",
          "2021-02-17",
          "2021-02-18",
          "2021-02-19",
          "2021-02-20",
          "2021-02-21",
          "2021-02-22",
          "2021-02-23",
          "2021-02-24",
          "2021-02-25",
          "2021-02-26",
          "2021-02-27",
          "2021-02-28",
          "2021-03-01",
          "2021-03-02",
          "2021-03-03",
          "2021-03-04",
          "2021-03-05",
          "2021-03-06",
          "2021-03-07",
          "2021-03-08",
          "2021-03-09",
          "2021-03-10",
          "2021-03-11",
          "2021-03-12",
          "2021-03-13",
          "2021-03-14",
          "2021-03-15",
          "2021-03-16",
          "2021-03-17",
          "2021-03-18",
          "2021-03-19",
          "2021-03-20",
          "2021-03-21",
          "2021-03-22",
          "2021-03-23",
          "2021-03-24",
          "2021-03-25",
          "2021-03-26",
          "2021-03-27",
          "2021-03-28",
          "2021-03-29",
          "2021-03-30",
          "2021-03-31"
         ],
         "y": [
          34218.5625,
          35255.67578125,
          37177.38671875,
          38182.3046875,
          38274.27734375,
          40551.046875,
          39400.1484375,
          41998.4453125,
          47791.31640625,
          46851.62890625,
          47353.734375,
          48767.96484375,
          48417.49609375,
          49829.64453125,
          49043.53515625,
          50090.48046875,
          52300.45703125,
          53349.4375,
          54626.8359375,
          58057.71484375,
          58888.23046875,
          56373.4375,
          50222.359375,
          51109.78515625,
          51307.37109375,
          47760.984375,
          48264.81640625,
          45813.69140625,
          48808.5234375,
          49847.55078125,
          51782.1875,
          50680.5234375,
          48889.4921875,
          49585.6796875,
          51556.36328125,
          52176.78125,
          55590.7421875,
          57091.82421875,
          58059.12109375,
          58656.8984375,
          60792.47265625,
          62582.734375,
          59392.515625,
          57053.50390625,
          57935.53125,
          60434.96875,
          60231.05078125,
          60767.765625,
          59181.71484375,
          58614.359375,
          56368.1328125,
          56821.03125,
          53594.28125,
          54795.62109375,
          56895.74609375,
          57585.0078125,
          58751.28515625,
          60299.5625,
          60751.0859375
         ]
        }
       ],
       "layout": {
        "autosize": true,
        "template": {
         "data": {
          "bar": [
           {
            "error_x": {
             "color": "#2a3f5f"
            },
            "error_y": {
             "color": "#2a3f5f"
            },
            "marker": {
             "line": {
              "color": "#E5ECF6",
              "width": 0.5
             },
             "pattern": {
              "fillmode": "overlay",
              "size": 10,
              "solidity": 0.2
             }
            },
            "type": "bar"
           }
          ],
          "barpolar": [
           {
            "marker": {
             "line": {
              "color": "#E5ECF6",
              "width": 0.5
             },
             "pattern": {
              "fillmode": "overlay",
              "size": 10,
              "solidity": 0.2
             }
            },
            "type": "barpolar"
           }
          ],
          "carpet": [
           {
            "aaxis": {
             "endlinecolor": "#2a3f5f",
             "gridcolor": "white",
             "linecolor": "white",
             "minorgridcolor": "white",
             "startlinecolor": "#2a3f5f"
            },
            "baxis": {
             "endlinecolor": "#2a3f5f",
             "gridcolor": "white",
             "linecolor": "white",
             "minorgridcolor": "white",
             "startlinecolor": "#2a3f5f"
            },
            "type": "carpet"
           }
          ],
          "choropleth": [
           {
            "colorbar": {
             "outlinewidth": 0,
             "ticks": ""
            },
            "type": "choropleth"
           }
          ],
          "contour": [
           {
            "colorbar": {
             "outlinewidth": 0,
             "ticks": ""
            },
            "colorscale": [
             [
              0,
              "#0d0887"
             ],
             [
              0.1111111111111111,
              "#46039f"
             ],
             [
              0.2222222222222222,
              "#7201a8"
             ],
             [
              0.3333333333333333,
              "#9c179e"
             ],
             [
              0.4444444444444444,
              "#bd3786"
             ],
             [
              0.5555555555555556,
              "#d8576b"
             ],
             [
              0.6666666666666666,
              "#ed7953"
             ],
             [
              0.7777777777777778,
              "#fb9f3a"
             ],
             [
              0.8888888888888888,
              "#fdca26"
             ],
             [
              1,
              "#f0f921"
             ]
            ],
            "type": "contour"
           }
          ],
          "contourcarpet": [
           {
            "colorbar": {
             "outlinewidth": 0,
             "ticks": ""
            },
            "type": "contourcarpet"
           }
          ],
          "heatmap": [
           {
            "colorbar": {
             "outlinewidth": 0,
             "ticks": ""
            },
            "colorscale": [
             [
              0,
              "#0d0887"
             ],
             [
              0.1111111111111111,
              "#46039f"
             ],
             [
              0.2222222222222222,
              "#7201a8"
             ],
             [
              0.3333333333333333,
              "#9c179e"
             ],
             [
              0.4444444444444444,
              "#bd3786"
             ],
             [
              0.5555555555555556,
              "#d8576b"
             ],
             [
              0.6666666666666666,
              "#ed7953"
             ],
             [
              0.7777777777777778,
              "#fb9f3a"
             ],
             [
              0.8888888888888888,
              "#fdca26"
             ],
             [
              1,
              "#f0f921"
             ]
            ],
            "type": "heatmap"
           }
          ],
          "heatmapgl": [
           {
            "colorbar": {
             "outlinewidth": 0,
             "ticks": ""
            },
            "colorscale": [
             [
              0,
              "#0d0887"
             ],
             [
              0.1111111111111111,
              "#46039f"
             ],
             [
              0.2222222222222222,
              "#7201a8"
             ],
             [
              0.3333333333333333,
              "#9c179e"
             ],
             [
              0.4444444444444444,
              "#bd3786"
             ],
             [
              0.5555555555555556,
              "#d8576b"
             ],
             [
              0.6666666666666666,
              "#ed7953"
             ],
             [
              0.7777777777777778,
              "#fb9f3a"
             ],
             [
              0.8888888888888888,
              "#fdca26"
             ],
             [
              1,
              "#f0f921"
             ]
            ],
            "type": "heatmapgl"
           }
          ],
          "histogram": [
           {
            "marker": {
             "pattern": {
              "fillmode": "overlay",
              "size": 10,
              "solidity": 0.2
             }
            },
            "type": "histogram"
           }
          ],
          "histogram2d": [
           {
            "colorbar": {
             "outlinewidth": 0,
             "ticks": ""
            },
            "colorscale": [
             [
              0,
              "#0d0887"
             ],
             [
              0.1111111111111111,
              "#46039f"
             ],
             [
              0.2222222222222222,
              "#7201a8"
             ],
             [
              0.3333333333333333,
              "#9c179e"
             ],
             [
              0.4444444444444444,
              "#bd3786"
             ],
             [
              0.5555555555555556,
              "#d8576b"
             ],
             [
              0.6666666666666666,
              "#ed7953"
             ],
             [
              0.7777777777777778,
              "#fb9f3a"
             ],
             [
              0.8888888888888888,
              "#fdca26"
             ],
             [
              1,
              "#f0f921"
             ]
            ],
            "type": "histogram2d"
           }
          ],
          "histogram2dcontour": [
           {
            "colorbar": {
             "outlinewidth": 0,
             "ticks": ""
            },
            "colorscale": [
             [
              0,
              "#0d0887"
             ],
             [
              0.1111111111111111,
              "#46039f"
             ],
             [
              0.2222222222222222,
              "#7201a8"
             ],
             [
              0.3333333333333333,
              "#9c179e"
             ],
             [
              0.4444444444444444,
              "#bd3786"
             ],
             [
              0.5555555555555556,
              "#d8576b"
             ],
             [
              0.6666666666666666,
              "#ed7953"
             ],
             [
              0.7777777777777778,
              "#fb9f3a"
             ],
             [
              0.8888888888888888,
              "#fdca26"
             ],
             [
              1,
              "#f0f921"
             ]
            ],
            "type": "histogram2dcontour"
           }
          ],
          "mesh3d": [
           {
            "colorbar": {
             "outlinewidth": 0,
             "ticks": ""
            },
            "type": "mesh3d"
           }
          ],
          "parcoords": [
           {
            "line": {
             "colorbar": {
              "outlinewidth": 0,
              "ticks": ""
             }
            },
            "type": "parcoords"
           }
          ],
          "pie": [
           {
            "automargin": true,
            "type": "pie"
           }
          ],
          "scatter": [
           {
            "fillpattern": {
             "fillmode": "overlay",
             "size": 10,
             "solidity": 0.2
            },
            "type": "scatter"
           }
          ],
          "scatter3d": [
           {
            "line": {
             "colorbar": {
              "outlinewidth": 0,
              "ticks": ""
             }
            },
            "marker": {
             "colorbar": {
              "outlinewidth": 0,
              "ticks": ""
             }
            },
            "type": "scatter3d"
           }
          ],
          "scattercarpet": [
           {
            "marker": {
             "colorbar": {
              "outlinewidth": 0,
              "ticks": ""
             }
            },
            "type": "scattercarpet"
           }
          ],
          "scattergeo": [
           {
            "marker": {
             "colorbar": {
              "outlinewidth": 0,
              "ticks": ""
             }
            },
            "type": "scattergeo"
           }
          ],
          "scattergl": [
           {
            "marker": {
             "colorbar": {
              "outlinewidth": 0,
              "ticks": ""
             }
            },
            "type": "scattergl"
           }
          ],
          "scattermapbox": [
           {
            "marker": {
             "colorbar": {
              "outlinewidth": 0,
              "ticks": ""
             }
            },
            "type": "scattermapbox"
           }
          ],
          "scatterpolar": [
           {
            "marker": {
             "colorbar": {
              "outlinewidth": 0,
              "ticks": ""
             }
            },
            "type": "scatterpolar"
           }
          ],
          "scatterpolargl": [
           {
            "marker": {
             "colorbar": {
              "outlinewidth": 0,
              "ticks": ""
             }
            },
            "type": "scatterpolargl"
           }
          ],
          "scatterternary": [
           {
            "marker": {
             "colorbar": {
              "outlinewidth": 0,
              "ticks": ""
             }
            },
            "type": "scatterternary"
           }
          ],
          "surface": [
           {
            "colorbar": {
             "outlinewidth": 0,
             "ticks": ""
            },
            "colorscale": [
             [
              0,
              "#0d0887"
             ],
             [
              0.1111111111111111,
              "#46039f"
             ],
             [
              0.2222222222222222,
              "#7201a8"
             ],
             [
              0.3333333333333333,
              "#9c179e"
             ],
             [
              0.4444444444444444,
              "#bd3786"
             ],
             [
              0.5555555555555556,
              "#d8576b"
             ],
             [
              0.6666666666666666,
              "#ed7953"
             ],
             [
              0.7777777777777778,
              "#fb9f3a"
             ],
             [
              0.8888888888888888,
              "#fdca26"
             ],
             [
              1,
              "#f0f921"
             ]
            ],
            "type": "surface"
           }
          ],
          "table": [
           {
            "cells": {
             "fill": {
              "color": "#EBF0F8"
             },
             "line": {
              "color": "white"
             }
            },
            "header": {
             "fill": {
              "color": "#C8D4E3"
             },
             "line": {
              "color": "white"
             }
            },
            "type": "table"
           }
          ]
         },
         "layout": {
          "annotationdefaults": {
           "arrowcolor": "#2a3f5f",
           "arrowhead": 0,
           "arrowwidth": 1
          },
          "autotypenumbers": "strict",
          "coloraxis": {
           "colorbar": {
            "outlinewidth": 0,
            "ticks": ""
           }
          },
          "colorscale": {
           "diverging": [
            [
             0,
             "#8e0152"
            ],
            [
             0.1,
             "#c51b7d"
            ],
            [
             0.2,
             "#de77ae"
            ],
            [
             0.3,
             "#f1b6da"
            ],
            [
             0.4,
             "#fde0ef"
            ],
            [
             0.5,
             "#f7f7f7"
            ],
            [
             0.6,
             "#e6f5d0"
            ],
            [
             0.7,
             "#b8e186"
            ],
            [
             0.8,
             "#7fbc41"
            ],
            [
             0.9,
             "#4d9221"
            ],
            [
             1,
             "#276419"
            ]
           ],
           "sequential": [
            [
             0,
             "#0d0887"
            ],
            [
             0.1111111111111111,
             "#46039f"
            ],
            [
             0.2222222222222222,
             "#7201a8"
            ],
            [
             0.3333333333333333,
             "#9c179e"
            ],
            [
             0.4444444444444444,
             "#bd3786"
            ],
            [
             0.5555555555555556,
             "#d8576b"
            ],
            [
             0.6666666666666666,
             "#ed7953"
            ],
            [
             0.7777777777777778,
             "#fb9f3a"
            ],
            [
             0.8888888888888888,
             "#fdca26"
            ],
            [
             1,
             "#f0f921"
            ]
           ],
           "sequentialminus": [
            [
             0,
             "#0d0887"
            ],
            [
             0.1111111111111111,
             "#46039f"
            ],
            [
             0.2222222222222222,
             "#7201a8"
            ],
            [
             0.3333333333333333,
             "#9c179e"
            ],
            [
             0.4444444444444444,
             "#bd3786"
            ],
            [
             0.5555555555555556,
             "#d8576b"
            ],
            [
             0.6666666666666666,
             "#ed7953"
            ],
            [
             0.7777777777777778,
             "#fb9f3a"
            ],
            [
             0.8888888888888888,
             "#fdca26"
            ],
            [
             1,
             "#f0f921"
            ]
           ]
          },
          "colorway": [
           "#636efa",
           "#EF553B",
           "#00cc96",
           "#ab63fa",
           "#FFA15A",
           "#19d3f3",
           "#FF6692",
           "#B6E880",
           "#FF97FF",
           "#FECB52"
          ],
          "font": {
           "color": "#2a3f5f"
          },
          "geo": {
           "bgcolor": "white",
           "lakecolor": "white",
           "landcolor": "#E5ECF6",
           "showlakes": true,
           "showland": true,
           "subunitcolor": "white"
          },
          "hoverlabel": {
           "align": "left"
          },
          "hovermode": "closest",
          "mapbox": {
           "style": "light"
          },
          "paper_bgcolor": "white",
          "plot_bgcolor": "#E5ECF6",
          "polar": {
           "angularaxis": {
            "gridcolor": "white",
            "linecolor": "white",
            "ticks": ""
           },
           "bgcolor": "#E5ECF6",
           "radialaxis": {
            "gridcolor": "white",
            "linecolor": "white",
            "ticks": ""
           }
          },
          "scene": {
           "xaxis": {
            "backgroundcolor": "#E5ECF6",
            "gridcolor": "white",
            "gridwidth": 2,
            "linecolor": "white",
            "showbackground": true,
            "ticks": "",
            "zerolinecolor": "white"
           },
           "yaxis": {
            "backgroundcolor": "#E5ECF6",
            "gridcolor": "white",
            "gridwidth": 2,
            "linecolor": "white",
            "showbackground": true,
            "ticks": "",
            "zerolinecolor": "white"
           },
           "zaxis": {
            "backgroundcolor": "#E5ECF6",
            "gridcolor": "white",
            "gridwidth": 2,
            "linecolor": "white",
            "showbackground": true,
            "ticks": "",
            "zerolinecolor": "white"
           }
          },
          "shapedefaults": {
           "line": {
            "color": "#2a3f5f"
           }
          },
          "ternary": {
           "aaxis": {
            "gridcolor": "white",
            "linecolor": "white",
            "ticks": ""
           },
           "baxis": {
            "gridcolor": "white",
            "linecolor": "white",
            "ticks": ""
           },
           "bgcolor": "#E5ECF6",
           "caxis": {
            "gridcolor": "white",
            "linecolor": "white",
            "ticks": ""
           }
          },
          "title": {
           "x": 0.05
          },
          "xaxis": {
           "automargin": true,
           "gridcolor": "white",
           "linecolor": "white",
           "ticks": "",
           "title": {
            "standoff": 15
           },
           "zerolinecolor": "white",
           "zerolinewidth": 2
          },
          "yaxis": {
           "automargin": true,
           "gridcolor": "white",
           "linecolor": "white",
           "ticks": "",
           "title": {
            "standoff": 15
           },
           "zerolinecolor": "white",
           "zerolinewidth": 2
          }
         }
        },
        "title": {
         "text": "Comparison of true prices (on the test dataset) with prices our model predicted, by dates"
        },
        "xaxis": {
         "autorange": true,
         "range": [
          "2021-01-30",
          "2021-03-29"
         ],
         "title": {
          "text": "Date"
         },
         "type": "date"
        },
        "yaxis": {
         "autorange": true,
         "range": [
          32101.710791516514,
          64186.99877413071
         ],
         "title": {
          "text": "Price, USD"
         },
         "type": "linear"
        }
       }
      },
      "text/html": [
       "<div>                            <div id=\"f7901ebc-ba1c-4322-8483-487f67f1e569\" class=\"plotly-graph-div\" style=\"height:525px; width:100%;\"></div>            <script type=\"text/javascript\">                require([\"plotly\"], function(Plotly) {                    window.PLOTLYENV=window.PLOTLYENV || {};                                    if (document.getElementById(\"f7901ebc-ba1c-4322-8483-487f67f1e569\")) {                    Plotly.newPlot(                        \"f7901ebc-ba1c-4322-8483-487f67f1e569\",                        [{\"line\":{\"color\":\"rgb(66, 244, 155)\",\"width\":2},\"name\":\"Actual Price\",\"x\":[\"2021-01-30\",\"2021-01-31\",\"2021-02-01\",\"2021-02-02\",\"2021-02-03\",\"2021-02-04\",\"2021-02-05\",\"2021-02-06\",\"2021-02-07\",\"2021-02-08\",\"2021-02-09\",\"2021-02-10\",\"2021-02-11\",\"2021-02-12\",\"2021-02-13\",\"2021-02-14\",\"2021-02-15\",\"2021-02-16\",\"2021-02-17\",\"2021-02-18\",\"2021-02-19\",\"2021-02-20\",\"2021-02-21\",\"2021-02-22\",\"2021-02-23\",\"2021-02-24\",\"2021-02-25\",\"2021-02-26\",\"2021-02-27\",\"2021-02-28\",\"2021-03-01\",\"2021-03-02\",\"2021-03-03\",\"2021-03-04\",\"2021-03-05\",\"2021-03-06\",\"2021-03-07\",\"2021-03-08\",\"2021-03-09\",\"2021-03-10\",\"2021-03-11\",\"2021-03-12\",\"2021-03-13\",\"2021-03-14\",\"2021-03-15\",\"2021-03-16\",\"2021-03-17\",\"2021-03-18\",\"2021-03-19\",\"2021-03-20\",\"2021-03-21\",\"2021-03-22\",\"2021-03-23\",\"2021-03-24\",\"2021-03-25\",\"2021-03-26\",\"2021-03-27\",\"2021-03-28\",\"2021-03-29\",\"2021-03-30\",\"2021-03-31\"],\"y\":[33705.97519064722,34713.69640010833,36573.09481030625,37541.54813242222,37630.04921400487,39814.356554572616,38711.774555249474,41196.61444486648,46684.4908495625,45798.7337153625,46272.21566854444,47603.41542011806,47273.849919144544,48600.491518490235,47862.39794598194,48845.16600342639,50913.92413875069,51893.31118121875,53083.8791087993,56271.28853767917,57040.825943830445,54708.31202510764,48968.83794590833,49800.28486888125,49985.23481495344,46655.92004851875,47130.20806015889,44818.447552103615,47641.53689948158,48617.289320901386,50429.449015790684,49398.25039857084,47717.64330027986,48371.543537970036,50218.21680438112,50798.354212407234,53980.84726167916,55375.366241257994,56272.596972013904,56826.56003304931,58802.60156770642,60455.844831486414,57507.73450910987,55339.80479183195,56158.01731986032,58472.11732155981,58283.54799432522,58779.76938655648,57312.598536458274,56787.14842211057,54703.38774047083,55123.99385491754,52121.68411029951,53241.037488505215,55193.35725955904,55832.95882390712,56913.993819261836,58346.91226829547,58764.349363],\"type\":\"scatter\"},{\"line\":{\"color\":\"rgb(244, 146, 65)\",\"width\":2},\"name\":\"Predicted Price\",\"x\":[\"2021-01-30\",\"2021-01-31\",\"2021-02-01\",\"2021-02-02\",\"2021-02-03\",\"2021-02-04\",\"2021-02-05\",\"2021-02-06\",\"2021-02-07\",\"2021-02-08\",\"2021-02-09\",\"2021-02-10\",\"2021-02-11\",\"2021-02-12\",\"2021-02-13\",\"2021-02-14\",\"2021-02-15\",\"2021-02-16\",\"2021-02-17\",\"2021-02-18\",\"2021-02-19\",\"2021-02-20\",\"2021-02-21\",\"2021-02-22\",\"2021-02-23\",\"2021-02-24\",\"2021-02-25\",\"2021-02-26\",\"2021-02-27\",\"2021-02-28\",\"2021-03-01\",\"2021-03-02\",\"2021-03-03\",\"2021-03-04\",\"2021-03-05\",\"2021-03-06\",\"2021-03-07\",\"2021-03-08\",\"2021-03-09\",\"2021-03-10\",\"2021-03-11\",\"2021-03-12\",\"2021-03-13\",\"2021-03-14\",\"2021-03-15\",\"2021-03-16\",\"2021-03-17\",\"2021-03-18\",\"2021-03-19\",\"2021-03-20\",\"2021-03-21\",\"2021-03-22\",\"2021-03-23\",\"2021-03-24\",\"2021-03-25\",\"2021-03-26\",\"2021-03-27\",\"2021-03-28\",\"2021-03-29\",\"2021-03-30\",\"2021-03-31\"],\"y\":[34218.5625,35255.67578125,37177.38671875,38182.3046875,38274.27734375,40551.046875,39400.1484375,41998.4453125,47791.31640625,46851.62890625,47353.734375,48767.96484375,48417.49609375,49829.64453125,49043.53515625,50090.48046875,52300.45703125,53349.4375,54626.8359375,58057.71484375,58888.23046875,56373.4375,50222.359375,51109.78515625,51307.37109375,47760.984375,48264.81640625,45813.69140625,48808.5234375,49847.55078125,51782.1875,50680.5234375,48889.4921875,49585.6796875,51556.36328125,52176.78125,55590.7421875,57091.82421875,58059.12109375,58656.8984375,60792.47265625,62582.734375,59392.515625,57053.50390625,57935.53125,60434.96875,60231.05078125,60767.765625,59181.71484375,58614.359375,56368.1328125,56821.03125,53594.28125,54795.62109375,56895.74609375,57585.0078125,58751.28515625,60299.5625,60751.0859375],\"type\":\"scatter\"}],                        {\"template\":{\"data\":{\"barpolar\":[{\"marker\":{\"line\":{\"color\":\"#E5ECF6\",\"width\":0.5},\"pattern\":{\"fillmode\":\"overlay\",\"size\":10,\"solidity\":0.2}},\"type\":\"barpolar\"}],\"bar\":[{\"error_x\":{\"color\":\"#2a3f5f\"},\"error_y\":{\"color\":\"#2a3f5f\"},\"marker\":{\"line\":{\"color\":\"#E5ECF6\",\"width\":0.5},\"pattern\":{\"fillmode\":\"overlay\",\"size\":10,\"solidity\":0.2}},\"type\":\"bar\"}],\"carpet\":[{\"aaxis\":{\"endlinecolor\":\"#2a3f5f\",\"gridcolor\":\"white\",\"linecolor\":\"white\",\"minorgridcolor\":\"white\",\"startlinecolor\":\"#2a3f5f\"},\"baxis\":{\"endlinecolor\":\"#2a3f5f\",\"gridcolor\":\"white\",\"linecolor\":\"white\",\"minorgridcolor\":\"white\",\"startlinecolor\":\"#2a3f5f\"},\"type\":\"carpet\"}],\"choropleth\":[{\"colorbar\":{\"outlinewidth\":0,\"ticks\":\"\"},\"type\":\"choropleth\"}],\"contourcarpet\":[{\"colorbar\":{\"outlinewidth\":0,\"ticks\":\"\"},\"type\":\"contourcarpet\"}],\"contour\":[{\"colorbar\":{\"outlinewidth\":0,\"ticks\":\"\"},\"colorscale\":[[0.0,\"#0d0887\"],[0.1111111111111111,\"#46039f\"],[0.2222222222222222,\"#7201a8\"],[0.3333333333333333,\"#9c179e\"],[0.4444444444444444,\"#bd3786\"],[0.5555555555555556,\"#d8576b\"],[0.6666666666666666,\"#ed7953\"],[0.7777777777777778,\"#fb9f3a\"],[0.8888888888888888,\"#fdca26\"],[1.0,\"#f0f921\"]],\"type\":\"contour\"}],\"heatmapgl\":[{\"colorbar\":{\"outlinewidth\":0,\"ticks\":\"\"},\"colorscale\":[[0.0,\"#0d0887\"],[0.1111111111111111,\"#46039f\"],[0.2222222222222222,\"#7201a8\"],[0.3333333333333333,\"#9c179e\"],[0.4444444444444444,\"#bd3786\"],[0.5555555555555556,\"#d8576b\"],[0.6666666666666666,\"#ed7953\"],[0.7777777777777778,\"#fb9f3a\"],[0.8888888888888888,\"#fdca26\"],[1.0,\"#f0f921\"]],\"type\":\"heatmapgl\"}],\"heatmap\":[{\"colorbar\":{\"outlinewidth\":0,\"ticks\":\"\"},\"colorscale\":[[0.0,\"#0d0887\"],[0.1111111111111111,\"#46039f\"],[0.2222222222222222,\"#7201a8\"],[0.3333333333333333,\"#9c179e\"],[0.4444444444444444,\"#bd3786\"],[0.5555555555555556,\"#d8576b\"],[0.6666666666666666,\"#ed7953\"],[0.7777777777777778,\"#fb9f3a\"],[0.8888888888888888,\"#fdca26\"],[1.0,\"#f0f921\"]],\"type\":\"heatmap\"}],\"histogram2dcontour\":[{\"colorbar\":{\"outlinewidth\":0,\"ticks\":\"\"},\"colorscale\":[[0.0,\"#0d0887\"],[0.1111111111111111,\"#46039f\"],[0.2222222222222222,\"#7201a8\"],[0.3333333333333333,\"#9c179e\"],[0.4444444444444444,\"#bd3786\"],[0.5555555555555556,\"#d8576b\"],[0.6666666666666666,\"#ed7953\"],[0.7777777777777778,\"#fb9f3a\"],[0.8888888888888888,\"#fdca26\"],[1.0,\"#f0f921\"]],\"type\":\"histogram2dcontour\"}],\"histogram2d\":[{\"colorbar\":{\"outlinewidth\":0,\"ticks\":\"\"},\"colorscale\":[[0.0,\"#0d0887\"],[0.1111111111111111,\"#46039f\"],[0.2222222222222222,\"#7201a8\"],[0.3333333333333333,\"#9c179e\"],[0.4444444444444444,\"#bd3786\"],[0.5555555555555556,\"#d8576b\"],[0.6666666666666666,\"#ed7953\"],[0.7777777777777778,\"#fb9f3a\"],[0.8888888888888888,\"#fdca26\"],[1.0,\"#f0f921\"]],\"type\":\"histogram2d\"}],\"histogram\":[{\"marker\":{\"pattern\":{\"fillmode\":\"overlay\",\"size\":10,\"solidity\":0.2}},\"type\":\"histogram\"}],\"mesh3d\":[{\"colorbar\":{\"outlinewidth\":0,\"ticks\":\"\"},\"type\":\"mesh3d\"}],\"parcoords\":[{\"line\":{\"colorbar\":{\"outlinewidth\":0,\"ticks\":\"\"}},\"type\":\"parcoords\"}],\"pie\":[{\"automargin\":true,\"type\":\"pie\"}],\"scatter3d\":[{\"line\":{\"colorbar\":{\"outlinewidth\":0,\"ticks\":\"\"}},\"marker\":{\"colorbar\":{\"outlinewidth\":0,\"ticks\":\"\"}},\"type\":\"scatter3d\"}],\"scattercarpet\":[{\"marker\":{\"colorbar\":{\"outlinewidth\":0,\"ticks\":\"\"}},\"type\":\"scattercarpet\"}],\"scattergeo\":[{\"marker\":{\"colorbar\":{\"outlinewidth\":0,\"ticks\":\"\"}},\"type\":\"scattergeo\"}],\"scattergl\":[{\"marker\":{\"colorbar\":{\"outlinewidth\":0,\"ticks\":\"\"}},\"type\":\"scattergl\"}],\"scattermapbox\":[{\"marker\":{\"colorbar\":{\"outlinewidth\":0,\"ticks\":\"\"}},\"type\":\"scattermapbox\"}],\"scatterpolargl\":[{\"marker\":{\"colorbar\":{\"outlinewidth\":0,\"ticks\":\"\"}},\"type\":\"scatterpolargl\"}],\"scatterpolar\":[{\"marker\":{\"colorbar\":{\"outlinewidth\":0,\"ticks\":\"\"}},\"type\":\"scatterpolar\"}],\"scatter\":[{\"fillpattern\":{\"fillmode\":\"overlay\",\"size\":10,\"solidity\":0.2},\"type\":\"scatter\"}],\"scatterternary\":[{\"marker\":{\"colorbar\":{\"outlinewidth\":0,\"ticks\":\"\"}},\"type\":\"scatterternary\"}],\"surface\":[{\"colorbar\":{\"outlinewidth\":0,\"ticks\":\"\"},\"colorscale\":[[0.0,\"#0d0887\"],[0.1111111111111111,\"#46039f\"],[0.2222222222222222,\"#7201a8\"],[0.3333333333333333,\"#9c179e\"],[0.4444444444444444,\"#bd3786\"],[0.5555555555555556,\"#d8576b\"],[0.6666666666666666,\"#ed7953\"],[0.7777777777777778,\"#fb9f3a\"],[0.8888888888888888,\"#fdca26\"],[1.0,\"#f0f921\"]],\"type\":\"surface\"}],\"table\":[{\"cells\":{\"fill\":{\"color\":\"#EBF0F8\"},\"line\":{\"color\":\"white\"}},\"header\":{\"fill\":{\"color\":\"#C8D4E3\"},\"line\":{\"color\":\"white\"}},\"type\":\"table\"}]},\"layout\":{\"annotationdefaults\":{\"arrowcolor\":\"#2a3f5f\",\"arrowhead\":0,\"arrowwidth\":1},\"autotypenumbers\":\"strict\",\"coloraxis\":{\"colorbar\":{\"outlinewidth\":0,\"ticks\":\"\"}},\"colorscale\":{\"diverging\":[[0,\"#8e0152\"],[0.1,\"#c51b7d\"],[0.2,\"#de77ae\"],[0.3,\"#f1b6da\"],[0.4,\"#fde0ef\"],[0.5,\"#f7f7f7\"],[0.6,\"#e6f5d0\"],[0.7,\"#b8e186\"],[0.8,\"#7fbc41\"],[0.9,\"#4d9221\"],[1,\"#276419\"]],\"sequential\":[[0.0,\"#0d0887\"],[0.1111111111111111,\"#46039f\"],[0.2222222222222222,\"#7201a8\"],[0.3333333333333333,\"#9c179e\"],[0.4444444444444444,\"#bd3786\"],[0.5555555555555556,\"#d8576b\"],[0.6666666666666666,\"#ed7953\"],[0.7777777777777778,\"#fb9f3a\"],[0.8888888888888888,\"#fdca26\"],[1.0,\"#f0f921\"]],\"sequentialminus\":[[0.0,\"#0d0887\"],[0.1111111111111111,\"#46039f\"],[0.2222222222222222,\"#7201a8\"],[0.3333333333333333,\"#9c179e\"],[0.4444444444444444,\"#bd3786\"],[0.5555555555555556,\"#d8576b\"],[0.6666666666666666,\"#ed7953\"],[0.7777777777777778,\"#fb9f3a\"],[0.8888888888888888,\"#fdca26\"],[1.0,\"#f0f921\"]]},\"colorway\":[\"#636efa\",\"#EF553B\",\"#00cc96\",\"#ab63fa\",\"#FFA15A\",\"#19d3f3\",\"#FF6692\",\"#B6E880\",\"#FF97FF\",\"#FECB52\"],\"font\":{\"color\":\"#2a3f5f\"},\"geo\":{\"bgcolor\":\"white\",\"lakecolor\":\"white\",\"landcolor\":\"#E5ECF6\",\"showlakes\":true,\"showland\":true,\"subunitcolor\":\"white\"},\"hoverlabel\":{\"align\":\"left\"},\"hovermode\":\"closest\",\"mapbox\":{\"style\":\"light\"},\"paper_bgcolor\":\"white\",\"plot_bgcolor\":\"#E5ECF6\",\"polar\":{\"angularaxis\":{\"gridcolor\":\"white\",\"linecolor\":\"white\",\"ticks\":\"\"},\"bgcolor\":\"#E5ECF6\",\"radialaxis\":{\"gridcolor\":\"white\",\"linecolor\":\"white\",\"ticks\":\"\"}},\"scene\":{\"xaxis\":{\"backgroundcolor\":\"#E5ECF6\",\"gridcolor\":\"white\",\"gridwidth\":2,\"linecolor\":\"white\",\"showbackground\":true,\"ticks\":\"\",\"zerolinecolor\":\"white\"},\"yaxis\":{\"backgroundcolor\":\"#E5ECF6\",\"gridcolor\":\"white\",\"gridwidth\":2,\"linecolor\":\"white\",\"showbackground\":true,\"ticks\":\"\",\"zerolinecolor\":\"white\"},\"zaxis\":{\"backgroundcolor\":\"#E5ECF6\",\"gridcolor\":\"white\",\"gridwidth\":2,\"linecolor\":\"white\",\"showbackground\":true,\"ticks\":\"\",\"zerolinecolor\":\"white\"}},\"shapedefaults\":{\"line\":{\"color\":\"#2a3f5f\"}},\"ternary\":{\"aaxis\":{\"gridcolor\":\"white\",\"linecolor\":\"white\",\"ticks\":\"\"},\"baxis\":{\"gridcolor\":\"white\",\"linecolor\":\"white\",\"ticks\":\"\"},\"bgcolor\":\"#E5ECF6\",\"caxis\":{\"gridcolor\":\"white\",\"linecolor\":\"white\",\"ticks\":\"\"}},\"title\":{\"x\":0.05},\"xaxis\":{\"automargin\":true,\"gridcolor\":\"white\",\"linecolor\":\"white\",\"ticks\":\"\",\"title\":{\"standoff\":15},\"zerolinecolor\":\"white\",\"zerolinewidth\":2},\"yaxis\":{\"automargin\":true,\"gridcolor\":\"white\",\"linecolor\":\"white\",\"ticks\":\"\",\"title\":{\"standoff\":15},\"zerolinecolor\":\"white\",\"zerolinewidth\":2}}},\"title\":{\"text\":\"Comparison of true prices (on the test dataset) with prices our model predicted, by dates\"},\"xaxis\":{\"title\":{\"text\":\"Date\"}},\"yaxis\":{\"title\":{\"text\":\"Price, USD\"}}},                        {\"responsive\": true}                    ).then(function(){\n",
       "                            \n",
       "var gd = document.getElementById('f7901ebc-ba1c-4322-8483-487f67f1e569');\n",
       "var x = new MutationObserver(function (mutations, observer) {{\n",
       "        var display = window.getComputedStyle(gd).display;\n",
       "        if (!display || display === 'none') {{\n",
       "            console.log([gd, 'removed!']);\n",
       "            Plotly.purge(gd);\n",
       "            observer.disconnect();\n",
       "        }}\n",
       "}});\n",
       "\n",
       "// Listen for the removal of the full notebook cells\n",
       "var notebookContainer = gd.closest('#notebook-container');\n",
       "if (notebookContainer) {{\n",
       "    x.observe(notebookContainer, {childList: true});\n",
       "}}\n",
       "\n",
       "// Listen for the clearing of the current output cell\n",
       "var outputEl = gd.closest('.output');\n",
       "if (outputEl) {{\n",
       "    x.observe(outputEl, {childList: true});\n",
       "}}\n",
       "\n",
       "                        })                };                });            </script>        </div>"
      ]
     },
     "metadata": {},
     "output_type": "display_data"
    }
   ],
   "source": [
    "Test_Dates = Daily_Price[len(Daily_Price)-days_from_train:].index\n",
    "\n",
    "trace1 = go.Scatter(x=Test_Dates, y=Y_test2_inverse, name= 'Actual Price', \n",
    "                   line = dict(color = ('rgb(66, 244, 155)'),width = 2))\n",
    "trace2 = go.Scatter(x=Test_Dates, y=prediction2_inverse, name= 'Predicted Price',\n",
    "                   line = dict(color = ('rgb(244, 146, 65)'),width = 2))\n",
    "data = [trace1, trace2]\n",
    "layout = dict(title = 'Comparison of true prices (on the test dataset) with prices our model predicted, by dates',\n",
    "             xaxis = dict(title = 'Date'), yaxis = dict(title = 'Price, USD'))\n",
    "fig = dict(data=data, layout=layout)\n",
    "py.iplot(fig, filename='results_demonstrating1')"
   ]
  },
  {
   "cell_type": "markdown",
   "metadata": {
    "_cell_guid": "e22df660-fa16-445e-993a-60de28c5c94b",
    "_uuid": "60c5fab473551ab2ee1d71f31d4072c051f497e5"
   },
   "source": [
    "The results we obtained can be improved. For this, we will try the following thing. We get 10 different train and test datasets and train the model on each train test and then test it on the corresponding test dataset. After this, we calculate the RMSE for each pair of train/test dataset. Then we find an average RMSE on all these datasets and subtract this value from each prediction, obtained from our current model. This can improve the performance.\n",
    "\n",
    "We want to demonstrate this approach on the GRU model just to show different models."
   ]
  },
  {
   "cell_type": "markdown",
   "metadata": {
    "_cell_guid": "05e1704d-ec0d-4438-b54b-8379ed6fa23c",
    "_uuid": "cd8a8c76864c4211a5d3b15c9cff9329d030b820"
   },
   "source": [
    "First what we do is to define three functions, which will be acting as subsequent elements in the pipeline. Basically, these functions are very similar to what we do when prepare data and train our previous 2-layers LSTM model."
   ]
  },
  {
   "cell_type": "code",
   "execution_count": 22,
   "metadata": {
    "_cell_guid": "8aba20b1-d14f-41d4-b998-292ce86b749a",
    "_uuid": "3330fc805e6b1a48997e959209924e638a96a0cd"
   },
   "outputs": [],
   "source": [
    "# This function prepares random train/test split, \n",
    "# scales data with MinMaxScaler, create time series labels (Y)\n",
    "def get_split(working_data, n_train, n_test, look_back = 1):\n",
    "    # get a point from which we start to take train dataset and after it - test dataset\n",
    "    start_point = randint(0, (len(working_data)-n_test-n_train))\n",
    "    df_train = working_data[start_point:start_point+n_train]\n",
    "    df_test = working_data[start_point+n_train:start_point+n_train+n_test]\n",
    "\n",
    "    training_set = df_train.values\n",
    "    training_set = np.reshape(training_set, (len(training_set), 1))\n",
    "    test_set = df_test.values\n",
    "    test_set = np.reshape(test_set, (len(test_set), 1))\n",
    "    \n",
    "    # scale datasets\n",
    "    scaler_cv = MinMaxScaler()\n",
    "    training_set = scaler_cv.fit_transform(training_set)\n",
    "    test_set = scaler_cv.transform(test_set)\n",
    "\n",
    "    # create datasets which are suitable for time series forecasting\n",
    "    X_train, Y_train = create_lookback(training_set, look_back)\n",
    "    X_test, Y_test = create_lookback(test_set, look_back)\n",
    "\n",
    "    # reshape datasets so that they will be ok for the requirements of the models in Keras\n",
    "    X_train = np.reshape(X_train, (len(X_train), 1, X_train.shape[1]))\n",
    "    X_test = np.reshape(X_test, (len(X_test), 1, X_test.shape[1]))\n",
    "    \n",
    "    return X_train, Y_train, X_test, Y_test, scaler_cv, start_point\n",
    "\n",
    "# This function takes datasets from the previous function as input and train model using these datasets\n",
    "def train_model(X_train, Y_train, X_test, Y_test):\n",
    "    # initialize sequential model, add bidirectional LSTM layer and densely connected output neuron\n",
    "    model = Sequential()\n",
    "    model.add(GRU(256, input_shape=(X_train.shape[1], X_train.shape[2])))\n",
    "    model.add(Dense(1))\n",
    "    \n",
    "    # compile and fit the model\n",
    "    model.compile(loss='mean_squared_error', optimizer='adam')\n",
    "    model.fit(X_train, Y_train, epochs = 100, batch_size = 16, shuffle = False, \n",
    "                    validation_data=(X_test, Y_test), verbose=0,\n",
    "                    callbacks = [EarlyStopping(monitor='val_loss',min_delta=5e-5,patience=20,verbose=0)])\n",
    "    return model\n",
    "\n",
    "# This function uses trained model and test dataset to calculate RMSE\n",
    "def get_rmse(model, X_test, Y_test, scaler, start_point, working_data, n_train):\n",
    "    # add one additional data point to align shapes of the predictions and true labels\n",
    "    X_test = np.append(X_test, scaler.transform(working_data.iloc[[[start_point+n_train+len(X_test)][0]]]))\n",
    "    X_test = np.reshape(X_test, (len(X_test), 1, 1))\n",
    "    \n",
    "    # get predictions and then make some transformations to be able to calculate RMSE properly in USD\n",
    "    prediction = model.predict(X_test)\n",
    "    prediction_inverse = scaler.inverse_transform(prediction.reshape(-1, 1))\n",
    "    Y_test_inverse = scaler.inverse_transform(Y_test.reshape(-1, 1))\n",
    "    prediction2_inverse = np.array(prediction_inverse[:,0][1:])\n",
    "    Y_test2_inverse = np.array(Y_test_inverse[:,0])\n",
    "    \n",
    "    #calculate RMSE\n",
    "    RMSE = sqrt(mean_squared_error(Y_test2_inverse, prediction2_inverse))\n",
    "    return RMSE, prediction2_inverse"
   ]
  },
  {
   "cell_type": "markdown",
   "metadata": {
    "_cell_guid": "909e984b-61ef-4abf-b65a-891b7d4908c9",
    "_uuid": "06d5746a89836764a1c428b1a584c773f8a288f8"
   },
   "source": [
    "The function below uses all three previous functions to build workflow of calculations and return RMSE and predictions of the model."
   ]
  },
  {
   "cell_type": "code",
   "execution_count": 23,
   "metadata": {
    "_cell_guid": "9123e479-699d-43c3-9d34-48f3ffc0aa78",
    "_uuid": "276d3d0d97c09ec0eaa8a9ffaf6a42a5a0dfab98"
   },
   "outputs": [],
   "source": [
    "def workflow(working_data, get_split, train_model, get_rmse,n_train = 250,n_test = 50,look_back = 1):\n",
    "    X_train, Y_train, X_test, Y_test, scaler, start_point = get_split(working_data, n_train, n_test)\n",
    "    model = train_model(X_train, Y_train, X_test, Y_test)\n",
    "    RMSE, predictions = get_rmse(model, X_test, Y_test, scaler, start_point, working_data, n_train)\n",
    "    return RMSE, predictions"
   ]
  },
  {
   "cell_type": "markdown",
   "metadata": {
    "_cell_guid": "2cf7eb86-7302-4a3a-8a87-3ad6e37dd59c",
    "_uuid": "0e8a965c18bdc163dd4b64aad36da62cb53a59da"
   },
   "source": [
    "Now we can run *workflow* function to calculate RMSE for single GRU model:"
   ]
  },
  {
   "cell_type": "code",
   "execution_count": 24,
   "metadata": {
    "_cell_guid": "e6a94edb-f7ef-4169-8b60-c954ca72fa00",
    "_uuid": "0c521931ebaecc55ec06dc9c2e7c1625e4be0409"
   },
   "outputs": [
    {
     "name": "stdout",
     "output_type": "stream",
     "text": [
      "2/2 [==============================] - 0s 5ms/step\n",
      "Test GRU model RMSE: 590.638\n"
     ]
    }
   ],
   "source": [
    "RMSE, predictions = workflow(working_data, get_split, train_model, get_rmse, n_train = 600,n_test = 60)\n",
    "print('Test GRU model RMSE: %.3f' % RMSE)"
   ]
  },
  {
   "cell_type": "code",
   "execution_count": 25,
   "metadata": {
    "_cell_guid": "ddbe71aa-9790-429c-9d14-2eee1b5a1624",
    "_uuid": "153d5a87bd65ceddf75e5e38ff0b231cc3f5ced5"
   },
   "outputs": [],
   "source": [
    "# This function is used to repeat the workflow ten times and to calculate average RMSE\n",
    "def cross_validate(working_data,get_split,train_model,get_rmse,workflow,n_train = 250,n_test = 50,look_back = 1):\n",
    "    rmse_list = []\n",
    "    for i in range(10):\n",
    "        print('Iteration:', i+1)\n",
    "        RMSE, _ = workflow(working_data, get_split, train_model, get_rmse, n_train, n_test, look_back)\n",
    "        rmse_list.append(RMSE)\n",
    "        print('Test RMSE: %.3f' % RMSE)\n",
    "    mean_rmse = np.mean(rmse_list)\n",
    "    return mean_rmse, rmse_list"
   ]
  },
  {
   "cell_type": "markdown",
   "metadata": {
    "_cell_guid": "33b646ec-3fa7-4328-ba16-d3d43f572f92",
    "_uuid": "f6b135efd48b2cb573863d99103b7b4159018ebe"
   },
   "source": [
    "Now we can run *cross_validate* function to trigger calculations:"
   ]
  },
  {
   "cell_type": "code",
   "execution_count": 26,
   "metadata": {
    "_cell_guid": "47f8e6ad-801a-4a9e-b488-303402729c63",
    "_uuid": "2a0a49145e10b4c5f59b447fd5558020d575451d"
   },
   "outputs": [
    {
     "name": "stdout",
     "output_type": "stream",
     "text": [
      "Iteration: 1\n",
      "2/2 [==============================] - 1s 4ms/step\n",
      "Test RMSE: 15.292\n",
      "Iteration: 2\n",
      "2/2 [==============================] - 0s 3ms/step\n",
      "Test RMSE: 313.044\n",
      "Iteration: 3\n",
      "WARNING:tensorflow:5 out of the last 9 calls to <function Model.make_predict_function.<locals>.predict_function at 0x000002C0AF397920> triggered tf.function retracing. Tracing is expensive and the excessive number of tracings could be due to (1) creating @tf.function repeatedly in a loop, (2) passing tensors with different shapes, (3) passing Python objects instead of tensors. For (1), please define your @tf.function outside of the loop. For (2), @tf.function has reduce_retracing=True option that can avoid unnecessary retracing. For (3), please refer to https://www.tensorflow.org/guide/function#controlling_retracing and https://www.tensorflow.org/api_docs/python/tf/function for  more details.\n",
      "2/2 [==============================] - 0s 6ms/step\n",
      "Test RMSE: 84.154\n",
      "Iteration: 4\n",
      "WARNING:tensorflow:6 out of the last 11 calls to <function Model.make_predict_function.<locals>.predict_function at 0x000002C0AFC29BC0> triggered tf.function retracing. Tracing is expensive and the excessive number of tracings could be due to (1) creating @tf.function repeatedly in a loop, (2) passing tensors with different shapes, (3) passing Python objects instead of tensors. For (1), please define your @tf.function outside of the loop. For (2), @tf.function has reduce_retracing=True option that can avoid unnecessary retracing. For (3), please refer to https://www.tensorflow.org/guide/function#controlling_retracing and https://www.tensorflow.org/api_docs/python/tf/function for  more details.\n",
      "2/2 [==============================] - 0s 4ms/step\n",
      "Test RMSE: 47.422\n",
      "Iteration: 5\n",
      "2/2 [==============================] - 0s 12ms/step\n",
      "Test RMSE: 19.565\n",
      "Iteration: 6\n",
      "2/2 [==============================] - 1s 4ms/step\n",
      "Test RMSE: 31.362\n",
      "Iteration: 7\n",
      "2/2 [==============================] - 0s 8ms/step\n",
      "Test RMSE: 546.715\n",
      "Iteration: 8\n",
      "2/2 [==============================] - 0s 5ms/step\n",
      "Test RMSE: 355.040\n",
      "Iteration: 9\n",
      "2/2 [==============================] - 0s 4ms/step\n",
      "Test RMSE: 14.151\n",
      "Iteration: 10\n",
      "2/2 [==============================] - 0s 7ms/step\n",
      "Test RMSE: 296.498\n",
      "Average RMSE:  172.32435586347424\n",
      "RMSE list: [15.292291924703253, 313.0442959018665, 84.15396105906024, 47.42211283737945, 19.564920078924587, 31.36153572314723, 546.715226617822, 355.040013025974, 14.150987163404018, 296.4982143024609]\n"
     ]
    }
   ],
   "source": [
    "mean_rmse, rmse_list = cross_validate(working_data, get_split, train_model, get_rmse, workflow)\n",
    "print('Average RMSE: ', mean_rmse)\n",
    "print('RMSE list:', rmse_list)"
   ]
  },
  {
   "cell_type": "markdown",
   "metadata": {
    "_cell_guid": "16de6bbf-a980-4c8f-b836-8ad70144f792",
    "_uuid": "fd54fb9db2f28de26b569b97ba3ec83e68f9168e"
   },
   "source": [
    "Next, we subtract the mean RMSE from each prediction our model produced. Then, we recalculate the RMSE for the model. "
   ]
  },
  {
   "cell_type": "code",
   "execution_count": 27,
   "metadata": {
    "_cell_guid": "a1d7bfe6-b0e7-47df-820c-3374d6319b30",
    "_uuid": "e34adc68468dafb199fdeda7d0b26006cd792d02"
   },
   "outputs": [
    {
     "name": "stdout",
     "output_type": "stream",
     "text": [
      "Test GRU model RMSE_new: 422.460\n"
     ]
    }
   ],
   "source": [
    "predictions_new = predictions - mean_rmse\n",
    "\n",
    "RMSE_new = sqrt(mean_squared_error(Y_test2_inverse, predictions_new))\n",
    "print('Test GRU model RMSE_new: %.3f' % RMSE_new)"
   ]
  },
  {
   "cell_type": "markdown",
   "metadata": {
    "_cell_guid": "9b5b364f-b210-4258-999c-767105fac7a1",
    "_uuid": "d8c9f0a79b027224defca42825dbb3e793a5710e"
   },
   "source": [
    "We can see, that the RMSE has been reduced significantly. This means that our experiment was successful. On the plot below you can see the difference between predictions and true test labels."
   ]
  },
  {
   "cell_type": "code",
   "execution_count": 28,
   "metadata": {
    "_cell_guid": "5420e827-cbda-49ed-90ca-ba6d24425c77",
    "_uuid": "4109814c13d0502097828a71729b1a48b87a4f50"
   },
   "outputs": [
    {
     "data": {
      "application/vnd.plotly.v1+json": {
       "config": {
        "linkText": "Export to plot.ly",
        "plotlyServerURL": "https://plot.ly",
        "showLink": false
       },
       "data": [
        {
         "line": {
          "color": "rgb(66, 244, 155)",
          "width": 2
         },
         "name": "Actual Price",
         "type": "scatter",
         "x": [
          "2021-01-30",
          "2021-01-31",
          "2021-02-01",
          "2021-02-02",
          "2021-02-03",
          "2021-02-04",
          "2021-02-05",
          "2021-02-06",
          "2021-02-07",
          "2021-02-08",
          "2021-02-09",
          "2021-02-10",
          "2021-02-11",
          "2021-02-12",
          "2021-02-13",
          "2021-02-14",
          "2021-02-15",
          "2021-02-16",
          "2021-02-17",
          "2021-02-18",
          "2021-02-19",
          "2021-02-20",
          "2021-02-21",
          "2021-02-22",
          "2021-02-23",
          "2021-02-24",
          "2021-02-25",
          "2021-02-26",
          "2021-02-27",
          "2021-02-28",
          "2021-03-01",
          "2021-03-02",
          "2021-03-03",
          "2021-03-04",
          "2021-03-05",
          "2021-03-06",
          "2021-03-07",
          "2021-03-08",
          "2021-03-09",
          "2021-03-10",
          "2021-03-11",
          "2021-03-12",
          "2021-03-13",
          "2021-03-14",
          "2021-03-15",
          "2021-03-16",
          "2021-03-17",
          "2021-03-18",
          "2021-03-19",
          "2021-03-20",
          "2021-03-21",
          "2021-03-22",
          "2021-03-23",
          "2021-03-24",
          "2021-03-25",
          "2021-03-26",
          "2021-03-27",
          "2021-03-28",
          "2021-03-29",
          "2021-03-30",
          "2021-03-31"
         ],
         "y": [
          33705.97519064722,
          34713.69640010833,
          36573.09481030625,
          37541.54813242222,
          37630.04921400487,
          39814.356554572616,
          38711.774555249474,
          41196.61444486648,
          46684.4908495625,
          45798.7337153625,
          46272.21566854444,
          47603.41542011806,
          47273.849919144544,
          48600.491518490235,
          47862.39794598194,
          48845.16600342639,
          50913.92413875069,
          51893.31118121875,
          53083.8791087993,
          56271.28853767917,
          57040.825943830445,
          54708.31202510764,
          48968.83794590833,
          49800.28486888125,
          49985.23481495344,
          46655.92004851875,
          47130.20806015889,
          44818.447552103615,
          47641.53689948158,
          48617.289320901386,
          50429.449015790684,
          49398.25039857084,
          47717.64330027986,
          48371.543537970036,
          50218.21680438112,
          50798.354212407234,
          53980.84726167916,
          55375.366241257994,
          56272.596972013904,
          56826.56003304931,
          58802.60156770642,
          60455.844831486414,
          57507.73450910987,
          55339.80479183195,
          56158.01731986032,
          58472.11732155981,
          58283.54799432522,
          58779.76938655648,
          57312.598536458274,
          56787.14842211057,
          54703.38774047083,
          55123.99385491754,
          52121.68411029951,
          53241.037488505215,
          55193.35725955904,
          55832.95882390712,
          56913.993819261836,
          58346.91226829547,
          58764.349363
         ]
        },
        {
         "line": {
          "color": "rgb(244, 146, 65)",
          "width": 2
         },
         "name": "Predicted Price",
         "type": "scatter",
         "x": [
          "2021-01-30",
          "2021-01-31",
          "2021-02-01",
          "2021-02-02",
          "2021-02-03",
          "2021-02-04",
          "2021-02-05",
          "2021-02-06",
          "2021-02-07",
          "2021-02-08",
          "2021-02-09",
          "2021-02-10",
          "2021-02-11",
          "2021-02-12",
          "2021-02-13",
          "2021-02-14",
          "2021-02-15",
          "2021-02-16",
          "2021-02-17",
          "2021-02-18",
          "2021-02-19",
          "2021-02-20",
          "2021-02-21",
          "2021-02-22",
          "2021-02-23",
          "2021-02-24",
          "2021-02-25",
          "2021-02-26",
          "2021-02-27",
          "2021-02-28",
          "2021-03-01",
          "2021-03-02",
          "2021-03-03",
          "2021-03-04",
          "2021-03-05",
          "2021-03-06",
          "2021-03-07",
          "2021-03-08",
          "2021-03-09",
          "2021-03-10",
          "2021-03-11",
          "2021-03-12",
          "2021-03-13",
          "2021-03-14",
          "2021-03-15",
          "2021-03-16",
          "2021-03-17",
          "2021-03-18",
          "2021-03-19",
          "2021-03-20",
          "2021-03-21",
          "2021-03-22",
          "2021-03-23",
          "2021-03-24",
          "2021-03-25",
          "2021-03-26",
          "2021-03-27",
          "2021-03-28",
          "2021-03-29",
          "2021-03-30",
          "2021-03-31"
         ],
         "y": [
          33873.328125,
          34890.45703125,
          36768.96484375,
          37748.234375,
          37837.75390625,
          40048.62890625,
          38932.29296875,
          41449.1015625,
          47018.70703125,
          46118.82421875,
          46599.81640625,
          47952.6484375,
          47617.66015625,
          48966.38671875,
          48215.91796875,
          49215.2109375,
          51319.8984375,
          52316.796875,
          53529.0625,
          56776.43359375,
          57560.80859375,
          55183.734375,
          49340.9765625,
          50186.73046875,
          50374.88671875,
          46989.68359375,
          47471.66796875,
          45123.296875,
          47991.3984375,
          48983.4765625,
          50826.875,
          49777.75390625,
          48068.76953125,
          48733.57421875,
          50611.94140625,
          51202.28125,
          54442.62890625,
          55863.40234375,
          56777.765625,
          57342.40234375,
          59357.0078125,
          61043.02734375,
          58036.78125,
          55827.15625,
          56660.98828125,
          59020.0234375,
          58827.7421875,
          59333.7265625,
          57837.8515625,
          57302.23046875,
          55178.7109375,
          55607.2578125,
          52549.29296875,
          53689.10546875,
          55677.94140625,
          56329.70703125,
          57431.52734375,
          58892.34765625,
          59318
         ]
        }
       ],
       "layout": {
        "autosize": true,
        "template": {
         "data": {
          "bar": [
           {
            "error_x": {
             "color": "#2a3f5f"
            },
            "error_y": {
             "color": "#2a3f5f"
            },
            "marker": {
             "line": {
              "color": "#E5ECF6",
              "width": 0.5
             },
             "pattern": {
              "fillmode": "overlay",
              "size": 10,
              "solidity": 0.2
             }
            },
            "type": "bar"
           }
          ],
          "barpolar": [
           {
            "marker": {
             "line": {
              "color": "#E5ECF6",
              "width": 0.5
             },
             "pattern": {
              "fillmode": "overlay",
              "size": 10,
              "solidity": 0.2
             }
            },
            "type": "barpolar"
           }
          ],
          "carpet": [
           {
            "aaxis": {
             "endlinecolor": "#2a3f5f",
             "gridcolor": "white",
             "linecolor": "white",
             "minorgridcolor": "white",
             "startlinecolor": "#2a3f5f"
            },
            "baxis": {
             "endlinecolor": "#2a3f5f",
             "gridcolor": "white",
             "linecolor": "white",
             "minorgridcolor": "white",
             "startlinecolor": "#2a3f5f"
            },
            "type": "carpet"
           }
          ],
          "choropleth": [
           {
            "colorbar": {
             "outlinewidth": 0,
             "ticks": ""
            },
            "type": "choropleth"
           }
          ],
          "contour": [
           {
            "colorbar": {
             "outlinewidth": 0,
             "ticks": ""
            },
            "colorscale": [
             [
              0,
              "#0d0887"
             ],
             [
              0.1111111111111111,
              "#46039f"
             ],
             [
              0.2222222222222222,
              "#7201a8"
             ],
             [
              0.3333333333333333,
              "#9c179e"
             ],
             [
              0.4444444444444444,
              "#bd3786"
             ],
             [
              0.5555555555555556,
              "#d8576b"
             ],
             [
              0.6666666666666666,
              "#ed7953"
             ],
             [
              0.7777777777777778,
              "#fb9f3a"
             ],
             [
              0.8888888888888888,
              "#fdca26"
             ],
             [
              1,
              "#f0f921"
             ]
            ],
            "type": "contour"
           }
          ],
          "contourcarpet": [
           {
            "colorbar": {
             "outlinewidth": 0,
             "ticks": ""
            },
            "type": "contourcarpet"
           }
          ],
          "heatmap": [
           {
            "colorbar": {
             "outlinewidth": 0,
             "ticks": ""
            },
            "colorscale": [
             [
              0,
              "#0d0887"
             ],
             [
              0.1111111111111111,
              "#46039f"
             ],
             [
              0.2222222222222222,
              "#7201a8"
             ],
             [
              0.3333333333333333,
              "#9c179e"
             ],
             [
              0.4444444444444444,
              "#bd3786"
             ],
             [
              0.5555555555555556,
              "#d8576b"
             ],
             [
              0.6666666666666666,
              "#ed7953"
             ],
             [
              0.7777777777777778,
              "#fb9f3a"
             ],
             [
              0.8888888888888888,
              "#fdca26"
             ],
             [
              1,
              "#f0f921"
             ]
            ],
            "type": "heatmap"
           }
          ],
          "heatmapgl": [
           {
            "colorbar": {
             "outlinewidth": 0,
             "ticks": ""
            },
            "colorscale": [
             [
              0,
              "#0d0887"
             ],
             [
              0.1111111111111111,
              "#46039f"
             ],
             [
              0.2222222222222222,
              "#7201a8"
             ],
             [
              0.3333333333333333,
              "#9c179e"
             ],
             [
              0.4444444444444444,
              "#bd3786"
             ],
             [
              0.5555555555555556,
              "#d8576b"
             ],
             [
              0.6666666666666666,
              "#ed7953"
             ],
             [
              0.7777777777777778,
              "#fb9f3a"
             ],
             [
              0.8888888888888888,
              "#fdca26"
             ],
             [
              1,
              "#f0f921"
             ]
            ],
            "type": "heatmapgl"
           }
          ],
          "histogram": [
           {
            "marker": {
             "pattern": {
              "fillmode": "overlay",
              "size": 10,
              "solidity": 0.2
             }
            },
            "type": "histogram"
           }
          ],
          "histogram2d": [
           {
            "colorbar": {
             "outlinewidth": 0,
             "ticks": ""
            },
            "colorscale": [
             [
              0,
              "#0d0887"
             ],
             [
              0.1111111111111111,
              "#46039f"
             ],
             [
              0.2222222222222222,
              "#7201a8"
             ],
             [
              0.3333333333333333,
              "#9c179e"
             ],
             [
              0.4444444444444444,
              "#bd3786"
             ],
             [
              0.5555555555555556,
              "#d8576b"
             ],
             [
              0.6666666666666666,
              "#ed7953"
             ],
             [
              0.7777777777777778,
              "#fb9f3a"
             ],
             [
              0.8888888888888888,
              "#fdca26"
             ],
             [
              1,
              "#f0f921"
             ]
            ],
            "type": "histogram2d"
           }
          ],
          "histogram2dcontour": [
           {
            "colorbar": {
             "outlinewidth": 0,
             "ticks": ""
            },
            "colorscale": [
             [
              0,
              "#0d0887"
             ],
             [
              0.1111111111111111,
              "#46039f"
             ],
             [
              0.2222222222222222,
              "#7201a8"
             ],
             [
              0.3333333333333333,
              "#9c179e"
             ],
             [
              0.4444444444444444,
              "#bd3786"
             ],
             [
              0.5555555555555556,
              "#d8576b"
             ],
             [
              0.6666666666666666,
              "#ed7953"
             ],
             [
              0.7777777777777778,
              "#fb9f3a"
             ],
             [
              0.8888888888888888,
              "#fdca26"
             ],
             [
              1,
              "#f0f921"
             ]
            ],
            "type": "histogram2dcontour"
           }
          ],
          "mesh3d": [
           {
            "colorbar": {
             "outlinewidth": 0,
             "ticks": ""
            },
            "type": "mesh3d"
           }
          ],
          "parcoords": [
           {
            "line": {
             "colorbar": {
              "outlinewidth": 0,
              "ticks": ""
             }
            },
            "type": "parcoords"
           }
          ],
          "pie": [
           {
            "automargin": true,
            "type": "pie"
           }
          ],
          "scatter": [
           {
            "fillpattern": {
             "fillmode": "overlay",
             "size": 10,
             "solidity": 0.2
            },
            "type": "scatter"
           }
          ],
          "scatter3d": [
           {
            "line": {
             "colorbar": {
              "outlinewidth": 0,
              "ticks": ""
             }
            },
            "marker": {
             "colorbar": {
              "outlinewidth": 0,
              "ticks": ""
             }
            },
            "type": "scatter3d"
           }
          ],
          "scattercarpet": [
           {
            "marker": {
             "colorbar": {
              "outlinewidth": 0,
              "ticks": ""
             }
            },
            "type": "scattercarpet"
           }
          ],
          "scattergeo": [
           {
            "marker": {
             "colorbar": {
              "outlinewidth": 0,
              "ticks": ""
             }
            },
            "type": "scattergeo"
           }
          ],
          "scattergl": [
           {
            "marker": {
             "colorbar": {
              "outlinewidth": 0,
              "ticks": ""
             }
            },
            "type": "scattergl"
           }
          ],
          "scattermapbox": [
           {
            "marker": {
             "colorbar": {
              "outlinewidth": 0,
              "ticks": ""
             }
            },
            "type": "scattermapbox"
           }
          ],
          "scatterpolar": [
           {
            "marker": {
             "colorbar": {
              "outlinewidth": 0,
              "ticks": ""
             }
            },
            "type": "scatterpolar"
           }
          ],
          "scatterpolargl": [
           {
            "marker": {
             "colorbar": {
              "outlinewidth": 0,
              "ticks": ""
             }
            },
            "type": "scatterpolargl"
           }
          ],
          "scatterternary": [
           {
            "marker": {
             "colorbar": {
              "outlinewidth": 0,
              "ticks": ""
             }
            },
            "type": "scatterternary"
           }
          ],
          "surface": [
           {
            "colorbar": {
             "outlinewidth": 0,
             "ticks": ""
            },
            "colorscale": [
             [
              0,
              "#0d0887"
             ],
             [
              0.1111111111111111,
              "#46039f"
             ],
             [
              0.2222222222222222,
              "#7201a8"
             ],
             [
              0.3333333333333333,
              "#9c179e"
             ],
             [
              0.4444444444444444,
              "#bd3786"
             ],
             [
              0.5555555555555556,
              "#d8576b"
             ],
             [
              0.6666666666666666,
              "#ed7953"
             ],
             [
              0.7777777777777778,
              "#fb9f3a"
             ],
             [
              0.8888888888888888,
              "#fdca26"
             ],
             [
              1,
              "#f0f921"
             ]
            ],
            "type": "surface"
           }
          ],
          "table": [
           {
            "cells": {
             "fill": {
              "color": "#EBF0F8"
             },
             "line": {
              "color": "white"
             }
            },
            "header": {
             "fill": {
              "color": "#C8D4E3"
             },
             "line": {
              "color": "white"
             }
            },
            "type": "table"
           }
          ]
         },
         "layout": {
          "annotationdefaults": {
           "arrowcolor": "#2a3f5f",
           "arrowhead": 0,
           "arrowwidth": 1
          },
          "autotypenumbers": "strict",
          "coloraxis": {
           "colorbar": {
            "outlinewidth": 0,
            "ticks": ""
           }
          },
          "colorscale": {
           "diverging": [
            [
             0,
             "#8e0152"
            ],
            [
             0.1,
             "#c51b7d"
            ],
            [
             0.2,
             "#de77ae"
            ],
            [
             0.3,
             "#f1b6da"
            ],
            [
             0.4,
             "#fde0ef"
            ],
            [
             0.5,
             "#f7f7f7"
            ],
            [
             0.6,
             "#e6f5d0"
            ],
            [
             0.7,
             "#b8e186"
            ],
            [
             0.8,
             "#7fbc41"
            ],
            [
             0.9,
             "#4d9221"
            ],
            [
             1,
             "#276419"
            ]
           ],
           "sequential": [
            [
             0,
             "#0d0887"
            ],
            [
             0.1111111111111111,
             "#46039f"
            ],
            [
             0.2222222222222222,
             "#7201a8"
            ],
            [
             0.3333333333333333,
             "#9c179e"
            ],
            [
             0.4444444444444444,
             "#bd3786"
            ],
            [
             0.5555555555555556,
             "#d8576b"
            ],
            [
             0.6666666666666666,
             "#ed7953"
            ],
            [
             0.7777777777777778,
             "#fb9f3a"
            ],
            [
             0.8888888888888888,
             "#fdca26"
            ],
            [
             1,
             "#f0f921"
            ]
           ],
           "sequentialminus": [
            [
             0,
             "#0d0887"
            ],
            [
             0.1111111111111111,
             "#46039f"
            ],
            [
             0.2222222222222222,
             "#7201a8"
            ],
            [
             0.3333333333333333,
             "#9c179e"
            ],
            [
             0.4444444444444444,
             "#bd3786"
            ],
            [
             0.5555555555555556,
             "#d8576b"
            ],
            [
             0.6666666666666666,
             "#ed7953"
            ],
            [
             0.7777777777777778,
             "#fb9f3a"
            ],
            [
             0.8888888888888888,
             "#fdca26"
            ],
            [
             1,
             "#f0f921"
            ]
           ]
          },
          "colorway": [
           "#636efa",
           "#EF553B",
           "#00cc96",
           "#ab63fa",
           "#FFA15A",
           "#19d3f3",
           "#FF6692",
           "#B6E880",
           "#FF97FF",
           "#FECB52"
          ],
          "font": {
           "color": "#2a3f5f"
          },
          "geo": {
           "bgcolor": "white",
           "lakecolor": "white",
           "landcolor": "#E5ECF6",
           "showlakes": true,
           "showland": true,
           "subunitcolor": "white"
          },
          "hoverlabel": {
           "align": "left"
          },
          "hovermode": "closest",
          "mapbox": {
           "style": "light"
          },
          "paper_bgcolor": "white",
          "plot_bgcolor": "#E5ECF6",
          "polar": {
           "angularaxis": {
            "gridcolor": "white",
            "linecolor": "white",
            "ticks": ""
           },
           "bgcolor": "#E5ECF6",
           "radialaxis": {
            "gridcolor": "white",
            "linecolor": "white",
            "ticks": ""
           }
          },
          "scene": {
           "xaxis": {
            "backgroundcolor": "#E5ECF6",
            "gridcolor": "white",
            "gridwidth": 2,
            "linecolor": "white",
            "showbackground": true,
            "ticks": "",
            "zerolinecolor": "white"
           },
           "yaxis": {
            "backgroundcolor": "#E5ECF6",
            "gridcolor": "white",
            "gridwidth": 2,
            "linecolor": "white",
            "showbackground": true,
            "ticks": "",
            "zerolinecolor": "white"
           },
           "zaxis": {
            "backgroundcolor": "#E5ECF6",
            "gridcolor": "white",
            "gridwidth": 2,
            "linecolor": "white",
            "showbackground": true,
            "ticks": "",
            "zerolinecolor": "white"
           }
          },
          "shapedefaults": {
           "line": {
            "color": "#2a3f5f"
           }
          },
          "ternary": {
           "aaxis": {
            "gridcolor": "white",
            "linecolor": "white",
            "ticks": ""
           },
           "baxis": {
            "gridcolor": "white",
            "linecolor": "white",
            "ticks": ""
           },
           "bgcolor": "#E5ECF6",
           "caxis": {
            "gridcolor": "white",
            "linecolor": "white",
            "ticks": ""
           }
          },
          "title": {
           "x": 0.05
          },
          "xaxis": {
           "automargin": true,
           "gridcolor": "white",
           "linecolor": "white",
           "ticks": "",
           "title": {
            "standoff": 15
           },
           "zerolinecolor": "white",
           "zerolinewidth": 2
          },
          "yaxis": {
           "automargin": true,
           "gridcolor": "white",
           "linecolor": "white",
           "ticks": "",
           "title": {
            "standoff": 15
           },
           "zerolinecolor": "white",
           "zerolinewidth": 2
          }
         }
        },
        "title": {
         "text": "Comparison of true prices (on the test dataset) with prices our model predicted, by dates"
        },
        "xaxis": {
         "autorange": true,
         "range": [
          "2021-01-30",
          "2021-03-29"
         ],
         "title": {
          "text": "Date"
         },
         "type": "date"
        },
        "yaxis": {
         "autorange": true,
         "range": [
          32187.2500710304,
          62561.75246336682
         ],
         "title": {
          "text": "Price, USD"
         },
         "type": "linear"
        }
       }
      },
      "text/html": [
       "<div>                            <div id=\"331340c5-f5ef-4492-b4e9-0f02e4fbb129\" class=\"plotly-graph-div\" style=\"height:525px; width:100%;\"></div>            <script type=\"text/javascript\">                require([\"plotly\"], function(Plotly) {                    window.PLOTLYENV=window.PLOTLYENV || {};                                    if (document.getElementById(\"331340c5-f5ef-4492-b4e9-0f02e4fbb129\")) {                    Plotly.newPlot(                        \"331340c5-f5ef-4492-b4e9-0f02e4fbb129\",                        [{\"line\":{\"color\":\"rgb(66, 244, 155)\",\"width\":2},\"name\":\"Actual Price\",\"x\":[\"2021-01-30\",\"2021-01-31\",\"2021-02-01\",\"2021-02-02\",\"2021-02-03\",\"2021-02-04\",\"2021-02-05\",\"2021-02-06\",\"2021-02-07\",\"2021-02-08\",\"2021-02-09\",\"2021-02-10\",\"2021-02-11\",\"2021-02-12\",\"2021-02-13\",\"2021-02-14\",\"2021-02-15\",\"2021-02-16\",\"2021-02-17\",\"2021-02-18\",\"2021-02-19\",\"2021-02-20\",\"2021-02-21\",\"2021-02-22\",\"2021-02-23\",\"2021-02-24\",\"2021-02-25\",\"2021-02-26\",\"2021-02-27\",\"2021-02-28\",\"2021-03-01\",\"2021-03-02\",\"2021-03-03\",\"2021-03-04\",\"2021-03-05\",\"2021-03-06\",\"2021-03-07\",\"2021-03-08\",\"2021-03-09\",\"2021-03-10\",\"2021-03-11\",\"2021-03-12\",\"2021-03-13\",\"2021-03-14\",\"2021-03-15\",\"2021-03-16\",\"2021-03-17\",\"2021-03-18\",\"2021-03-19\",\"2021-03-20\",\"2021-03-21\",\"2021-03-22\",\"2021-03-23\",\"2021-03-24\",\"2021-03-25\",\"2021-03-26\",\"2021-03-27\",\"2021-03-28\",\"2021-03-29\",\"2021-03-30\",\"2021-03-31\"],\"y\":[33705.97519064722,34713.69640010833,36573.09481030625,37541.54813242222,37630.04921400487,39814.356554572616,38711.774555249474,41196.61444486648,46684.4908495625,45798.7337153625,46272.21566854444,47603.41542011806,47273.849919144544,48600.491518490235,47862.39794598194,48845.16600342639,50913.92413875069,51893.31118121875,53083.8791087993,56271.28853767917,57040.825943830445,54708.31202510764,48968.83794590833,49800.28486888125,49985.23481495344,46655.92004851875,47130.20806015889,44818.447552103615,47641.53689948158,48617.289320901386,50429.449015790684,49398.25039857084,47717.64330027986,48371.543537970036,50218.21680438112,50798.354212407234,53980.84726167916,55375.366241257994,56272.596972013904,56826.56003304931,58802.60156770642,60455.844831486414,57507.73450910987,55339.80479183195,56158.01731986032,58472.11732155981,58283.54799432522,58779.76938655648,57312.598536458274,56787.14842211057,54703.38774047083,55123.99385491754,52121.68411029951,53241.037488505215,55193.35725955904,55832.95882390712,56913.993819261836,58346.91226829547,58764.349363],\"type\":\"scatter\"},{\"line\":{\"color\":\"rgb(244, 146, 65)\",\"width\":2},\"name\":\"Predicted Price\",\"x\":[\"2021-01-30\",\"2021-01-31\",\"2021-02-01\",\"2021-02-02\",\"2021-02-03\",\"2021-02-04\",\"2021-02-05\",\"2021-02-06\",\"2021-02-07\",\"2021-02-08\",\"2021-02-09\",\"2021-02-10\",\"2021-02-11\",\"2021-02-12\",\"2021-02-13\",\"2021-02-14\",\"2021-02-15\",\"2021-02-16\",\"2021-02-17\",\"2021-02-18\",\"2021-02-19\",\"2021-02-20\",\"2021-02-21\",\"2021-02-22\",\"2021-02-23\",\"2021-02-24\",\"2021-02-25\",\"2021-02-26\",\"2021-02-27\",\"2021-02-28\",\"2021-03-01\",\"2021-03-02\",\"2021-03-03\",\"2021-03-04\",\"2021-03-05\",\"2021-03-06\",\"2021-03-07\",\"2021-03-08\",\"2021-03-09\",\"2021-03-10\",\"2021-03-11\",\"2021-03-12\",\"2021-03-13\",\"2021-03-14\",\"2021-03-15\",\"2021-03-16\",\"2021-03-17\",\"2021-03-18\",\"2021-03-19\",\"2021-03-20\",\"2021-03-21\",\"2021-03-22\",\"2021-03-23\",\"2021-03-24\",\"2021-03-25\",\"2021-03-26\",\"2021-03-27\",\"2021-03-28\",\"2021-03-29\",\"2021-03-30\",\"2021-03-31\"],\"y\":[33873.328125,34890.45703125,36768.96484375,37748.234375,37837.75390625,40048.62890625,38932.29296875,41449.1015625,47018.70703125,46118.82421875,46599.81640625,47952.6484375,47617.66015625,48966.38671875,48215.91796875,49215.2109375,51319.8984375,52316.796875,53529.0625,56776.43359375,57560.80859375,55183.734375,49340.9765625,50186.73046875,50374.88671875,46989.68359375,47471.66796875,45123.296875,47991.3984375,48983.4765625,50826.875,49777.75390625,48068.76953125,48733.57421875,50611.94140625,51202.28125,54442.62890625,55863.40234375,56777.765625,57342.40234375,59357.0078125,61043.02734375,58036.78125,55827.15625,56660.98828125,59020.0234375,58827.7421875,59333.7265625,57837.8515625,57302.23046875,55178.7109375,55607.2578125,52549.29296875,53689.10546875,55677.94140625,56329.70703125,57431.52734375,58892.34765625,59318.0],\"type\":\"scatter\"}],                        {\"template\":{\"data\":{\"barpolar\":[{\"marker\":{\"line\":{\"color\":\"#E5ECF6\",\"width\":0.5},\"pattern\":{\"fillmode\":\"overlay\",\"size\":10,\"solidity\":0.2}},\"type\":\"barpolar\"}],\"bar\":[{\"error_x\":{\"color\":\"#2a3f5f\"},\"error_y\":{\"color\":\"#2a3f5f\"},\"marker\":{\"line\":{\"color\":\"#E5ECF6\",\"width\":0.5},\"pattern\":{\"fillmode\":\"overlay\",\"size\":10,\"solidity\":0.2}},\"type\":\"bar\"}],\"carpet\":[{\"aaxis\":{\"endlinecolor\":\"#2a3f5f\",\"gridcolor\":\"white\",\"linecolor\":\"white\",\"minorgridcolor\":\"white\",\"startlinecolor\":\"#2a3f5f\"},\"baxis\":{\"endlinecolor\":\"#2a3f5f\",\"gridcolor\":\"white\",\"linecolor\":\"white\",\"minorgridcolor\":\"white\",\"startlinecolor\":\"#2a3f5f\"},\"type\":\"carpet\"}],\"choropleth\":[{\"colorbar\":{\"outlinewidth\":0,\"ticks\":\"\"},\"type\":\"choropleth\"}],\"contourcarpet\":[{\"colorbar\":{\"outlinewidth\":0,\"ticks\":\"\"},\"type\":\"contourcarpet\"}],\"contour\":[{\"colorbar\":{\"outlinewidth\":0,\"ticks\":\"\"},\"colorscale\":[[0.0,\"#0d0887\"],[0.1111111111111111,\"#46039f\"],[0.2222222222222222,\"#7201a8\"],[0.3333333333333333,\"#9c179e\"],[0.4444444444444444,\"#bd3786\"],[0.5555555555555556,\"#d8576b\"],[0.6666666666666666,\"#ed7953\"],[0.7777777777777778,\"#fb9f3a\"],[0.8888888888888888,\"#fdca26\"],[1.0,\"#f0f921\"]],\"type\":\"contour\"}],\"heatmapgl\":[{\"colorbar\":{\"outlinewidth\":0,\"ticks\":\"\"},\"colorscale\":[[0.0,\"#0d0887\"],[0.1111111111111111,\"#46039f\"],[0.2222222222222222,\"#7201a8\"],[0.3333333333333333,\"#9c179e\"],[0.4444444444444444,\"#bd3786\"],[0.5555555555555556,\"#d8576b\"],[0.6666666666666666,\"#ed7953\"],[0.7777777777777778,\"#fb9f3a\"],[0.8888888888888888,\"#fdca26\"],[1.0,\"#f0f921\"]],\"type\":\"heatmapgl\"}],\"heatmap\":[{\"colorbar\":{\"outlinewidth\":0,\"ticks\":\"\"},\"colorscale\":[[0.0,\"#0d0887\"],[0.1111111111111111,\"#46039f\"],[0.2222222222222222,\"#7201a8\"],[0.3333333333333333,\"#9c179e\"],[0.4444444444444444,\"#bd3786\"],[0.5555555555555556,\"#d8576b\"],[0.6666666666666666,\"#ed7953\"],[0.7777777777777778,\"#fb9f3a\"],[0.8888888888888888,\"#fdca26\"],[1.0,\"#f0f921\"]],\"type\":\"heatmap\"}],\"histogram2dcontour\":[{\"colorbar\":{\"outlinewidth\":0,\"ticks\":\"\"},\"colorscale\":[[0.0,\"#0d0887\"],[0.1111111111111111,\"#46039f\"],[0.2222222222222222,\"#7201a8\"],[0.3333333333333333,\"#9c179e\"],[0.4444444444444444,\"#bd3786\"],[0.5555555555555556,\"#d8576b\"],[0.6666666666666666,\"#ed7953\"],[0.7777777777777778,\"#fb9f3a\"],[0.8888888888888888,\"#fdca26\"],[1.0,\"#f0f921\"]],\"type\":\"histogram2dcontour\"}],\"histogram2d\":[{\"colorbar\":{\"outlinewidth\":0,\"ticks\":\"\"},\"colorscale\":[[0.0,\"#0d0887\"],[0.1111111111111111,\"#46039f\"],[0.2222222222222222,\"#7201a8\"],[0.3333333333333333,\"#9c179e\"],[0.4444444444444444,\"#bd3786\"],[0.5555555555555556,\"#d8576b\"],[0.6666666666666666,\"#ed7953\"],[0.7777777777777778,\"#fb9f3a\"],[0.8888888888888888,\"#fdca26\"],[1.0,\"#f0f921\"]],\"type\":\"histogram2d\"}],\"histogram\":[{\"marker\":{\"pattern\":{\"fillmode\":\"overlay\",\"size\":10,\"solidity\":0.2}},\"type\":\"histogram\"}],\"mesh3d\":[{\"colorbar\":{\"outlinewidth\":0,\"ticks\":\"\"},\"type\":\"mesh3d\"}],\"parcoords\":[{\"line\":{\"colorbar\":{\"outlinewidth\":0,\"ticks\":\"\"}},\"type\":\"parcoords\"}],\"pie\":[{\"automargin\":true,\"type\":\"pie\"}],\"scatter3d\":[{\"line\":{\"colorbar\":{\"outlinewidth\":0,\"ticks\":\"\"}},\"marker\":{\"colorbar\":{\"outlinewidth\":0,\"ticks\":\"\"}},\"type\":\"scatter3d\"}],\"scattercarpet\":[{\"marker\":{\"colorbar\":{\"outlinewidth\":0,\"ticks\":\"\"}},\"type\":\"scattercarpet\"}],\"scattergeo\":[{\"marker\":{\"colorbar\":{\"outlinewidth\":0,\"ticks\":\"\"}},\"type\":\"scattergeo\"}],\"scattergl\":[{\"marker\":{\"colorbar\":{\"outlinewidth\":0,\"ticks\":\"\"}},\"type\":\"scattergl\"}],\"scattermapbox\":[{\"marker\":{\"colorbar\":{\"outlinewidth\":0,\"ticks\":\"\"}},\"type\":\"scattermapbox\"}],\"scatterpolargl\":[{\"marker\":{\"colorbar\":{\"outlinewidth\":0,\"ticks\":\"\"}},\"type\":\"scatterpolargl\"}],\"scatterpolar\":[{\"marker\":{\"colorbar\":{\"outlinewidth\":0,\"ticks\":\"\"}},\"type\":\"scatterpolar\"}],\"scatter\":[{\"fillpattern\":{\"fillmode\":\"overlay\",\"size\":10,\"solidity\":0.2},\"type\":\"scatter\"}],\"scatterternary\":[{\"marker\":{\"colorbar\":{\"outlinewidth\":0,\"ticks\":\"\"}},\"type\":\"scatterternary\"}],\"surface\":[{\"colorbar\":{\"outlinewidth\":0,\"ticks\":\"\"},\"colorscale\":[[0.0,\"#0d0887\"],[0.1111111111111111,\"#46039f\"],[0.2222222222222222,\"#7201a8\"],[0.3333333333333333,\"#9c179e\"],[0.4444444444444444,\"#bd3786\"],[0.5555555555555556,\"#d8576b\"],[0.6666666666666666,\"#ed7953\"],[0.7777777777777778,\"#fb9f3a\"],[0.8888888888888888,\"#fdca26\"],[1.0,\"#f0f921\"]],\"type\":\"surface\"}],\"table\":[{\"cells\":{\"fill\":{\"color\":\"#EBF0F8\"},\"line\":{\"color\":\"white\"}},\"header\":{\"fill\":{\"color\":\"#C8D4E3\"},\"line\":{\"color\":\"white\"}},\"type\":\"table\"}]},\"layout\":{\"annotationdefaults\":{\"arrowcolor\":\"#2a3f5f\",\"arrowhead\":0,\"arrowwidth\":1},\"autotypenumbers\":\"strict\",\"coloraxis\":{\"colorbar\":{\"outlinewidth\":0,\"ticks\":\"\"}},\"colorscale\":{\"diverging\":[[0,\"#8e0152\"],[0.1,\"#c51b7d\"],[0.2,\"#de77ae\"],[0.3,\"#f1b6da\"],[0.4,\"#fde0ef\"],[0.5,\"#f7f7f7\"],[0.6,\"#e6f5d0\"],[0.7,\"#b8e186\"],[0.8,\"#7fbc41\"],[0.9,\"#4d9221\"],[1,\"#276419\"]],\"sequential\":[[0.0,\"#0d0887\"],[0.1111111111111111,\"#46039f\"],[0.2222222222222222,\"#7201a8\"],[0.3333333333333333,\"#9c179e\"],[0.4444444444444444,\"#bd3786\"],[0.5555555555555556,\"#d8576b\"],[0.6666666666666666,\"#ed7953\"],[0.7777777777777778,\"#fb9f3a\"],[0.8888888888888888,\"#fdca26\"],[1.0,\"#f0f921\"]],\"sequentialminus\":[[0.0,\"#0d0887\"],[0.1111111111111111,\"#46039f\"],[0.2222222222222222,\"#7201a8\"],[0.3333333333333333,\"#9c179e\"],[0.4444444444444444,\"#bd3786\"],[0.5555555555555556,\"#d8576b\"],[0.6666666666666666,\"#ed7953\"],[0.7777777777777778,\"#fb9f3a\"],[0.8888888888888888,\"#fdca26\"],[1.0,\"#f0f921\"]]},\"colorway\":[\"#636efa\",\"#EF553B\",\"#00cc96\",\"#ab63fa\",\"#FFA15A\",\"#19d3f3\",\"#FF6692\",\"#B6E880\",\"#FF97FF\",\"#FECB52\"],\"font\":{\"color\":\"#2a3f5f\"},\"geo\":{\"bgcolor\":\"white\",\"lakecolor\":\"white\",\"landcolor\":\"#E5ECF6\",\"showlakes\":true,\"showland\":true,\"subunitcolor\":\"white\"},\"hoverlabel\":{\"align\":\"left\"},\"hovermode\":\"closest\",\"mapbox\":{\"style\":\"light\"},\"paper_bgcolor\":\"white\",\"plot_bgcolor\":\"#E5ECF6\",\"polar\":{\"angularaxis\":{\"gridcolor\":\"white\",\"linecolor\":\"white\",\"ticks\":\"\"},\"bgcolor\":\"#E5ECF6\",\"radialaxis\":{\"gridcolor\":\"white\",\"linecolor\":\"white\",\"ticks\":\"\"}},\"scene\":{\"xaxis\":{\"backgroundcolor\":\"#E5ECF6\",\"gridcolor\":\"white\",\"gridwidth\":2,\"linecolor\":\"white\",\"showbackground\":true,\"ticks\":\"\",\"zerolinecolor\":\"white\"},\"yaxis\":{\"backgroundcolor\":\"#E5ECF6\",\"gridcolor\":\"white\",\"gridwidth\":2,\"linecolor\":\"white\",\"showbackground\":true,\"ticks\":\"\",\"zerolinecolor\":\"white\"},\"zaxis\":{\"backgroundcolor\":\"#E5ECF6\",\"gridcolor\":\"white\",\"gridwidth\":2,\"linecolor\":\"white\",\"showbackground\":true,\"ticks\":\"\",\"zerolinecolor\":\"white\"}},\"shapedefaults\":{\"line\":{\"color\":\"#2a3f5f\"}},\"ternary\":{\"aaxis\":{\"gridcolor\":\"white\",\"linecolor\":\"white\",\"ticks\":\"\"},\"baxis\":{\"gridcolor\":\"white\",\"linecolor\":\"white\",\"ticks\":\"\"},\"bgcolor\":\"#E5ECF6\",\"caxis\":{\"gridcolor\":\"white\",\"linecolor\":\"white\",\"ticks\":\"\"}},\"title\":{\"x\":0.05},\"xaxis\":{\"automargin\":true,\"gridcolor\":\"white\",\"linecolor\":\"white\",\"ticks\":\"\",\"title\":{\"standoff\":15},\"zerolinecolor\":\"white\",\"zerolinewidth\":2},\"yaxis\":{\"automargin\":true,\"gridcolor\":\"white\",\"linecolor\":\"white\",\"ticks\":\"\",\"title\":{\"standoff\":15},\"zerolinecolor\":\"white\",\"zerolinewidth\":2}}},\"title\":{\"text\":\"Comparison of true prices (on the test dataset) with prices our model predicted, by dates\"},\"xaxis\":{\"title\":{\"text\":\"Date\"}},\"yaxis\":{\"title\":{\"text\":\"Price, USD\"}}},                        {\"responsive\": true}                    ).then(function(){\n",
       "                            \n",
       "var gd = document.getElementById('331340c5-f5ef-4492-b4e9-0f02e4fbb129');\n",
       "var x = new MutationObserver(function (mutations, observer) {{\n",
       "        var display = window.getComputedStyle(gd).display;\n",
       "        if (!display || display === 'none') {{\n",
       "            console.log([gd, 'removed!']);\n",
       "            Plotly.purge(gd);\n",
       "            observer.disconnect();\n",
       "        }}\n",
       "}});\n",
       "\n",
       "// Listen for the removal of the full notebook cells\n",
       "var notebookContainer = gd.closest('#notebook-container');\n",
       "if (notebookContainer) {{\n",
       "    x.observe(notebookContainer, {childList: true});\n",
       "}}\n",
       "\n",
       "// Listen for the clearing of the current output cell\n",
       "var outputEl = gd.closest('.output');\n",
       "if (outputEl) {{\n",
       "    x.observe(outputEl, {childList: true});\n",
       "}}\n",
       "\n",
       "                        })                };                });            </script>        </div>"
      ]
     },
     "metadata": {},
     "output_type": "display_data"
    }
   ],
   "source": [
    "trace1 = go.Scatter(x=Test_Dates, y=Y_test2_inverse, name= 'Actual Price', \n",
    "                   line = dict(color = ('rgb(66, 244, 155)'),width = 2))\n",
    "trace2 = go.Scatter(x=Test_Dates, y=predictions_new, name= 'Predicted Price',\n",
    "                   line = dict(color = ('rgb(244, 146, 65)'),width = 2))\n",
    "data = [trace1, trace2]\n",
    "layout = dict(title = 'Comparison of true prices (on the test dataset) with prices our model predicted, by dates',\n",
    "             xaxis = dict(title = 'Date'), yaxis = dict(title = 'Price, USD'))\n",
    "fig = dict(data=data, layout=layout)\n",
    "py.iplot(fig, filename='results_demonstrating2')"
   ]
  },
  {
   "cell_type": "markdown",
   "metadata": {
    "_cell_guid": "2d019594-10af-4bb5-b259-3397a49a5640",
    "_uuid": "e1578f88ce7d3c629d5733ff883e44f1bdf9936e"
   },
   "source": [
    "Let's calculate symmetric mean absolute percentage error ([SMAPE](https://en.wikipedia.org/wiki/Symmetric_mean_absolute_percentage_error)). It will show how good our predictions are in percentage. We define function *symmetric_mean_absolute_percentage_error*, which will perform all necessary calculations."
   ]
  },
  {
   "cell_type": "code",
   "execution_count": 29,
   "metadata": {
    "_cell_guid": "47bfa79a-cb13-4e44-9959-f8841047f586",
    "_uuid": "8e7a59564e01570a0fed588c04ef446b5e5b440e"
   },
   "outputs": [
    {
     "name": "stdout",
     "output_type": "stream",
     "text": [
      "Test SMAPE (percentage): 0.788\n"
     ]
    }
   ],
   "source": [
    "def symmetric_mean_absolute_percentage_error(y_true, y_pred, epsilon = 1e-8): \n",
    "    return np.mean(np.abs(y_pred - y_true) / ((np.abs(y_true) + np.abs(y_pred))/2 + epsilon)) * 100\n",
    "\n",
    "SMAPE = symmetric_mean_absolute_percentage_error(Y_test2_inverse, predictions_new)\n",
    "\n",
    "print('Test SMAPE (percentage): %.3f' % SMAPE)"
   ]
  },
  {
   "cell_type": "markdown",
   "metadata": {
    "_cell_guid": "8f8bae5c-d62a-45f0-859c-90815619d276",
    "_uuid": "93ef101715979d4ea2f7d34f33eede05ef10296a"
   },
   "source": [
    "We can see that our SMAPE is less than 1%, which means that the error of our model is very small. "
   ]
  },
  {
   "cell_type": "markdown",
   "metadata": {
    "_cell_guid": "818fd64b-e427-4e82-bd27-dc02142ca14d",
    "_uuid": "707f32b5e7d08b920158d685c706d8264e5a58ff"
   },
   "source": [
    "In this notebook, we trained the 2-layers Long Short Term Memory Neural Network as well as Gated Recurrent Unit Neural Network using Bitcoin Historical Data. These models can be used to predict future price movements of bitcoin. The performance of the models is quite good. On average, both models considered here, makes an error measured only in tens of USD. \n",
    " \n",
    " \n",
    " *Tags: Bitcoin, neural networks, machine learning, forecast, prediction, LSTM, GRU, RNN*"
   ]
  }
 ],
 "metadata": {
  "kernelspec": {
   "display_name": "Python 3 (ipykernel)",
   "language": "python",
   "name": "python3"
  },
  "language_info": {
   "codemirror_mode": {
    "name": "ipython",
    "version": 3
   },
   "file_extension": ".py",
   "mimetype": "text/x-python",
   "name": "python",
   "nbconvert_exporter": "python",
   "pygments_lexer": "ipython3",
   "version": "3.11.4"
  }
 },
 "nbformat": 4,
 "nbformat_minor": 4
}
